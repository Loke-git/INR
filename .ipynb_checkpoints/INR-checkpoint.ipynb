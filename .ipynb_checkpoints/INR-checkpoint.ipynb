{
 "cells": [
  {
   "cell_type": "markdown",
   "id": "95f23ff9",
   "metadata": {},
   "source": [
    "# Ibsen Network Reader 0.1.1"
   ]
  },
  {
   "cell_type": "code",
   "execution_count": 1,
   "id": "1db5faad",
   "metadata": {},
   "outputs": [
    {
     "data": {
      "text/html": [
       "\n",
       "    <div class=\"bk-root\">\n",
       "        <a href=\"https://bokeh.org\" target=\"_blank\" class=\"bk-logo bk-logo-small bk-logo-notebook\"></a>\n",
       "        <span id=\"1002\">Loading BokehJS ...</span>\n",
       "    </div>"
      ]
     },
     "metadata": {},
     "output_type": "display_data"
    },
    {
     "data": {
      "application/javascript": [
       "\n",
       "(function(root) {\n",
       "  function now() {\n",
       "    return new Date();\n",
       "  }\n",
       "\n",
       "  var force = true;\n",
       "\n",
       "  if (typeof root._bokeh_onload_callbacks === \"undefined\" || force === true) {\n",
       "    root._bokeh_onload_callbacks = [];\n",
       "    root._bokeh_is_loading = undefined;\n",
       "  }\n",
       "\n",
       "  var JS_MIME_TYPE = 'application/javascript';\n",
       "  var HTML_MIME_TYPE = 'text/html';\n",
       "  var EXEC_MIME_TYPE = 'application/vnd.bokehjs_exec.v0+json';\n",
       "  var CLASS_NAME = 'output_bokeh rendered_html';\n",
       "\n",
       "  /**\n",
       "   * Render data to the DOM node\n",
       "   */\n",
       "  function render(props, node) {\n",
       "    var script = document.createElement(\"script\");\n",
       "    node.appendChild(script);\n",
       "  }\n",
       "\n",
       "  /**\n",
       "   * Handle when an output is cleared or removed\n",
       "   */\n",
       "  function handleClearOutput(event, handle) {\n",
       "    var cell = handle.cell;\n",
       "\n",
       "    var id = cell.output_area._bokeh_element_id;\n",
       "    var server_id = cell.output_area._bokeh_server_id;\n",
       "    // Clean up Bokeh references\n",
       "    if (id != null && id in Bokeh.index) {\n",
       "      Bokeh.index[id].model.document.clear();\n",
       "      delete Bokeh.index[id];\n",
       "    }\n",
       "\n",
       "    if (server_id !== undefined) {\n",
       "      // Clean up Bokeh references\n",
       "      var cmd = \"from bokeh.io.state import curstate; print(curstate().uuid_to_server['\" + server_id + \"'].get_sessions()[0].document.roots[0]._id)\";\n",
       "      cell.notebook.kernel.execute(cmd, {\n",
       "        iopub: {\n",
       "          output: function(msg) {\n",
       "            var id = msg.content.text.trim();\n",
       "            if (id in Bokeh.index) {\n",
       "              Bokeh.index[id].model.document.clear();\n",
       "              delete Bokeh.index[id];\n",
       "            }\n",
       "          }\n",
       "        }\n",
       "      });\n",
       "      // Destroy server and session\n",
       "      var cmd = \"import bokeh.io.notebook as ion; ion.destroy_server('\" + server_id + \"')\";\n",
       "      cell.notebook.kernel.execute(cmd);\n",
       "    }\n",
       "  }\n",
       "\n",
       "  /**\n",
       "   * Handle when a new output is added\n",
       "   */\n",
       "  function handleAddOutput(event, handle) {\n",
       "    var output_area = handle.output_area;\n",
       "    var output = handle.output;\n",
       "\n",
       "    // limit handleAddOutput to display_data with EXEC_MIME_TYPE content only\n",
       "    if ((output.output_type != \"display_data\") || (!Object.prototype.hasOwnProperty.call(output.data, EXEC_MIME_TYPE))) {\n",
       "      return\n",
       "    }\n",
       "\n",
       "    var toinsert = output_area.element.find(\".\" + CLASS_NAME.split(' ')[0]);\n",
       "\n",
       "    if (output.metadata[EXEC_MIME_TYPE][\"id\"] !== undefined) {\n",
       "      toinsert[toinsert.length - 1].firstChild.textContent = output.data[JS_MIME_TYPE];\n",
       "      // store reference to embed id on output_area\n",
       "      output_area._bokeh_element_id = output.metadata[EXEC_MIME_TYPE][\"id\"];\n",
       "    }\n",
       "    if (output.metadata[EXEC_MIME_TYPE][\"server_id\"] !== undefined) {\n",
       "      var bk_div = document.createElement(\"div\");\n",
       "      bk_div.innerHTML = output.data[HTML_MIME_TYPE];\n",
       "      var script_attrs = bk_div.children[0].attributes;\n",
       "      for (var i = 0; i < script_attrs.length; i++) {\n",
       "        toinsert[toinsert.length - 1].firstChild.setAttribute(script_attrs[i].name, script_attrs[i].value);\n",
       "        toinsert[toinsert.length - 1].firstChild.textContent = bk_div.children[0].textContent\n",
       "      }\n",
       "      // store reference to server id on output_area\n",
       "      output_area._bokeh_server_id = output.metadata[EXEC_MIME_TYPE][\"server_id\"];\n",
       "    }\n",
       "  }\n",
       "\n",
       "  function register_renderer(events, OutputArea) {\n",
       "\n",
       "    function append_mime(data, metadata, element) {\n",
       "      // create a DOM node to render to\n",
       "      var toinsert = this.create_output_subarea(\n",
       "        metadata,\n",
       "        CLASS_NAME,\n",
       "        EXEC_MIME_TYPE\n",
       "      );\n",
       "      this.keyboard_manager.register_events(toinsert);\n",
       "      // Render to node\n",
       "      var props = {data: data, metadata: metadata[EXEC_MIME_TYPE]};\n",
       "      render(props, toinsert[toinsert.length - 1]);\n",
       "      element.append(toinsert);\n",
       "      return toinsert\n",
       "    }\n",
       "\n",
       "    /* Handle when an output is cleared or removed */\n",
       "    events.on('clear_output.CodeCell', handleClearOutput);\n",
       "    events.on('delete.Cell', handleClearOutput);\n",
       "\n",
       "    /* Handle when a new output is added */\n",
       "    events.on('output_added.OutputArea', handleAddOutput);\n",
       "\n",
       "    /**\n",
       "     * Register the mime type and append_mime function with output_area\n",
       "     */\n",
       "    OutputArea.prototype.register_mime_type(EXEC_MIME_TYPE, append_mime, {\n",
       "      /* Is output safe? */\n",
       "      safe: true,\n",
       "      /* Index of renderer in `output_area.display_order` */\n",
       "      index: 0\n",
       "    });\n",
       "  }\n",
       "\n",
       "  // register the mime type if in Jupyter Notebook environment and previously unregistered\n",
       "  if (root.Jupyter !== undefined) {\n",
       "    var events = require('base/js/events');\n",
       "    var OutputArea = require('notebook/js/outputarea').OutputArea;\n",
       "\n",
       "    if (OutputArea.prototype.mime_types().indexOf(EXEC_MIME_TYPE) == -1) {\n",
       "      register_renderer(events, OutputArea);\n",
       "    }\n",
       "  }\n",
       "\n",
       "  \n",
       "  if (typeof (root._bokeh_timeout) === \"undefined\" || force === true) {\n",
       "    root._bokeh_timeout = Date.now() + 5000;\n",
       "    root._bokeh_failed_load = false;\n",
       "  }\n",
       "\n",
       "  var NB_LOAD_WARNING = {'data': {'text/html':\n",
       "     \"<div style='background-color: #fdd'>\\n\"+\n",
       "     \"<p>\\n\"+\n",
       "     \"BokehJS does not appear to have successfully loaded. If loading BokehJS from CDN, this \\n\"+\n",
       "     \"may be due to a slow or bad network connection. Possible fixes:\\n\"+\n",
       "     \"</p>\\n\"+\n",
       "     \"<ul>\\n\"+\n",
       "     \"<li>re-rerun `output_notebook()` to attempt to load from CDN again, or</li>\\n\"+\n",
       "     \"<li>use INLINE resources instead, as so:</li>\\n\"+\n",
       "     \"</ul>\\n\"+\n",
       "     \"<code>\\n\"+\n",
       "     \"from bokeh.resources import INLINE\\n\"+\n",
       "     \"output_notebook(resources=INLINE)\\n\"+\n",
       "     \"</code>\\n\"+\n",
       "     \"</div>\"}};\n",
       "\n",
       "  function display_loaded() {\n",
       "    var el = document.getElementById(\"1002\");\n",
       "    if (el != null) {\n",
       "      el.textContent = \"BokehJS is loading...\";\n",
       "    }\n",
       "    if (root.Bokeh !== undefined) {\n",
       "      if (el != null) {\n",
       "        el.textContent = \"BokehJS \" + root.Bokeh.version + \" successfully loaded.\";\n",
       "      }\n",
       "    } else if (Date.now() < root._bokeh_timeout) {\n",
       "      setTimeout(display_loaded, 100)\n",
       "    }\n",
       "  }\n",
       "\n",
       "\n",
       "  function run_callbacks() {\n",
       "    try {\n",
       "      root._bokeh_onload_callbacks.forEach(function(callback) {\n",
       "        if (callback != null)\n",
       "          callback();\n",
       "      });\n",
       "    } finally {\n",
       "      delete root._bokeh_onload_callbacks\n",
       "    }\n",
       "    console.debug(\"Bokeh: all callbacks have finished\");\n",
       "  }\n",
       "\n",
       "  function load_libs(css_urls, js_urls, callback) {\n",
       "    if (css_urls == null) css_urls = [];\n",
       "    if (js_urls == null) js_urls = [];\n",
       "\n",
       "    root._bokeh_onload_callbacks.push(callback);\n",
       "    if (root._bokeh_is_loading > 0) {\n",
       "      console.debug(\"Bokeh: BokehJS is being loaded, scheduling callback at\", now());\n",
       "      return null;\n",
       "    }\n",
       "    if (js_urls == null || js_urls.length === 0) {\n",
       "      run_callbacks();\n",
       "      return null;\n",
       "    }\n",
       "    console.debug(\"Bokeh: BokehJS not loaded, scheduling load and callback at\", now());\n",
       "    root._bokeh_is_loading = css_urls.length + js_urls.length;\n",
       "\n",
       "    function on_load() {\n",
       "      root._bokeh_is_loading--;\n",
       "      if (root._bokeh_is_loading === 0) {\n",
       "        console.debug(\"Bokeh: all BokehJS libraries/stylesheets loaded\");\n",
       "        run_callbacks()\n",
       "      }\n",
       "    }\n",
       "\n",
       "    function on_error(url) {\n",
       "      console.error(\"failed to load \" + url);\n",
       "    }\n",
       "\n",
       "    for (let i = 0; i < css_urls.length; i++) {\n",
       "      const url = css_urls[i];\n",
       "      const element = document.createElement(\"link\");\n",
       "      element.onload = on_load;\n",
       "      element.onerror = on_error.bind(null, url);\n",
       "      element.rel = \"stylesheet\";\n",
       "      element.type = \"text/css\";\n",
       "      element.href = url;\n",
       "      console.debug(\"Bokeh: injecting link tag for BokehJS stylesheet: \", url);\n",
       "      document.body.appendChild(element);\n",
       "    }\n",
       "\n",
       "    const hashes = {\"https://cdn.bokeh.org/bokeh/release/bokeh-2.3.2.min.js\": \"XypntL49z55iwGVUW4qsEu83zKL3XEcz0MjuGOQ9SlaaQ68X/g+k1FcioZi7oQAc\", \"https://cdn.bokeh.org/bokeh/release/bokeh-tables-2.3.2.min.js\": \"bEsM86IHGDTLCS0Zod8a8WM6Y4+lafAL/eSiyQcuPzinmWNgNO2/olUF0Z2Dkn5i\", \"https://cdn.bokeh.org/bokeh/release/bokeh-widgets-2.3.2.min.js\": \"TX0gSQTdXTTeScqxj6PVQxTiRW8DOoGVwinyi1D3kxv7wuxQ02XkOxv0xwiypcAH\"};\n",
       "\n",
       "    for (let i = 0; i < js_urls.length; i++) {\n",
       "      const url = js_urls[i];\n",
       "      const element = document.createElement('script');\n",
       "      element.onload = on_load;\n",
       "      element.onerror = on_error.bind(null, url);\n",
       "      element.async = false;\n",
       "      element.src = url;\n",
       "      if (url in hashes) {\n",
       "        element.crossOrigin = \"anonymous\";\n",
       "        element.integrity = \"sha384-\" + hashes[url];\n",
       "      }\n",
       "      console.debug(\"Bokeh: injecting script tag for BokehJS library: \", url);\n",
       "      document.head.appendChild(element);\n",
       "    }\n",
       "  };\n",
       "\n",
       "  function inject_raw_css(css) {\n",
       "    const element = document.createElement(\"style\");\n",
       "    element.appendChild(document.createTextNode(css));\n",
       "    document.body.appendChild(element);\n",
       "  }\n",
       "\n",
       "  \n",
       "  var js_urls = [\"https://cdn.bokeh.org/bokeh/release/bokeh-2.3.2.min.js\", \"https://cdn.bokeh.org/bokeh/release/bokeh-widgets-2.3.2.min.js\", \"https://cdn.bokeh.org/bokeh/release/bokeh-tables-2.3.2.min.js\"];\n",
       "  var css_urls = [];\n",
       "  \n",
       "\n",
       "  var inline_js = [\n",
       "    function(Bokeh) {\n",
       "      Bokeh.set_log_level(\"info\");\n",
       "    },\n",
       "    function(Bokeh) {\n",
       "    \n",
       "    \n",
       "    }\n",
       "  ];\n",
       "\n",
       "  function run_inline_js() {\n",
       "    \n",
       "    if (root.Bokeh !== undefined || force === true) {\n",
       "      \n",
       "    for (var i = 0; i < inline_js.length; i++) {\n",
       "      inline_js[i].call(root, root.Bokeh);\n",
       "    }\n",
       "    if (force === true) {\n",
       "        display_loaded();\n",
       "      }} else if (Date.now() < root._bokeh_timeout) {\n",
       "      setTimeout(run_inline_js, 100);\n",
       "    } else if (!root._bokeh_failed_load) {\n",
       "      console.log(\"Bokeh: BokehJS failed to load within specified timeout.\");\n",
       "      root._bokeh_failed_load = true;\n",
       "    } else if (force !== true) {\n",
       "      var cell = $(document.getElementById(\"1002\")).parents('.cell').data().cell;\n",
       "      cell.output_area.append_execute_result(NB_LOAD_WARNING)\n",
       "    }\n",
       "\n",
       "  }\n",
       "\n",
       "  if (root._bokeh_is_loading === 0) {\n",
       "    console.debug(\"Bokeh: BokehJS loaded, going straight to plotting\");\n",
       "    run_inline_js();\n",
       "  } else {\n",
       "    load_libs(css_urls, js_urls, function() {\n",
       "      console.debug(\"Bokeh: BokehJS plotting callback run at\", now());\n",
       "      run_inline_js();\n",
       "    });\n",
       "  }\n",
       "}(window));"
      ],
      "application/vnd.bokehjs_load.v0+json": "\n(function(root) {\n  function now() {\n    return new Date();\n  }\n\n  var force = true;\n\n  if (typeof root._bokeh_onload_callbacks === \"undefined\" || force === true) {\n    root._bokeh_onload_callbacks = [];\n    root._bokeh_is_loading = undefined;\n  }\n\n  \n\n  \n  if (typeof (root._bokeh_timeout) === \"undefined\" || force === true) {\n    root._bokeh_timeout = Date.now() + 5000;\n    root._bokeh_failed_load = false;\n  }\n\n  var NB_LOAD_WARNING = {'data': {'text/html':\n     \"<div style='background-color: #fdd'>\\n\"+\n     \"<p>\\n\"+\n     \"BokehJS does not appear to have successfully loaded. If loading BokehJS from CDN, this \\n\"+\n     \"may be due to a slow or bad network connection. Possible fixes:\\n\"+\n     \"</p>\\n\"+\n     \"<ul>\\n\"+\n     \"<li>re-rerun `output_notebook()` to attempt to load from CDN again, or</li>\\n\"+\n     \"<li>use INLINE resources instead, as so:</li>\\n\"+\n     \"</ul>\\n\"+\n     \"<code>\\n\"+\n     \"from bokeh.resources import INLINE\\n\"+\n     \"output_notebook(resources=INLINE)\\n\"+\n     \"</code>\\n\"+\n     \"</div>\"}};\n\n  function display_loaded() {\n    var el = document.getElementById(\"1002\");\n    if (el != null) {\n      el.textContent = \"BokehJS is loading...\";\n    }\n    if (root.Bokeh !== undefined) {\n      if (el != null) {\n        el.textContent = \"BokehJS \" + root.Bokeh.version + \" successfully loaded.\";\n      }\n    } else if (Date.now() < root._bokeh_timeout) {\n      setTimeout(display_loaded, 100)\n    }\n  }\n\n\n  function run_callbacks() {\n    try {\n      root._bokeh_onload_callbacks.forEach(function(callback) {\n        if (callback != null)\n          callback();\n      });\n    } finally {\n      delete root._bokeh_onload_callbacks\n    }\n    console.debug(\"Bokeh: all callbacks have finished\");\n  }\n\n  function load_libs(css_urls, js_urls, callback) {\n    if (css_urls == null) css_urls = [];\n    if (js_urls == null) js_urls = [];\n\n    root._bokeh_onload_callbacks.push(callback);\n    if (root._bokeh_is_loading > 0) {\n      console.debug(\"Bokeh: BokehJS is being loaded, scheduling callback at\", now());\n      return null;\n    }\n    if (js_urls == null || js_urls.length === 0) {\n      run_callbacks();\n      return null;\n    }\n    console.debug(\"Bokeh: BokehJS not loaded, scheduling load and callback at\", now());\n    root._bokeh_is_loading = css_urls.length + js_urls.length;\n\n    function on_load() {\n      root._bokeh_is_loading--;\n      if (root._bokeh_is_loading === 0) {\n        console.debug(\"Bokeh: all BokehJS libraries/stylesheets loaded\");\n        run_callbacks()\n      }\n    }\n\n    function on_error(url) {\n      console.error(\"failed to load \" + url);\n    }\n\n    for (let i = 0; i < css_urls.length; i++) {\n      const url = css_urls[i];\n      const element = document.createElement(\"link\");\n      element.onload = on_load;\n      element.onerror = on_error.bind(null, url);\n      element.rel = \"stylesheet\";\n      element.type = \"text/css\";\n      element.href = url;\n      console.debug(\"Bokeh: injecting link tag for BokehJS stylesheet: \", url);\n      document.body.appendChild(element);\n    }\n\n    const hashes = {\"https://cdn.bokeh.org/bokeh/release/bokeh-2.3.2.min.js\": \"XypntL49z55iwGVUW4qsEu83zKL3XEcz0MjuGOQ9SlaaQ68X/g+k1FcioZi7oQAc\", \"https://cdn.bokeh.org/bokeh/release/bokeh-tables-2.3.2.min.js\": \"bEsM86IHGDTLCS0Zod8a8WM6Y4+lafAL/eSiyQcuPzinmWNgNO2/olUF0Z2Dkn5i\", \"https://cdn.bokeh.org/bokeh/release/bokeh-widgets-2.3.2.min.js\": \"TX0gSQTdXTTeScqxj6PVQxTiRW8DOoGVwinyi1D3kxv7wuxQ02XkOxv0xwiypcAH\"};\n\n    for (let i = 0; i < js_urls.length; i++) {\n      const url = js_urls[i];\n      const element = document.createElement('script');\n      element.onload = on_load;\n      element.onerror = on_error.bind(null, url);\n      element.async = false;\n      element.src = url;\n      if (url in hashes) {\n        element.crossOrigin = \"anonymous\";\n        element.integrity = \"sha384-\" + hashes[url];\n      }\n      console.debug(\"Bokeh: injecting script tag for BokehJS library: \", url);\n      document.head.appendChild(element);\n    }\n  };\n\n  function inject_raw_css(css) {\n    const element = document.createElement(\"style\");\n    element.appendChild(document.createTextNode(css));\n    document.body.appendChild(element);\n  }\n\n  \n  var js_urls = [\"https://cdn.bokeh.org/bokeh/release/bokeh-2.3.2.min.js\", \"https://cdn.bokeh.org/bokeh/release/bokeh-widgets-2.3.2.min.js\", \"https://cdn.bokeh.org/bokeh/release/bokeh-tables-2.3.2.min.js\"];\n  var css_urls = [];\n  \n\n  var inline_js = [\n    function(Bokeh) {\n      Bokeh.set_log_level(\"info\");\n    },\n    function(Bokeh) {\n    \n    \n    }\n  ];\n\n  function run_inline_js() {\n    \n    if (root.Bokeh !== undefined || force === true) {\n      \n    for (var i = 0; i < inline_js.length; i++) {\n      inline_js[i].call(root, root.Bokeh);\n    }\n    if (force === true) {\n        display_loaded();\n      }} else if (Date.now() < root._bokeh_timeout) {\n      setTimeout(run_inline_js, 100);\n    } else if (!root._bokeh_failed_load) {\n      console.log(\"Bokeh: BokehJS failed to load within specified timeout.\");\n      root._bokeh_failed_load = true;\n    } else if (force !== true) {\n      var cell = $(document.getElementById(\"1002\")).parents('.cell').data().cell;\n      cell.output_area.append_execute_result(NB_LOAD_WARNING)\n    }\n\n  }\n\n  if (root._bokeh_is_loading === 0) {\n    console.debug(\"Bokeh: BokehJS loaded, going straight to plotting\");\n    run_inline_js();\n  } else {\n    load_libs(css_urls, js_urls, function() {\n      console.debug(\"Bokeh: BokehJS plotting callback run at\", now());\n      run_inline_js();\n    });\n  }\n}(window));"
     },
     "metadata": {},
     "output_type": "display_data"
    }
   ],
   "source": [
    "import pandas as pd # PANDAS!\n",
    "from bokeh.plotting import figure, show, output_notebook, output_file, reset_output # bøkke\n",
    "import re # Regex\n",
    "from datetime import datetime # Jeg vet det. Ja, du må faktisk.\n",
    "output_notebook() # bøkke i notatbok"
   ]
  },
  {
   "cell_type": "markdown",
   "id": "335d94c3",
   "metadata": {},
   "source": [
    "## Cumulative vs point data\n",
    "Set mode=\"cumulative\" for cumulative plots, and \"point\" for point plots (per-year etc)\n",
    "\n",
    "I know that it's jank, but that's how it do rn."
   ]
  },
  {
   "cell_type": "code",
   "execution_count": 2,
   "id": "16e64eb6",
   "metadata": {},
   "outputs": [],
   "source": [
    "#mode=\"cumulative\"\n",
    "mode=\"single\""
   ]
  },
  {
   "cell_type": "markdown",
   "id": "05d5487f",
   "metadata": {},
   "source": [
    "## Hent data...\n",
    "...omdøp kolonner, fiks datatypen til noen kolonner."
   ]
  },
  {
   "cell_type": "code",
   "execution_count": 3,
   "id": "fe611d18",
   "metadata": {},
   "outputs": [],
   "source": [
    "import glob\n",
    "paths = []\n",
    "outputs = []\n",
    "for path in glob.glob('csv/**/*.csv', recursive=True):\n",
    "    paths.append(path)\n",
    "#paths er liste over stier til filer i SRC\n",
    "\n",
    "for path in paths:\n",
    "    path = path.replace('csv','output')\n",
    "    outputs.append(path)\n",
    "#outputs er liste over stier til nye filer\n",
    "\n",
    "brev = pd.read_csv(paths[0])\n",
    "personer = pd.read_csv(paths[1])\n",
    "dfs = [brev,personer]\n",
    "for df in dfs:\n",
    "    df.fillna(0,inplace=True)\n",
    "personer.columns = ['xmlID', 'wikidata', 'viaf', 'nhrp', 'fornavn', 'etternavn',\n",
    "       'navn', 'birthday', 'deathday', 'type', 'instance',\n",
    "       'sex', 'nationality', 'job', 'receiveds',\n",
    "       'mentions', 'desc', 'partner', 'partnerID']\n",
    "integers = ['birthday','deathday','receiveds','mentions']\n",
    "for a in integers:\n",
    "    personer[a] = personer[a].astype(int)\n",
    "brev.columns = ['letterID', 'senderID', 'sender', 'recipientID',\n",
    "       'recipient', 'date', 'dispatch', 'dispatchabbr',\n",
    "       'geonameID', 'toponymName', 'country', 'lat', 'lon',\n",
    "       'address', 'location', 'locationabbr',\n",
    "       'tolat', 'tolon',\n",
    "       'mentionIDs', 'mentions', 'mentionORGID',\n",
    "       'mentionORG', 'mentionWorkID', 'mentionWork',\n",
    "       'textID', 'mentionWorkGenre', 'collectiveversionid',\n",
    "       'mentionPlaces', 'mentionPlacesabbr']\n",
    "integers = ['geonameID']\n",
    "for a in integers:\n",
    "    brev[a] = brev[a].astype(int)"
   ]
  },
  {
   "cell_type": "markdown",
   "id": "3c69aac1",
   "metadata": {},
   "source": [
    "## DATAVASK: TID OG DATO\n",
    "Kolonne for dato har rundt 5-6% tjafs. Denne modulen utøver ganske brisk & brutal vold mot irregulære datoer. Den forsøker å finne år-måned-dag, år-måned og år i den rekkefølgen, og legger til så mange 01'er som trengs for å få fullstendige datoer. Noen datoer forklares i tekst (typ \"30 november 18XY\"), noen er tidsspenn, og andre er bare *???* - disse er per nå alt for irregulære og bare mørbankes til de kun er årstall for å bygges opp igjen."
   ]
  },
  {
   "cell_type": "code",
   "execution_count": 4,
   "id": "02bf6bc3",
   "metadata": {},
   "outputs": [
    {
     "name": "stdout",
     "output_type": "stream",
     "text": [
      "Registered 2409 out of 2409 entries.\n",
      "Good dates: 94.73% (2282)\n",
      "Bad dates: 5.27% (127)\n",
      "\n",
      "Fixing...\n",
      "\n",
      "Done! Good dates: 100.0% (2409/2409)\n",
      "Added column datetimes to df-brev.\n"
     ]
    }
   ],
   "source": [
    "r = re.compile('^.{4}-.{2}-.{2}$') # Formatet XXXX-XX-XX\n",
    "\n",
    "good = 0\n",
    "bad = 0\n",
    "for x in brev['date']:\n",
    "    if r.match(x):\n",
    "        good +=1\n",
    "    else:\n",
    "        bad += 1\n",
    "percA = round((good/len(brev)*100),2)\n",
    "percB = round((bad/len(brev)*100),2)\n",
    "print(\"Registered\",good+bad,\"out of\",len(brev),\"entries.\\nGood dates:\",str(percA)+\"% (\"+str(good)+\")\\nBad dates:\",\n",
    "      str(percB)+\"% (\"+str(bad)+\")\\n\")\n",
    "\n",
    "i = 0\n",
    "strings = []\n",
    "for ting in brev['date']:\n",
    "    x = ting\n",
    "    y = re.sub(\"[^0-9-]\", \"\", x) # Fjern alt som ikke er tall eller bindestrek\n",
    "    if y == \"\": # Om dato er TOMT (må fikses med én gang)\n",
    "        y = \"1905-01-01\" # da er den fra THE D I S T A N T  F U T U R E  OF  1 9 9 X ! #neida det blir 1905\n",
    "    if y[0] == \"-\": # Sjekk at det ikke nå er en bindestrek foran året\n",
    "        y = y[1:] # Slett den om den finnes\n",
    "    y = y[:10] # Om resultatet har mer enn 10 karakterer: HØGG\n",
    "    \n",
    "    if r.match(y):\n",
    "        pass\n",
    "    \n",
    "        #print(\"ye:)\")\n",
    "    else:\n",
    "        if y[0] != \"1\": # Special case for [1426]. Datoen blir \"3041\", som jo er litt etter Ibsens tid.\n",
    "            y = y[3:] # sleng de tre første karakterer ligeledes i søppelet\n",
    "        #print(i,y)\n",
    "        if len(y) == 7: # Om det er 7 karakterer (YYYY-MM),\n",
    "            y+=\"-01\" # Legg til \"-01\" som dag.\n",
    "        elif len(y) == 4: # (YYYY)\n",
    "            y+=\"-01-01\" # Nå er det 1. januar det året\n",
    "        else: # Om det er hverken 4 eller 7 karakterer og heller ikke 10:\n",
    "            y = y[:4] # Slett alt som ikke er år\n",
    "            y+=\"-01-01\" # Nå er det 1. januar det året, ferdig snakka.\n",
    "        #print(y)\n",
    "    i += 1\n",
    "    strings.append(y) # OK\n",
    "\n",
    "print(\"Fixing...\\n\")    \n",
    "    \n",
    "good = 0\n",
    "bad = 0\n",
    "for x in strings:\n",
    "    if r.match(x):\n",
    "        good +=1\n",
    "    else:\n",
    "        bad += 1\n",
    "percA = round((good/len(brev)*100),2)\n",
    "percB = round((bad/len(brev)*100),2)\n",
    "print(\"Done! Good dates:\",str(percA)+\"% (\"+str(good)+\"/\"+str(len(brev))+\")\")\n",
    "if bad > 0:\n",
    "    print(\"YOOOO we got some BAD DATES:\",\n",
    "      str(percB)+\"% (\"+str(bad)+\")\")\n",
    "    raise KeyboardInterrupt()\n",
    "else:\n",
    "    datetimes = []\n",
    "    for string in strings:\n",
    "        x = string.split(\"-\")\n",
    "        date = x[2]+\"/\"+x[1]+\"/\"+x[0] # det her var det ikke noe poeng med, nei\n",
    "        date_time_obj = datetime.strptime(date, '%d/%m/%Y')\n",
    "        datetimes.append(date)\n",
    "    brev['datetimes'] = datetimes\n",
    "    brev['datetimes'] = pd.to_datetime(brev['datetimes'], format='%d/%m/%Y')\n",
    "    print(\"Added column datetimes to df-brev.\")\n",
    "    #brev['datetimes'] = pd.to_datetime(brev[\"datetimes\"].dt.strftime('%d/%m/%Y'))\n",
    "    brev = brev.sort_values(\"datetimes\")\n",
    "    brev.reset_index(drop=True,inplace=True)\n",
    "    personer.reset_index(drop=True,inplace=True)\n",
    "    personer['xmlID'] = personer['xmlID'].apply(str)"
   ]
  },
  {
   "cell_type": "markdown",
   "id": "c03dba54",
   "metadata": {},
   "source": [
    "Index male, female and none IDs for later use. This was previously part of the **big** cell. By preindexing we're making it *lightning fast* in comparison to what it was!"
   ]
  },
  {
   "cell_type": "code",
   "execution_count": 5,
   "id": "68e8fe92",
   "metadata": {},
   "outputs": [],
   "source": [
    "males = []\n",
    "females = []\n",
    "others = []\n",
    "i = 0\n",
    "for sex in personer['sex']:\n",
    "    sex = str(sex)\n",
    "    person = str(personer.iloc[i]['xmlID'])\n",
    "    if sex == \"male\": # \"male\"\n",
    "        males.append(person)\n",
    "    elif sex == \"female\": # \"female\"\n",
    "        females.append(person)\n",
    "    else: # 0\n",
    "        others.append(person)\n",
    "    i+=1"
   ]
  },
  {
   "cell_type": "markdown",
   "id": "c28bb608",
   "metadata": {},
   "source": []
  },
  {
   "cell_type": "markdown",
   "id": "cf67e50c",
   "metadata": {},
   "source": [
    "## Plotting 1\n",
    "Personer + brev. Produserer forskjellige grafer basert på mode var."
   ]
  },
  {
   "cell_type": "code",
   "execution_count": 18,
   "id": "c4c8b4a6",
   "metadata": {},
   "outputs": [],
   "source": [
    "mode=\"point\""
   ]
  },
  {
   "cell_type": "markdown",
   "id": "76a331f7",
   "metadata": {},
   "source": [
    "## Powercell"
   ]
  },
  {
   "cell_type": "code",
   "execution_count": 19,
   "id": "24544acd",
   "metadata": {},
   "outputs": [
    {
     "name": "stdout",
     "output_type": "stream",
     "text": [
      "12 TO ER 0\n"
     ]
    }
   ],
   "source": [
    "datedletters = []\n",
    "malesaddressed = []\n",
    "femalesaddressed = []\n",
    "othersaddressed = []\n",
    "malesmentioned = []\n",
    "femalesmentioned = []\n",
    "othersmentioned = []\n",
    "anonsaddressed = []\n",
    "anonsmentioned = []\n",
    "\n",
    "tomales=0\n",
    "tofemales=0\n",
    "toother=0\n",
    "mentionmales=0\n",
    "mentionfemales=0\n",
    "mentionother=0\n",
    "mentionanons=0\n",
    "anonsto=0\n",
    "totalmentions=0\n",
    "totaladdrs=0\n",
    "for idx,row in brev.iterrows(): # For HVER rad i brev-df.\n",
    "    #print(idx)\n",
    "    if mode != \"cumulative\":\n",
    "        tomales=0\n",
    "        tofemales=0\n",
    "        toother=0\n",
    "        anonsto=0\n",
    "        mentionmales=0\n",
    "        mentionfemales=0\n",
    "        mentionother=0\n",
    "        mentionanons=0\n",
    "    sex = \"LiveLoveLag\" # Sett standardverdi for var sex.\n",
    "    mentioned = row['mentionIDs'] # GET alle mention IDs fra rad.\n",
    "    date = row['datetimes'] # GET dato fra raden.\n",
    "    to = row['recipientID'] # GET recipient ID fra raden.\n",
    "    if to == 0: # hvis TIL er 0:\n",
    "        print(idx,\"TO ER 0\")\n",
    "        pass # Gjør ingenting!\n",
    "    elif to == \"\": # hvis TIL er tomt\n",
    "        print(idx,\"TO ER TOM\")\n",
    "        pass # samme.\n",
    "    else: # Hvis TIL IKKE ER 0:\n",
    "       # print(\"Mottaker er ikke tomt\")\n",
    "        if \",\" in str(to): # Hvis det ER et komma (flere mottakere) i data for mottaker:\n",
    "           # print(\"Flere mottakere\")\n",
    "            toArray = to.split(', ') # Splitt mottakerfeltet\n",
    "            for to in toArray: # For hver innførsel i mottakerfeltet\n",
    "                totaladdrs+=1\n",
    "                if str(to) != \"0\": # Hvis det ikke er 0 her av en eller annen grunn...\n",
    "                    if to in males:\n",
    "                        tomales+=1\n",
    "                    elif to in females:\n",
    "                        tofemales+=1\n",
    "                    elif to in others:\n",
    "                        toother+=1\n",
    "                    else: # Denne aktiveres aldri\n",
    "                        anonsto+=1\n",
    "                    #sex = personer.loc[personer['xmlID'] == str(to)][\"sex\"].values # GET kjønnet til personen fra personregisteret\n",
    "                    #sex = str(sex) # stringify\n",
    "                    #if sex == \"['male']\": # Hvis MANN\n",
    "                    #    tomales+=1 # Menn pluss 1\n",
    "                    #elif sex == \"['female']\": # Hvis KVINNE\n",
    "                    #    tofemales+=1 # Kvinner pluss 1\n",
    "                    #else: # hvis ikke mann ELLER kvinne\n",
    "                    #    print(to,sex)\n",
    "                    #    toother+=1 # andre pluss 1\n",
    "        else: # Hvis det IKKE er et komma i mottakerfeltet\n",
    "         #   print(\"Mottaker er alene\")\n",
    "            totaladdrs+=1\n",
    "            if to in males:\n",
    "                tomales+=1\n",
    "            elif to in females:\n",
    "                tofemales+=1\n",
    "            elif to in others:\n",
    "                toother+=1\n",
    "            else: # Dette betyr altså at sex != male, sex != female... og at tingen ikke har blitt indeksert i other.\n",
    "                anonsto+=1\n",
    "            #sex = personer.loc[personer['xmlID'] == str(to)][\"sex\"].values # GET kjønnet til personen fra personregisteret\n",
    "            #sex = str(sex) # stringify\n",
    "            #if sex == \"['male']\":  # Hvis MANN\n",
    "            #    tomales+=1 # Menn pluss 1\n",
    "            #elif sex == \"['female']\": # Hvis KVINNE\n",
    "            #    tofemales+=1 # Kvinner pluss 1\n",
    "            #else: # ELLERS\n",
    "            #    #print(to,sex)\n",
    "            #    toother+=1 # andre pluss 1\n",
    "            \n",
    "    if mentioned == 0: # Hvis MENTIONS er 0 (N/A)\n",
    "        #print(\"Mention er 0\")\n",
    "        pass # Gjør ingenting\n",
    "    elif mentioned == \"\": # Hvis mentions er TOM (N/A)\n",
    "        #print(\"Mention er null\")\n",
    "        pass # Samme.\n",
    "    else: # Hvis det er data i feltet for MENTIONS\n",
    "       # print(\"Mention har data\")\n",
    "        if \",\" in mentioned: # HVIS det er et komma i feltet\n",
    "            mentioned = mentioned.split(', ') # Splitt det\n",
    "            for mention in mentioned: # For hver av elementene i arrayen\n",
    "                totalmentions+=1\n",
    "            #    sex = personer.loc[personer['xmlID'] == mention][\"sex\"].values # Hent kjønn\n",
    "            #    sex = str(sex) # Bla bla bla - det samme som over.\n",
    "            #    if sex == \"['male']\":\n",
    "            #        mentionmales+=1\n",
    "            #    elif sex == \"['female']\":\n",
    "            #        mentionfemales+=1\n",
    "            #    else:\n",
    "            #        mentionother+=1\n",
    "                if mention in males:\n",
    "                    mentionmales+=1\n",
    "                elif mention in females:\n",
    "                    mentionfemales+=1\n",
    "                elif mention in others:\n",
    "                    mentionother+=1\n",
    "                else:\n",
    "                    mentionanons+=1\n",
    "        else: # Hvis det er ÉN person i feltet, hent dennes verdier fra personregisteret\n",
    "            totalmentions+=1\n",
    "            if mention in males:\n",
    "                mentionmales+=1\n",
    "            elif mention in females:\n",
    "                mentionfemales+=1\n",
    "            elif mention in others:\n",
    "                mentionother+=1\n",
    "            else:\n",
    "                mentionanons+=1\n",
    "          #  sex = personer.loc[personer['xmlID'] == mention][\"sex\"].values\n",
    "          #  sex = str(sex)\n",
    "          #  if sex == \"['male']\":\n",
    "          #      mentionmales+=1\n",
    "          #  elif sex == \"['female']\":\n",
    "          #      mentionfemales+=1\n",
    "          #  else:\n",
    "          #      mentionother+=1\n",
    "    datedletters.append(date)\n",
    "    malesaddressed.append(tomales)\n",
    "    femalesaddressed.append(tofemales)\n",
    "    othersaddressed.append(toother)\n",
    "    malesmentioned.append(mentionmales)\n",
    "    femalesmentioned.append(mentionfemales)\n",
    "    othersmentioned.append(mentionother)\n",
    "    anonsaddressed.append(anonsto)\n",
    "    anonsmentioned.append(mentionanons)\n",
    "    #print(\"\\n\")\n",
    "#print(tomales,tofemales,toother,\" | \",mentionmales,mentionfemales,mentionother)\n",
    "df = pd.DataFrame(\n",
    "    {'date': datedletters,\n",
    "     'males_addressed': malesaddressed,\n",
    "     'females_addressed': femalesaddressed,\n",
    "     'others_addressed': othersaddressed,\n",
    "     'anons_addressed':anonsaddressed,\n",
    "     'males_mentioned': malesmentioned,\n",
    "     'females_mentioned': femalesmentioned,\n",
    "     'others_mentioned': othersmentioned,\n",
    "     'anons_mentioned':anonsmentioned\n",
    "    })"
   ]
  },
  {
   "cell_type": "code",
   "execution_count": 20,
   "id": "4eee2bbe",
   "metadata": {},
   "outputs": [
    {
     "name": "stdout",
     "output_type": "stream",
     "text": [
      "MODE: BY YEAR\n"
     ]
    },
    {
     "data": {
      "text/html": [
       "\n",
       "\n",
       "\n",
       "\n",
       "\n",
       "\n",
       "  <div class=\"bk-root\" id=\"f8e467a0-ea74-4625-91c7-7b191fb97024\" data-root-id=\"4210\"></div>\n"
      ]
     },
     "metadata": {},
     "output_type": "display_data"
    },
    {
     "data": {
      "application/javascript": [
       "(function(root) {\n",
       "  function embed_document(root) {\n",
       "    \n",
       "  var docs_json = {\"99725a16-d79b-4dcf-b639-5bb447049c47\":{\"defs\":[],\"roots\":{\"references\":[{\"attributes\":{\"children\":[{\"id\":\"3702\"},{\"id\":\"3735\"}]},\"id\":\"4210\",\"type\":\"Column\"},{\"attributes\":{\"data_source\":{\"id\":\"3701\"},\"glyph\":{\"id\":\"3990\"},\"hover_glyph\":null,\"muted_glyph\":null,\"nonselection_glyph\":{\"id\":\"3991\"},\"view\":{\"id\":\"3993\"}},\"id\":\"3992\",\"type\":\"GlyphRenderer\"},{\"attributes\":{\"source\":{\"id\":\"3701\"}},\"id\":\"4187\",\"type\":\"CDSView\"},{\"attributes\":{\"source\":{\"id\":\"3701\"}},\"id\":\"3772\",\"type\":\"CDSView\"},{\"attributes\":{\"source\":{\"id\":\"3701\"}},\"id\":\"3993\",\"type\":\"CDSView\"},{\"attributes\":{\"click_policy\":\"hide\",\"items\":[{\"id\":\"4017\"},{\"id\":\"4045\"},{\"id\":\"4073\"},{\"id\":\"4101\"}],\"location\":\"top_left\"},\"id\":\"4016\",\"type\":\"Legend\"},{\"attributes\":{\"label\":{\"value\":\"Men\"},\"renderers\":[{\"id\":\"3992\"},{\"id\":\"4105\"}]},\"id\":\"4017\",\"type\":\"LegendItem\"},{\"attributes\":{\"data_source\":{\"id\":\"3701\"},\"glyph\":{\"id\":\"4075\"},\"hover_glyph\":null,\"muted_glyph\":null,\"nonselection_glyph\":{\"id\":\"4076\"},\"view\":{\"id\":\"4078\"}},\"id\":\"4077\",\"type\":\"GlyphRenderer\"},{\"attributes\":{\"active_multi\":null,\"tools\":[{\"id\":\"3754\"},{\"id\":\"3755\"},{\"id\":\"3756\"},{\"id\":\"3757\"},{\"id\":\"3758\"},{\"id\":\"3759\"}]},\"id\":\"3761\",\"type\":\"Toolbar\"},{\"attributes\":{},\"id\":\"3995\",\"type\":\"DatetimeTickFormatter\"},{\"attributes\":{},\"id\":\"3996\",\"type\":\"AllLabels\"},{\"attributes\":{\"fill_alpha\":{\"value\":0.1},\"fill_color\":{\"value\":\"grey\"},\"line_alpha\":{\"value\":0.1},\"line_color\":{\"value\":\"grey\"},\"x\":{\"field\":\"date\"},\"y\":{\"field\":\"anons_mentioned\"}},\"id\":\"4076\",\"type\":\"Scatter\"},{\"attributes\":{\"overlay\":{\"id\":\"3727\"}},\"id\":\"3723\",\"type\":\"BoxZoomTool\"},{\"attributes\":{\"source\":{\"id\":\"3701\"}},\"id\":\"4078\",\"type\":\"CDSView\"},{\"attributes\":{\"data_source\":{\"id\":\"3701\"},\"glyph\":{\"id\":\"3769\"},\"hover_glyph\":null,\"muted_glyph\":null,\"nonselection_glyph\":{\"id\":\"3770\"},\"view\":{\"id\":\"3772\"}},\"id\":\"3771\",\"type\":\"GlyphRenderer\"},{\"attributes\":{\"source\":{\"id\":\"3701\"}},\"id\":\"4106\",\"type\":\"CDSView\"},{\"attributes\":{},\"id\":\"3724\",\"type\":\"SaveTool\"},{\"attributes\":{\"line_alpha\":0.1,\"line_color\":\"blue\",\"x\":{\"field\":\"date\"},\"y\":{\"field\":\"males_mentioned\"}},\"id\":\"4104\",\"type\":\"Line\"},{\"attributes\":{},\"id\":\"3725\",\"type\":\"ResetTool\"},{\"attributes\":{\"formatter\":{\"id\":\"3777\"},\"major_label_policy\":{\"id\":\"3778\"},\"ticker\":{\"id\":\"3718\"}},\"id\":\"3717\",\"type\":\"LinearAxis\"},{\"attributes\":{},\"id\":\"3722\",\"type\":\"WheelZoomTool\"},{\"attributes\":{\"line_alpha\":0.6,\"line_color\":\"blue\",\"x\":{\"field\":\"date\"},\"y\":{\"field\":\"males_mentioned\"}},\"id\":\"4103\",\"type\":\"Line\"},{\"attributes\":{},\"id\":\"3721\",\"type\":\"PanTool\"},{\"attributes\":{},\"id\":\"3726\",\"type\":\"HelpTool\"},{\"attributes\":{\"fill_alpha\":{\"value\":0.1},\"fill_color\":{\"value\":\"green\"},\"line_alpha\":{\"value\":0.1},\"line_color\":{\"value\":\"green\"},\"x\":{\"field\":\"date\"},\"y\":{\"field\":\"others_mentioned\"}},\"id\":\"4048\",\"type\":\"Scatter\"},{\"attributes\":{},\"id\":\"3718\",\"type\":\"BasicTicker\"},{\"attributes\":{\"text\":\"Ibsen's outgoing letters by gender, summed per full year - Mentioning.\"},\"id\":\"3736\",\"type\":\"Title\"},{\"attributes\":{\"line_alpha\":0.1,\"line_color\":\"hotpink\",\"x\":{\"field\":\"date\"},\"y\":{\"field\":\"females_mentioned\"}},\"id\":\"4131\",\"type\":\"Line\"},{\"attributes\":{\"axis\":{\"id\":\"3717\"},\"dimension\":1,\"ticker\":null},\"id\":\"3720\",\"type\":\"Grid\"},{\"attributes\":{},\"id\":\"3999\",\"type\":\"AllLabels\"},{\"attributes\":{\"bottom_units\":\"screen\",\"fill_alpha\":0.5,\"fill_color\":\"lightgrey\",\"left_units\":\"screen\",\"level\":\"overlay\",\"line_alpha\":1.0,\"line_color\":\"black\",\"line_dash\":[4,4],\"line_width\":2,\"right_units\":\"screen\",\"syncable\":false,\"top_units\":\"screen\"},\"id\":\"3727\",\"type\":\"BoxAnnotation\"},{\"attributes\":{\"line_alpha\":0.6,\"line_color\":\"hotpink\",\"x\":{\"field\":\"date\"},\"y\":{\"field\":\"females_mentioned\"}},\"id\":\"4130\",\"type\":\"Line\"},{\"attributes\":{\"fill_alpha\":{\"value\":0.6},\"fill_color\":{\"value\":\"hotpink\"},\"line_alpha\":{\"value\":0.6},\"line_color\":{\"value\":\"hotpink\"},\"x\":{\"field\":\"date\"},\"y\":{\"field\":\"females_mentioned\"}},\"id\":\"4019\",\"type\":\"Scatter\"},{\"attributes\":{\"source\":{\"id\":\"3701\"}},\"id\":\"4133\",\"type\":\"CDSView\"},{\"attributes\":{\"data_source\":{\"id\":\"3701\"},\"glyph\":{\"id\":\"4130\"},\"hover_glyph\":null,\"muted_glyph\":null,\"nonselection_glyph\":{\"id\":\"4131\"},\"view\":{\"id\":\"4133\"}},\"id\":\"4132\",\"type\":\"GlyphRenderer\"},{\"attributes\":{\"line_alpha\":0.1,\"line_color\":\"green\",\"x\":{\"field\":\"date\"},\"y\":{\"field\":\"others_mentioned\"}},\"id\":\"4158\",\"type\":\"Line\"},{\"attributes\":{\"data_source\":{\"id\":\"3701\"},\"glyph\":{\"id\":\"4019\"},\"hover_glyph\":null,\"muted_glyph\":null,\"nonselection_glyph\":{\"id\":\"4020\"},\"view\":{\"id\":\"4022\"}},\"id\":\"4021\",\"type\":\"GlyphRenderer\"},{\"attributes\":{\"fill_alpha\":{\"value\":0.1},\"fill_color\":{\"value\":\"hotpink\"},\"line_alpha\":{\"value\":0.1},\"line_color\":{\"value\":\"hotpink\"},\"x\":{\"field\":\"date\"},\"y\":{\"field\":\"females_mentioned\"}},\"id\":\"4020\",\"type\":\"Scatter\"},{\"attributes\":{\"mantissas\":[1,2,5],\"max_interval\":500.0,\"num_minor_ticks\":0},\"id\":\"4001\",\"type\":\"AdaptiveTicker\"},{\"attributes\":{\"source\":{\"id\":\"3701\"}},\"id\":\"4022\",\"type\":\"CDSView\"},{\"attributes\":{\"base\":60,\"mantissas\":[1,2,5,10,15,20,30],\"max_interval\":1800000.0,\"min_interval\":1000.0,\"num_minor_ticks\":0},\"id\":\"4002\",\"type\":\"AdaptiveTicker\"},{\"attributes\":{\"days\":[1,2,3,4,5,6,7,8,9,10,11,12,13,14,15,16,17,18,19,20,21,22,23,24,25,26,27,28,29,30,31]},\"id\":\"4004\",\"type\":\"DaysTicker\"},{\"attributes\":{\"base\":24,\"mantissas\":[1,2,4,6,8,12],\"max_interval\":43200000.0,\"min_interval\":3600000.0,\"num_minor_ticks\":0},\"id\":\"4003\",\"type\":\"AdaptiveTicker\"},{\"attributes\":{\"months\":[0,1,2,3,4,5,6,7,8,9,10,11]},\"id\":\"4008\",\"type\":\"MonthsTicker\"},{\"attributes\":{\"label\":{\"value\":\"Women\"},\"renderers\":[{\"id\":\"4021\"},{\"id\":\"4132\"}]},\"id\":\"4045\",\"type\":\"LegendItem\"},{\"attributes\":{},\"id\":\"3759\",\"type\":\"HelpTool\"},{\"attributes\":{\"months\":[0,2,4,6,8,10]},\"id\":\"4009\",\"type\":\"MonthsTicker\"},{\"attributes\":{\"days\":[1,4,7,10,13,16,19,22,25,28]},\"id\":\"4005\",\"type\":\"DaysTicker\"},{\"attributes\":{\"active_multi\":null,\"tools\":[{\"id\":\"3721\"},{\"id\":\"3722\"},{\"id\":\"3723\"},{\"id\":\"3724\"},{\"id\":\"3725\"},{\"id\":\"3726\"}]},\"id\":\"3728\",\"type\":\"Toolbar\"},{\"attributes\":{\"line_alpha\":0.3,\"line_color\":\"green\",\"x\":{\"field\":\"date\"},\"y\":{\"field\":\"others_mentioned\"}},\"id\":\"4157\",\"type\":\"Line\"},{\"attributes\":{\"days\":[1,15]},\"id\":\"4007\",\"type\":\"DaysTicker\"},{\"attributes\":{\"months\":[0,6]},\"id\":\"4011\",\"type\":\"MonthsTicker\"},{\"attributes\":{\"days\":[1,8,15,22]},\"id\":\"4006\",\"type\":\"DaysTicker\"},{\"attributes\":{},\"id\":\"4012\",\"type\":\"YearsTicker\"},{\"attributes\":{},\"id\":\"3742\",\"type\":\"LinearScale\"},{\"attributes\":{\"months\":[0,4,8]},\"id\":\"4010\",\"type\":\"MonthsTicker\"},{\"attributes\":{\"range_padding\":0},\"id\":\"3738\",\"type\":\"DataRange1d\"},{\"attributes\":{\"fill_alpha\":{\"value\":0.6},\"fill_color\":{\"value\":\"blue\"},\"line_alpha\":{\"value\":0.6},\"line_color\":{\"value\":\"blue\"},\"x\":{\"field\":\"date\"},\"y\":{\"field\":\"males_mentioned\"}},\"id\":\"3990\",\"type\":\"Scatter\"},{\"attributes\":{\"source\":{\"id\":\"3701\"}},\"id\":\"4160\",\"type\":\"CDSView\"},{\"attributes\":{\"fill_alpha\":{\"value\":0.1},\"fill_color\":{\"value\":\"blue\"},\"line_alpha\":{\"value\":0.1},\"line_color\":{\"value\":\"blue\"},\"x\":{\"field\":\"date\"},\"y\":{\"field\":\"males_addressed\"}},\"id\":\"3770\",\"type\":\"Scatter\"},{\"attributes\":{\"data_source\":{\"id\":\"3701\"},\"glyph\":{\"id\":\"4157\"},\"hover_glyph\":null,\"muted_glyph\":null,\"nonselection_glyph\":{\"id\":\"4158\"},\"view\":{\"id\":\"4160\"}},\"id\":\"4159\",\"type\":\"GlyphRenderer\"},{\"attributes\":{},\"id\":\"3740\",\"type\":\"DataRange1d\"},{\"attributes\":{},\"id\":\"3744\",\"type\":\"LinearScale\"},{\"attributes\":{\"line_alpha\":0.1,\"line_color\":\"grey\",\"x\":{\"field\":\"date\"},\"y\":{\"field\":\"anons_mentioned\"}},\"id\":\"4185\",\"type\":\"Line\"},{\"attributes\":{\"formatter\":{\"id\":\"3995\"},\"major_label_policy\":{\"id\":\"3996\"},\"ticker\":{\"id\":\"3747\"}},\"id\":\"3746\",\"type\":\"DatetimeAxis\"},{\"attributes\":{\"fill_alpha\":{\"value\":0.6},\"fill_color\":{\"value\":\"blue\"},\"line_alpha\":{\"value\":0.6},\"line_color\":{\"value\":\"blue\"},\"x\":{\"field\":\"date\"},\"y\":{\"field\":\"males_addressed\"}},\"id\":\"3769\",\"type\":\"Scatter\"},{\"attributes\":{\"num_minor_ticks\":5,\"tickers\":[{\"id\":\"4001\"},{\"id\":\"4002\"},{\"id\":\"4003\"},{\"id\":\"4004\"},{\"id\":\"4005\"},{\"id\":\"4006\"},{\"id\":\"4007\"},{\"id\":\"4008\"},{\"id\":\"4009\"},{\"id\":\"4010\"},{\"id\":\"4011\"},{\"id\":\"4012\"}]},\"id\":\"3747\",\"type\":\"DatetimeTicker\"},{\"attributes\":{\"data_source\":{\"id\":\"3701\"},\"glyph\":{\"id\":\"4047\"},\"hover_glyph\":null,\"muted_glyph\":null,\"nonselection_glyph\":{\"id\":\"4048\"},\"view\":{\"id\":\"4050\"}},\"id\":\"4049\",\"type\":\"GlyphRenderer\"},{\"attributes\":{\"axis\":{\"id\":\"3746\"},\"ticker\":null},\"id\":\"3749\",\"type\":\"Grid\"},{\"attributes\":{\"fill_alpha\":{\"value\":0.3},\"fill_color\":{\"value\":\"green\"},\"line_alpha\":{\"value\":0.3},\"line_color\":{\"value\":\"green\"},\"x\":{\"field\":\"date\"},\"y\":{\"field\":\"others_mentioned\"}},\"id\":\"4047\",\"type\":\"Scatter\"},{\"attributes\":{\"formatter\":{\"id\":\"3998\"},\"major_label_policy\":{\"id\":\"3999\"},\"ticker\":{\"id\":\"3751\"}},\"id\":\"3750\",\"type\":\"LinearAxis\"},{\"attributes\":{\"axis\":{\"id\":\"3750\"},\"dimension\":1,\"ticker\":null},\"id\":\"3753\",\"type\":\"Grid\"},{\"attributes\":{\"fill_alpha\":{\"value\":0.3},\"fill_color\":{\"value\":\"grey\"},\"line_alpha\":{\"value\":0.3},\"line_color\":{\"value\":\"grey\"},\"x\":{\"field\":\"date\"},\"y\":{\"field\":\"anons_mentioned\"}},\"id\":\"4075\",\"type\":\"Scatter\"},{\"attributes\":{},\"id\":\"3751\",\"type\":\"BasicTicker\"},{\"attributes\":{\"text\":\"Ibsen's outgoing letters by gender, summed per full year - Addressed to.\"},\"id\":\"3703\",\"type\":\"Title\"},{\"attributes\":{},\"id\":\"3707\",\"type\":\"DataRange1d\"},{\"attributes\":{\"source\":{\"id\":\"3701\"}},\"id\":\"4050\",\"type\":\"CDSView\"},{\"attributes\":{},\"id\":\"3755\",\"type\":\"WheelZoomTool\"},{\"attributes\":{},\"id\":\"3754\",\"type\":\"PanTool\"},{\"attributes\":{\"overlay\":{\"id\":\"3760\"}},\"id\":\"3756\",\"type\":\"BoxZoomTool\"},{\"attributes\":{\"below\":[{\"id\":\"3713\"}],\"center\":[{\"id\":\"3716\"},{\"id\":\"3720\"},{\"id\":\"3795\"}],\"height\":400,\"left\":[{\"id\":\"3717\"}],\"renderers\":[{\"id\":\"3771\"},{\"id\":\"3800\"},{\"id\":\"3828\"},{\"id\":\"3856\"},{\"id\":\"3884\"},{\"id\":\"3911\"},{\"id\":\"3938\"},{\"id\":\"3965\"}],\"title\":{\"id\":\"3703\"},\"toolbar\":{\"id\":\"3728\"},\"width\":800,\"x_range\":{\"id\":\"3705\"},\"x_scale\":{\"id\":\"3709\"},\"y_range\":{\"id\":\"3707\"},\"y_scale\":{\"id\":\"3711\"}},\"id\":\"3702\",\"subtype\":\"Figure\",\"type\":\"Plot\"},{\"attributes\":{},\"id\":\"3757\",\"type\":\"SaveTool\"},{\"attributes\":{\"data_source\":{\"id\":\"3701\"},\"glyph\":{\"id\":\"4184\"},\"hover_glyph\":null,\"muted_glyph\":null,\"nonselection_glyph\":{\"id\":\"4185\"},\"view\":{\"id\":\"4187\"}},\"id\":\"4186\",\"type\":\"GlyphRenderer\"},{\"attributes\":{\"range_padding\":0},\"id\":\"3705\",\"type\":\"DataRange1d\"},{\"attributes\":{},\"id\":\"3758\",\"type\":\"ResetTool\"},{\"attributes\":{\"below\":[{\"id\":\"3746\"}],\"center\":[{\"id\":\"3749\"},{\"id\":\"3753\"},{\"id\":\"4016\"}],\"height\":400,\"left\":[{\"id\":\"3750\"}],\"renderers\":[{\"id\":\"3992\"},{\"id\":\"4021\"},{\"id\":\"4049\"},{\"id\":\"4077\"},{\"id\":\"4105\"},{\"id\":\"4132\"},{\"id\":\"4159\"},{\"id\":\"4186\"}],\"title\":{\"id\":\"3736\"},\"toolbar\":{\"id\":\"3761\"},\"width\":800,\"x_range\":{\"id\":\"3738\"},\"x_scale\":{\"id\":\"3742\"},\"y_range\":{\"id\":\"3740\"},\"y_scale\":{\"id\":\"3744\"}},\"id\":\"3735\",\"subtype\":\"Figure\",\"type\":\"Plot\"},{\"attributes\":{\"label\":{\"value\":\"N/A (Organizations)\"},\"renderers\":[{\"id\":\"4049\"},{\"id\":\"4159\"}]},\"id\":\"4073\",\"type\":\"LegendItem\"},{\"attributes\":{},\"id\":\"3709\",\"type\":\"LinearScale\"},{\"attributes\":{\"line_alpha\":0.3,\"line_color\":\"grey\",\"x\":{\"field\":\"date\"},\"y\":{\"field\":\"anons_mentioned\"}},\"id\":\"4184\",\"type\":\"Line\"},{\"attributes\":{\"source\":{\"id\":\"3701\"}},\"id\":\"3885\",\"type\":\"CDSView\"},{\"attributes\":{\"days\":[1,2,3,4,5,6,7,8,9,10,11,12,13,14,15,16,17,18,19,20,21,22,23,24,25,26,27,28,29,30,31]},\"id\":\"3783\",\"type\":\"DaysTicker\"},{\"attributes\":{\"base\":24,\"mantissas\":[1,2,4,6,8,12],\"max_interval\":43200000.0,\"min_interval\":3600000.0,\"num_minor_ticks\":0},\"id\":\"3782\",\"type\":\"AdaptiveTicker\"},{\"attributes\":{\"fill_alpha\":{\"value\":0.6},\"fill_color\":{\"value\":\"hotpink\"},\"line_alpha\":{\"value\":0.6},\"line_color\":{\"value\":\"hotpink\"},\"x\":{\"field\":\"date\"},\"y\":{\"field\":\"females_addressed\"}},\"id\":\"3798\",\"type\":\"Scatter\"},{\"attributes\":{\"line_alpha\":0.1,\"line_color\":\"blue\",\"x\":{\"field\":\"date\"},\"y\":{\"field\":\"males_addressed\"}},\"id\":\"3883\",\"type\":\"Line\"},{\"attributes\":{\"line_alpha\":0.6,\"line_color\":\"blue\",\"x\":{\"field\":\"date\"},\"y\":{\"field\":\"males_addressed\"}},\"id\":\"3882\",\"type\":\"Line\"},{\"attributes\":{\"months\":[0,1,2,3,4,5,6,7,8,9,10,11]},\"id\":\"3787\",\"type\":\"MonthsTicker\"},{\"attributes\":{\"label\":{\"value\":\"N/A (Unknown)\"},\"renderers\":[{\"id\":\"4077\"},{\"id\":\"4186\"}]},\"id\":\"4101\",\"type\":\"LegendItem\"},{\"attributes\":{\"months\":[0,2,4,6,8,10]},\"id\":\"3788\",\"type\":\"MonthsTicker\"},{\"attributes\":{\"days\":[1,4,7,10,13,16,19,22,25,28]},\"id\":\"3784\",\"type\":\"DaysTicker\"},{\"attributes\":{\"data_source\":{\"id\":\"3701\"},\"glyph\":{\"id\":\"4103\"},\"hover_glyph\":null,\"muted_glyph\":null,\"nonselection_glyph\":{\"id\":\"4104\"},\"view\":{\"id\":\"4106\"}},\"id\":\"4105\",\"type\":\"GlyphRenderer\"},{\"attributes\":{\"days\":[1,15]},\"id\":\"3786\",\"type\":\"DaysTicker\"},{\"attributes\":{\"data_source\":{\"id\":\"3701\"},\"glyph\":{\"id\":\"3798\"},\"hover_glyph\":null,\"muted_glyph\":null,\"nonselection_glyph\":{\"id\":\"3799\"},\"view\":{\"id\":\"3801\"}},\"id\":\"3800\",\"type\":\"GlyphRenderer\"},{\"attributes\":{\"months\":[0,6]},\"id\":\"3790\",\"type\":\"MonthsTicker\"},{\"attributes\":{\"data_source\":{\"id\":\"3701\"},\"glyph\":{\"id\":\"3826\"},\"hover_glyph\":null,\"muted_glyph\":null,\"nonselection_glyph\":{\"id\":\"3827\"},\"view\":{\"id\":\"3829\"}},\"id\":\"3828\",\"type\":\"GlyphRenderer\"},{\"attributes\":{\"line_alpha\":0.1,\"line_color\":\"hotpink\",\"x\":{\"field\":\"date\"},\"y\":{\"field\":\"females_addressed\"}},\"id\":\"3910\",\"type\":\"Line\"},{\"attributes\":{\"days\":[1,8,15,22]},\"id\":\"3785\",\"type\":\"DaysTicker\"},{\"attributes\":{\"fill_alpha\":{\"value\":0.1},\"fill_color\":{\"value\":\"hotpink\"},\"line_alpha\":{\"value\":0.1},\"line_color\":{\"value\":\"hotpink\"},\"x\":{\"field\":\"date\"},\"y\":{\"field\":\"females_addressed\"}},\"id\":\"3799\",\"type\":\"Scatter\"},{\"attributes\":{},\"id\":\"3791\",\"type\":\"YearsTicker\"},{\"attributes\":{\"source\":{\"id\":\"3701\"}},\"id\":\"3801\",\"type\":\"CDSView\"},{\"attributes\":{\"months\":[0,4,8]},\"id\":\"3789\",\"type\":\"MonthsTicker\"},{\"attributes\":{\"label\":{\"value\":\"Women\"},\"renderers\":[{\"id\":\"3800\"},{\"id\":\"3911\"}]},\"id\":\"3824\",\"type\":\"LegendItem\"},{\"attributes\":{\"base\":60,\"mantissas\":[1,2,5,10,15,20,30],\"max_interval\":1800000.0,\"min_interval\":1000.0,\"num_minor_ticks\":0},\"id\":\"3781\",\"type\":\"AdaptiveTicker\"},{\"attributes\":{\"bottom_units\":\"screen\",\"fill_alpha\":0.5,\"fill_color\":\"lightgrey\",\"left_units\":\"screen\",\"level\":\"overlay\",\"line_alpha\":1.0,\"line_color\":\"black\",\"line_dash\":[4,4],\"line_width\":2,\"right_units\":\"screen\",\"syncable\":false,\"top_units\":\"screen\"},\"id\":\"3760\",\"type\":\"BoxAnnotation\"},{\"attributes\":{\"line_alpha\":0.6,\"line_color\":\"hotpink\",\"x\":{\"field\":\"date\"},\"y\":{\"field\":\"females_addressed\"}},\"id\":\"3909\",\"type\":\"Line\"},{\"attributes\":{},\"id\":\"3792\",\"type\":\"UnionRenderers\"},{\"attributes\":{\"source\":{\"id\":\"3701\"}},\"id\":\"3912\",\"type\":\"CDSView\"},{\"attributes\":{\"data_source\":{\"id\":\"3701\"},\"glyph\":{\"id\":\"3909\"},\"hover_glyph\":null,\"muted_glyph\":null,\"nonselection_glyph\":{\"id\":\"3910\"},\"view\":{\"id\":\"3912\"}},\"id\":\"3911\",\"type\":\"GlyphRenderer\"},{\"attributes\":{\"fill_alpha\":{\"value\":0.3},\"fill_color\":{\"value\":\"green\"},\"line_alpha\":{\"value\":0.3},\"line_color\":{\"value\":\"green\"},\"x\":{\"field\":\"date\"},\"y\":{\"field\":\"others_addressed\"}},\"id\":\"3826\",\"type\":\"Scatter\"},{\"attributes\":{},\"id\":\"3793\",\"type\":\"Selection\"},{\"attributes\":{\"line_alpha\":0.1,\"line_color\":\"green\",\"x\":{\"field\":\"date\"},\"y\":{\"field\":\"others_addressed\"}},\"id\":\"3937\",\"type\":\"Line\"},{\"attributes\":{\"click_policy\":\"hide\",\"items\":[{\"id\":\"3796\"},{\"id\":\"3824\"},{\"id\":\"3852\"},{\"id\":\"3880\"}],\"location\":\"top_left\"},\"id\":\"3795\",\"type\":\"Legend\"},{\"attributes\":{\"label\":{\"value\":\"Men\"},\"renderers\":[{\"id\":\"3771\"},{\"id\":\"3884\"}]},\"id\":\"3796\",\"type\":\"LegendItem\"},{\"attributes\":{\"fill_alpha\":{\"value\":0.1},\"fill_color\":{\"value\":\"green\"},\"line_alpha\":{\"value\":0.1},\"line_color\":{\"value\":\"green\"},\"x\":{\"field\":\"date\"},\"y\":{\"field\":\"others_addressed\"}},\"id\":\"3827\",\"type\":\"Scatter\"},{\"attributes\":{\"source\":{\"id\":\"3701\"}},\"id\":\"3829\",\"type\":\"CDSView\"},{\"attributes\":{\"line_alpha\":0.3,\"line_color\":\"green\",\"x\":{\"field\":\"date\"},\"y\":{\"field\":\"others_addressed\"}},\"id\":\"3936\",\"type\":\"Line\"},{\"attributes\":{},\"id\":\"3774\",\"type\":\"DatetimeTickFormatter\"},{\"attributes\":{\"num_minor_ticks\":5,\"tickers\":[{\"id\":\"3780\"},{\"id\":\"3781\"},{\"id\":\"3782\"},{\"id\":\"3783\"},{\"id\":\"3784\"},{\"id\":\"3785\"},{\"id\":\"3786\"},{\"id\":\"3787\"},{\"id\":\"3788\"},{\"id\":\"3789\"},{\"id\":\"3790\"},{\"id\":\"3791\"}]},\"id\":\"3714\",\"type\":\"DatetimeTicker\"},{\"attributes\":{},\"id\":\"3775\",\"type\":\"AllLabels\"},{\"attributes\":{\"label\":{\"value\":\"N/A (Organizations)\"},\"renderers\":[{\"id\":\"3828\"},{\"id\":\"3938\"}]},\"id\":\"3852\",\"type\":\"LegendItem\"},{\"attributes\":{\"axis\":{\"id\":\"3713\"},\"ticker\":null},\"id\":\"3716\",\"type\":\"Grid\"},{\"attributes\":{},\"id\":\"3711\",\"type\":\"LinearScale\"},{\"attributes\":{\"source\":{\"id\":\"3701\"}},\"id\":\"3939\",\"type\":\"CDSView\"},{\"attributes\":{\"data_source\":{\"id\":\"3701\"},\"glyph\":{\"id\":\"3936\"},\"hover_glyph\":null,\"muted_glyph\":null,\"nonselection_glyph\":{\"id\":\"3937\"},\"view\":{\"id\":\"3939\"}},\"id\":\"3938\",\"type\":\"GlyphRenderer\"},{\"attributes\":{\"data\":{\"anons_addressed\":{\"__ndarray__\":\"AAAAAAAAAAAAAAAAAAAAAAAAAAAAAAAAAAAAAAAAAAACAAAAAAAAAAAAAAABAAAAAAAAAAEAAAAAAAAAAAAAAAIAAAAAAAAAAAAAAAAAAAAAAAAAAAAAAAAAAAAAAAAAAAAAAAMAAAABAAAAAwAAAAEAAAACAAAAAgAAAAAAAAABAAAAAQAAAAEAAAABAAAAAAAAAAAAAAAAAAAAAAAAAAIAAAADAAAAAwAAAAQAAAAJAAAADgAAAAMAAAAFAAAACgAAAAUAAAAIAAAAAQAAAAYAAAAFAAAACgAAAAMAAAAAAAAAAQAAAAEAAAACAAAA\",\"dtype\":\"int32\",\"order\":\"little\",\"shape\":[60]},\"anons_mentioned\":{\"__ndarray__\":\"AAAAAAAAAAAAAAAAAAAAAAAAAAAAAAAAAAAAAAAAAAAAAAAAAAAAAAAAAAAAAAAAAAAAAAAAAAAAAAAAAAAAAAAAAAAAAAAAAAAAAAAAAAAAAAAAAQAAAAAAAAAAAAAAAQAAAAAAAAAAAAAAAQAAAAAAAAAAAAAAAAAAAAEAAAAAAAAAAAAAAAQAAAABAAAAAgAAAAIAAAAEAAAAAQAAAAcAAAABAAAABAAAAAEAAAACAAAAAAAAAAAAAAAAAAAAAAAAAAAAAAAAAAAABAAAAAAAAAADAAAAAAAAAAAAAAAAAAAAAAAAAAAAAAAAAAAA\",\"dtype\":\"int32\",\"order\":\"little\",\"shape\":[60]},\"date\":{\"__ndarray__\":\"AABgxkbujMIAACAKYLOMwgAAwICieIzCAADAsUDIi8IAAGAog42LwgAAAJ/FUovCAACgFQgYi8IAAGBZId2KwgAAANBjoorCAACgRqZnisIAAEC96CyKwgAAAAEC8onCAACgd0S3icIAAEDuhnyJwgAA4GTJQYnCAACgqOIGicIAAEAfJcyIwgAA4JVnkYjCAACADKpWiMIAAEBQwxuIwgAA4MYF4YfCAACAPUimh8IAACC0imuHwgAA4PejMIfCAACAbub1hsIAACDlKLuGwgAAwFtrgIbCAACAn4RFhsIAACAWxwqGwgAAwIwJ0IXCAABgA0yVhcIAACBHZVqFwgAAwL2nH4XCAABgNOrkhMIAAACrLKqEwgAAwO5Fb4TCAABgZYg0hMIAAADcyvmDwgAAoFINv4PCAABgliaEg8IAAAANaUmDwgAAoIOrDoPCAABA+u3TgsIAAAA+B5mCwgAAoLRJXoLCAABAK4wjgsIAAOChzuiBwgAAoOXnrYHCAABAXCpzgcIAAODSbDiBwgAAgEmv/YDCAABAjcjCgMIAAOADC4iAwgAAgHpNTYDCAAAg8Y8SgMIAAIDPpK9/wgAAwLwpOn/CAAAAqq7EfsIAAECXM09+wgAAwB5m2X3C\",\"dtype\":\"float64\",\"order\":\"little\",\"shape\":[60]},\"females_addressed\":{\"__ndarray__\":\"AQAAAAEAAAAAAAAAAAAAAAIAAAAAAAAAAAAAAAMAAAAAAAAAAAAAAAAAAAACAAAAAAAAAAAAAAAAAAAAAAAAAAAAAAAAAAAAAAAAAAEAAAABAAAAAQAAAAEAAAABAAAABQAAAAMAAAAAAAAAAwAAAAQAAAACAAAAAgAAAAkAAAADAAAABgAAAAIAAAACAAAAAwAAAAQAAAAJAAAAAwAAAAMAAAAHAAAADAAAAA0AAAAJAAAAEwAAAAgAAAAIAAAADwAAAB0AAAAFAAAABwAAABMAAAAOAAAADQAAAAIAAAAAAAAAAAAAAAAAAAAAAAAA\",\"dtype\":\"int32\",\"order\":\"little\",\"shape\":[60]},\"females_mentioned\":{\"__ndarray__\":\"AgAAAAAAAAAAAAAAAAAAAAEAAAAAAAAAAwAAAAQAAAAAAAAAAAAAAAkAAAACAAAAAAAAAAAAAAABAAAAAAAAAAAAAAACAAAAAgAAAAoAAAAVAAAACQAAAAQAAAASAAAAGQAAABUAAAAXAAAAEwAAABgAAAAXAAAAFwAAABsAAAAVAAAAIgAAABgAAAAQAAAAFQAAAAsAAABHAAAAFQAAAB4AAAAeAAAAMgAAAB4AAAArAAAAJgAAABgAAAAZAAAAGAAAAEgAAAAOAAAAHgAAABIAAAAOAAAACQAAAAAAAAAAAAAAAAAAAAAAAAAAAAAA\",\"dtype\":\"int32\",\"order\":\"little\",\"shape\":[60]},\"index\":[0,1,2,3,4,5,6,7,8,9,10,11,12,13,14,15,16,17,18,19,20,21,22,23,24,25,26,27,28,29,30,31,32,33,34,35,36,37,38,39,40,41,42,43,44,45,46,47,48,49,50,51,52,53,54,55,56,57,58,59],\"males_addressed\":{\"__ndarray__\":\"AQAAAAAAAAABAAAAAQAAAAMAAAABAAAAAAAAAAEAAAAAAAAAAAAAAAQAAAAEAAAABQAAAAcAAAAHAAAABAAAAAYAAAAFAAAABQAAAAsAAAAiAAAAEwAAAA4AAAAnAAAAMAAAADIAAAAsAAAAMwAAACIAAABDAAAANgAAADsAAAAoAAAAKgAAADYAAAAhAAAALAAAACEAAAAxAAAAIAAAADAAAAAwAAAAXAAAAEkAAABKAAAAYAAAAD0AAAA4AAAARAAAADIAAAAwAAAALwAAADkAAAA3AAAAOwAAAAYAAAAFAAAABAAAAAIAAAACAAAA\",\"dtype\":\"int32\",\"order\":\"little\",\"shape\":[60]},\"males_mentioned\":{\"__ndarray__\":\"BgAAAAAAAAAEAAAAAQAAAAsAAAABAAAAJwAAAAwAAAACAAAAAQAAAAwAAAATAAAABAAAAAoAAAAUAAAABwAAAAQAAAAQAAAADQAAAC0AAACEAAAASwAAAC0AAABvAAAAfgAAAJEAAAB9AAAAyQAAACgAAAB1AAAARwAAAFoAAABnAAAASAAAAEcAAAAtAAAAQwAAACYAAACaAAAALQAAAFkAAAA2AAAAYwAAAEkAAAA4AAAAXgAAACQAAAAnAAAATAAAAIwAAABAAAAATgAAABYAAABFAAAAJQAAAAMAAAAAAAAAAAAAAAEAAAAAAAAA\",\"dtype\":\"int32\",\"order\":\"little\",\"shape\":[60]},\"others_addressed\":{\"__ndarray__\":\"AAAAAAAAAAAAAAAAAAAAAAEAAAAAAAAABQAAAAQAAAACAAAAAQAAAAQAAAACAAAAAQAAAAEAAAAFAAAAAwAAAAIAAAAFAAAAAAAAAAQAAAACAAAAAAAAAAIAAAABAAAAAAAAAAQAAAAEAAAAAgAAAAQAAAACAAAAAAAAAAUAAAAEAAAABwAAAAQAAAAGAAAAAwAAAAUAAAAIAAAACAAAAAEAAAAFAAAABgAAAAYAAAAGAAAACgAAAAQAAAAAAAAABQAAAAUAAAADAAAAAwAAAAQAAAAJAAAABAAAAAMAAAACAAAAAAAAAAIAAAAAAAAA\",\"dtype\":\"int32\",\"order\":\"little\",\"shape\":[60]},\"others_mentioned\":{\"__ndarray__\":\"AAAAAAAAAAAAAAAAAAAAAAAAAAAAAAAAAAAAAAAAAAAAAAAAAAAAAAAAAAAAAAAAAAAAAAAAAAAAAAAAAAAAAAAAAAAAAAAAAAAAAAAAAAAAAAAAAAAAAAAAAAAAAAAAAAAAAAAAAAAAAAAAAAAAAAAAAAAAAAAAAAAAAAAAAAAAAAAAAAAAAAAAAAAAAAAAAAAAAAAAAAAAAAAAAAAAAAAAAAAAAAAAAAAAAAAAAAAAAAAAAAAAAAAAAAAAAAAAAAAAAAAAAAAAAAAAAAAAAAAAAAAAAAAAAAAAAAAAAAAAAAAAAAAAAAAAAAAAAAAA\",\"dtype\":\"int32\",\"order\":\"little\",\"shape\":[60]},\"year\":[\"1844\",\"1845\",\"1846\",\"1849\",\"1850\",\"1851\",\"1852\",\"1853\",\"1854\",\"1855\",\"1856\",\"1857\",\"1858\",\"1859\",\"1860\",\"1861\",\"1862\",\"1863\",\"1864\",\"1865\",\"1866\",\"1867\",\"1868\",\"1869\",\"1870\",\"1871\",\"1872\",\"1873\",\"1874\",\"1875\",\"1876\",\"1877\",\"1878\",\"1879\",\"1880\",\"1881\",\"1882\",\"1883\",\"1884\",\"1885\",\"1886\",\"1887\",\"1888\",\"1889\",\"1890\",\"1891\",\"1892\",\"1893\",\"1894\",\"1895\",\"1896\",\"1897\",\"1898\",\"1899\",\"1900\",\"1901\",\"1902\",\"1903\",\"1904\",\"1905\"]},\"selected\":{\"id\":\"3793\"},\"selection_policy\":{\"id\":\"3792\"}},\"id\":\"3701\",\"type\":\"ColumnDataSource\"},{\"attributes\":{\"formatter\":{\"id\":\"3774\"},\"major_label_policy\":{\"id\":\"3775\"},\"ticker\":{\"id\":\"3714\"}},\"id\":\"3713\",\"type\":\"DatetimeAxis\"},{\"attributes\":{\"line_alpha\":0.1,\"line_color\":\"grey\",\"x\":{\"field\":\"date\"},\"y\":{\"field\":\"anons_addressed\"}},\"id\":\"3964\",\"type\":\"Line\"},{\"attributes\":{\"data_source\":{\"id\":\"3701\"},\"glyph\":{\"id\":\"3854\"},\"hover_glyph\":null,\"muted_glyph\":null,\"nonselection_glyph\":{\"id\":\"3855\"},\"view\":{\"id\":\"3857\"}},\"id\":\"3856\",\"type\":\"GlyphRenderer\"},{\"attributes\":{\"fill_alpha\":{\"value\":0.3},\"fill_color\":{\"value\":\"grey\"},\"line_alpha\":{\"value\":0.3},\"line_color\":{\"value\":\"grey\"},\"x\":{\"field\":\"date\"},\"y\":{\"field\":\"anons_addressed\"}},\"id\":\"3854\",\"type\":\"Scatter\"},{\"attributes\":{\"line_alpha\":0.3,\"line_color\":\"grey\",\"x\":{\"field\":\"date\"},\"y\":{\"field\":\"anons_addressed\"}},\"id\":\"3963\",\"type\":\"Line\"},{\"attributes\":{\"fill_alpha\":{\"value\":0.1},\"fill_color\":{\"value\":\"grey\"},\"line_alpha\":{\"value\":0.1},\"line_color\":{\"value\":\"grey\"},\"x\":{\"field\":\"date\"},\"y\":{\"field\":\"anons_addressed\"}},\"id\":\"3855\",\"type\":\"Scatter\"},{\"attributes\":{\"source\":{\"id\":\"3701\"}},\"id\":\"3857\",\"type\":\"CDSView\"},{\"attributes\":{\"mantissas\":[1,2,5],\"max_interval\":500.0,\"num_minor_ticks\":0},\"id\":\"3780\",\"type\":\"AdaptiveTicker\"},{\"attributes\":{\"source\":{\"id\":\"3701\"}},\"id\":\"3966\",\"type\":\"CDSView\"},{\"attributes\":{},\"id\":\"3998\",\"type\":\"BasicTickFormatter\"},{\"attributes\":{\"label\":{\"value\":\"N/A (Unknown)\"},\"renderers\":[{\"id\":\"3856\"},{\"id\":\"3965\"}]},\"id\":\"3880\",\"type\":\"LegendItem\"},{\"attributes\":{\"data_source\":{\"id\":\"3701\"},\"glyph\":{\"id\":\"3963\"},\"hover_glyph\":null,\"muted_glyph\":null,\"nonselection_glyph\":{\"id\":\"3964\"},\"view\":{\"id\":\"3966\"}},\"id\":\"3965\",\"type\":\"GlyphRenderer\"},{\"attributes\":{},\"id\":\"3777\",\"type\":\"BasicTickFormatter\"},{\"attributes\":{\"fill_alpha\":{\"value\":0.1},\"fill_color\":{\"value\":\"blue\"},\"line_alpha\":{\"value\":0.1},\"line_color\":{\"value\":\"blue\"},\"x\":{\"field\":\"date\"},\"y\":{\"field\":\"males_mentioned\"}},\"id\":\"3991\",\"type\":\"Scatter\"},{\"attributes\":{},\"id\":\"3778\",\"type\":\"AllLabels\"},{\"attributes\":{\"data_source\":{\"id\":\"3701\"},\"glyph\":{\"id\":\"3882\"},\"hover_glyph\":null,\"muted_glyph\":null,\"nonselection_glyph\":{\"id\":\"3883\"},\"view\":{\"id\":\"3885\"}},\"id\":\"3884\",\"type\":\"GlyphRenderer\"}],\"root_ids\":[\"4210\"]},\"title\":\"Bokeh Application\",\"version\":\"2.3.2\"}};\n",
       "  var render_items = [{\"docid\":\"99725a16-d79b-4dcf-b639-5bb447049c47\",\"root_ids\":[\"4210\"],\"roots\":{\"4210\":\"f8e467a0-ea74-4625-91c7-7b191fb97024\"}}];\n",
       "  root.Bokeh.embed.embed_items_notebook(docs_json, render_items);\n",
       "\n",
       "  }\n",
       "  if (root.Bokeh !== undefined) {\n",
       "    embed_document(root);\n",
       "  } else {\n",
       "    var attempts = 0;\n",
       "    var timer = setInterval(function(root) {\n",
       "      if (root.Bokeh !== undefined) {\n",
       "        clearInterval(timer);\n",
       "        embed_document(root);\n",
       "      } else {\n",
       "        attempts++;\n",
       "        if (attempts > 100) {\n",
       "          clearInterval(timer);\n",
       "          console.log(\"Bokeh: ERROR: Unable to run BokehJS code because BokehJS library is missing\");\n",
       "        }\n",
       "      }\n",
       "    }, 10, root)\n",
       "  }\n",
       "})(window);"
      ],
      "application/vnd.bokehjs_exec.v0+json": ""
     },
     "metadata": {
      "application/vnd.bokehjs_exec.v0+json": {
       "id": "4210"
      }
     },
     "output_type": "display_data"
    }
   ],
   "source": [
    "from bokeh.models import ColumnDataSource\n",
    "from bokeh.plotting import figure, show\n",
    "from bokeh.layouts import column\n",
    "from bokeh.io import export_png\n",
    "from bokeh.transform import jitter\n",
    "\n",
    "title = \"Ibsen's outgoing letters by gender\"\n",
    "if mode==\"cumulative\":\n",
    "    print(\"MODE: CUMULATIVE DATA\")\n",
    "    title += \", cumulative view\"\n",
    "    title1 = title+\" - Addressed to.\"\n",
    "    title2 = title+\" - Mentioning.\"\n",
    "    source = ColumnDataSource(df)\n",
    "\n",
    "    p = figure(width=800, height=400, x_axis_type='datetime',\n",
    "               title=title1)\n",
    "\n",
    "    #p.xaxis.formatter.days = ['%Y']\n",
    "    p.x_range.range_padding = 0\n",
    "    #p.ygrid.grid_line_color = None\n",
    "\n",
    "    d = figure(width=800, height=400, x_axis_type='datetime',\n",
    "               title=title2)\n",
    "\n",
    "\n",
    "    p.line(x='date', y='males_addressed', color='blue',  source=source, alpha=1, legend_label=\"Men\")\n",
    "    p.line(x='date', y='females_addressed', color='hotpink',  source=source, alpha=1, legend_label=\"Women\")\n",
    "    p.line(x='date', y='others_addressed', color='green',  source=source, alpha=0.5, legend_label=\"N/A (Organizations)\")\n",
    "    p.line(x='date', y='anons_addressed', color='grey',  source=source, alpha=0.5, legend_label=\"N/A (Unknown)\")\n",
    "\n",
    "\n",
    "\n",
    "\n",
    "    d.line(x='date', y='males_mentioned', color='blue',\n",
    "              source=source, alpha=1, legend_label=\"Men\")\n",
    "    d.line(x='date', y='females_mentioned', color='hotpink', \n",
    "              source=source, alpha=1, legend_label=\"Women\")\n",
    "    d.line(x='date', y='others_mentioned', color='green',\n",
    "              source=source, alpha=0.5, legend_label=\"N/A (Organizations)\")\n",
    "    d.line(x='date', y='anons_mentioned', color='grey',\n",
    "              source=source, alpha=0.5, legend_label=\"N/A (Unknown)\")\n",
    "    #p.xaxis.formatter.days = ['%Y']\n",
    "    p.x_range.range_padding = 0\n",
    "    d.x_range.range_padding = 0\n",
    "    #p.ygrid.gridS_line_color = None\n",
    "\n",
    "    p.legend.location = \"top_left\"\n",
    "    p.legend.click_policy=\"hide\"\n",
    "\n",
    "    d.legend.location = \"top_left\"\n",
    "    d.legend.click_policy=\"hide\"\n",
    "\n",
    "    show(column(p, d))\n",
    "    if mode==\"cumulative\":\n",
    "        export_png(column(p, d), filename=\"pngs/Cumulative.png\") # CONDAFOX\n",
    "else:\n",
    "    print(\"MODE: BY YEAR\")\n",
    "    df1 = df\n",
    "    lst = []\n",
    "    lst1 = []\n",
    "    for y in df1['date']:\n",
    "        y = y.strftime(\"%Y/%m/%d\")\n",
    "        z = y[:4]\n",
    "        lst.append(z)\n",
    "        x = y[5:7]\n",
    "        lst1.append(x)\n",
    "    df1['year'] = lst\n",
    "    df1['month'] = lst1\n",
    "    #df1 = df1.sort_values('month')\n",
    "    integers = ['males_addressed',\n",
    "         'females_addressed',\n",
    "         'others_addressed',\n",
    "         'anons_addressed',\n",
    "         'males_mentioned',\n",
    "         'females_mentioned',\n",
    "         'others_mentioned',\n",
    "         'anons_mentioned']\n",
    "    for a in integers:\n",
    "        df1[a] = df1[a].astype(int)\n",
    "    #df1.groupby(['year', 'month'])['males_addressed'].agg('sum')\n",
    "    df2 = df1.groupby(['year']).sum() # what the goddamn is going on with the maths here??\n",
    "    df2 = df2.reset_index()\n",
    "\n",
    "    df2['date'] = df2['year']\n",
    "\n",
    "\n",
    "    df2['date'] = pd.to_datetime(df2['date'])\n",
    "    title = \"Ibsen's outgoing letters by year, gender\"\n",
    "    title1 = title+\" - Addressed to.\"\n",
    "    title2 = title+\" - Mentioning.\"\n",
    "    source = ColumnDataSource(df2)\n",
    "\n",
    "    p = figure(width=800, height=400, x_axis_type='datetime',\n",
    "               title=title1)\n",
    "    d = figure(width=800, height=400, x_axis_type='datetime',\n",
    "               title=title2)\n",
    "\n",
    "    p.scatter(x='date', y='males_addressed', color='blue',  source=source, alpha=0.6, legend_label=\"Men\")\n",
    "    p.scatter(x='date', y='females_addressed', color='hotpink',  source=source, alpha=0.6, legend_label=\"Women\")\n",
    "    p.scatter(x='date', y='others_addressed', color='green',  source=source, alpha=0.3, legend_label=\"N/A (Organizations)\")\n",
    "    p.scatter(x='date', y='anons_addressed', color='grey',  source=source, alpha=0.3, legend_label=\"N/A (Unknown)\")\n",
    "\n",
    "    p.line(x='date', y='males_addressed', color='blue',  source=source, alpha=0.6, legend_label=\"Men\")\n",
    "    p.line(x='date', y='females_addressed', color='hotpink',  source=source, alpha=0.6, legend_label=\"Women\")\n",
    "    p.line(x='date', y='others_addressed', color='green',  source=source, alpha=0.3, legend_label=\"N/A (Organizations)\")\n",
    "    p.line(x='date', y='anons_addressed', color='grey',  source=source, alpha=0.3, legend_label=\"N/A (Unknown)\")\n",
    "\n",
    "\n",
    "\n",
    "    d.scatter(x='date', y='males_mentioned', color='blue',\n",
    "              source=source, alpha=0.6, legend_label=\"Men\")\n",
    "    d.scatter(x='date', y='females_mentioned', color='hotpink', \n",
    "              source=source, alpha=0.6, legend_label=\"Women\")\n",
    "    d.scatter(x='date', y='others_mentioned', color='green',\n",
    "              source=source, alpha=0.3, legend_label=\"N/A (Organizations)\")\n",
    "    d.scatter(x='date', y='anons_mentioned', color='grey',\n",
    "              source=source, alpha=0.3, legend_label=\"N/A (Unknown)\")\n",
    "\n",
    "    d.line(x='date', y='males_mentioned', color='blue',\n",
    "              source=source, alpha=0.6, legend_label=\"Men\")\n",
    "    d.line(x='date', y='females_mentioned', color='hotpink', \n",
    "              source=source, alpha=0.6, legend_label=\"Women\")\n",
    "    d.line(x='date', y='others_mentioned', color='green',\n",
    "              source=source, alpha=0.3, legend_label=\"N/A (Organizations)\")\n",
    "    d.line(x='date', y='anons_mentioned', color='grey',\n",
    "              source=source, alpha=0.3, legend_label=\"N/A (Unknown)\")\n",
    "\n",
    "\n",
    "    p.x_range.range_padding = 0\n",
    "    d.x_range.range_padding = 0\n",
    "    #p.ygrid.gridS_line_color = None\n",
    "\n",
    "    p.legend.location = \"top_left\"\n",
    "    p.legend.click_policy=\"hide\"\n",
    "\n",
    "    d.legend.location = \"top_left\"\n",
    "    d.legend.click_policy=\"hide\"\n",
    "\n",
    "    show(column(p, d))\n",
    "    export_png(column(p, d), filename=\"pngs/ByYear.png\") # CONDAFOX"
   ]
  },
  {
   "cell_type": "markdown",
   "id": "f816f3c0",
   "metadata": {},
   "source": [
    "## Plotting 2"
   ]
  },
  {
   "cell_type": "code",
   "execution_count": 165,
   "id": "5b97949d",
   "metadata": {},
   "outputs": [
    {
     "data": {
      "text/html": [
       "\n",
       "\n",
       "\n",
       "\n",
       "\n",
       "\n",
       "  <div class=\"bk-root\" id=\"cf477642-ed47-4a35-9745-c19fa8d09bf0\" data-root-id=\"17796\"></div>\n"
      ]
     },
     "metadata": {},
     "output_type": "display_data"
    },
    {
     "data": {
      "application/javascript": [
       "(function(root) {\n",
       "  function embed_document(root) {\n",
       "    \n",
       "  var docs_json = {\"c19a9ebc-364d-423a-9066-790dae939613\":{\"defs\":[],\"roots\":{\"references\":[{\"attributes\":{\"below\":[{\"id\":\"17807\"}],\"center\":[{\"id\":\"17809\"},{\"id\":\"17813\"},{\"id\":\"17837\"}],\"height\":500,\"left\":[{\"id\":\"17810\"}],\"outline_line_color\":null,\"renderers\":[{\"id\":\"17826\"},{\"id\":\"17842\"},{\"id\":\"17857\"},{\"id\":\"17872\"}],\"title\":{\"id\":\"17797\"},\"toolbar\":{\"id\":\"17814\"},\"toolbar_location\":null,\"width\":1000,\"x_range\":{\"id\":\"17799\"},\"x_scale\":{\"id\":\"17803\"},\"y_range\":{\"id\":\"17801\"},\"y_scale\":{\"id\":\"17805\"}},\"id\":\"17796\",\"subtype\":\"Figure\",\"type\":\"Plot\"},{\"attributes\":{\"formatter\":{\"id\":\"17832\"},\"major_label_policy\":{\"id\":\"17833\"},\"major_label_text_font_size\":\"8pt\",\"minor_tick_line_color\":null,\"ticker\":{\"id\":\"17811\"}},\"id\":\"17810\",\"type\":\"LinearAxis\"},{\"attributes\":{\"formatter\":{\"id\":\"17829\"},\"major_label_orientation\":0.785,\"major_label_policy\":{\"id\":\"17830\"},\"minor_tick_line_color\":null,\"ticker\":{\"id\":\"17808\"}},\"id\":\"17807\",\"type\":\"CategoricalAxis\"},{\"attributes\":{},\"id\":\"17829\",\"type\":\"CategoricalTickFormatter\"},{\"attributes\":{},\"id\":\"17830\",\"type\":\"AllLabels\"},{\"attributes\":{\"bottom\":{\"expr\":{\"id\":\"17817\"}},\"fill_color\":{\"value\":\"hotpink\"},\"line_color\":{\"value\":\"hotpink\"},\"top\":{\"expr\":{\"id\":\"17818\"}},\"width\":{\"value\":0.9},\"x\":{\"field\":\"year\"}},\"id\":\"17840\",\"type\":\"VBar\"},{\"attributes\":{\"fields\":[]},\"id\":\"17815\",\"type\":\"Stack\"},{\"attributes\":{},\"id\":\"17805\",\"type\":\"LinearScale\"},{\"attributes\":{\"start\":0},\"id\":\"17801\",\"type\":\"DataRange1d\"},{\"attributes\":{\"axis\":{\"id\":\"17810\"},\"dimension\":1,\"ticker\":null},\"id\":\"17813\",\"type\":\"Grid\"},{\"attributes\":{\"label\":{\"value\":\"Females\"},\"renderers\":[{\"id\":\"17842\"}]},\"id\":\"17853\",\"type\":\"LegendItem\"},{\"attributes\":{\"fields\":[\"males_addressed\",\"females_addressed\"]},\"id\":\"17818\",\"type\":\"Stack\"},{\"attributes\":{\"active_multi\":null},\"id\":\"17814\",\"type\":\"Toolbar\"},{\"attributes\":{\"source\":{\"id\":\"17794\"}},\"id\":\"17843\",\"type\":\"CDSView\"},{\"attributes\":{},\"id\":\"17808\",\"type\":\"CategoricalTicker\"},{\"attributes\":{\"data_source\":{\"id\":\"17794\"},\"glyph\":{\"id\":\"17840\"},\"hover_glyph\":null,\"muted_glyph\":null,\"name\":\"females_addressed\",\"nonselection_glyph\":{\"id\":\"17841\"},\"view\":{\"id\":\"17843\"}},\"id\":\"17842\",\"type\":\"GlyphRenderer\"},{\"attributes\":{\"bottom\":{\"expr\":{\"id\":\"17821\"}},\"fill_color\":{\"value\":\"grey\"},\"line_color\":{\"value\":\"grey\"},\"top\":{\"expr\":{\"id\":\"17822\"}},\"width\":{\"value\":0.9},\"x\":{\"field\":\"year\"}},\"id\":\"17870\",\"type\":\"VBar\"},{\"attributes\":{\"fields\":[\"males_addressed\"]},\"id\":\"17816\",\"type\":\"Stack\"},{\"attributes\":{\"bottom\":{\"expr\":{\"id\":\"17817\"}},\"fill_alpha\":{\"value\":0.1},\"fill_color\":{\"value\":\"hotpink\"},\"line_alpha\":{\"value\":0.1},\"line_color\":{\"value\":\"hotpink\"},\"top\":{\"expr\":{\"id\":\"17818\"}},\"width\":{\"value\":0.9},\"x\":{\"field\":\"year\"}},\"id\":\"17841\",\"type\":\"VBar\"},{\"attributes\":{\"axis\":{\"id\":\"17807\"},\"grid_line_color\":null,\"ticker\":null},\"id\":\"17809\",\"type\":\"Grid\"},{\"attributes\":{\"label\":{\"value\":\"Organizations\"},\"renderers\":[{\"id\":\"17857\"}]},\"id\":\"17868\",\"type\":\"LegendItem\"},{\"attributes\":{\"source\":{\"id\":\"17794\"}},\"id\":\"17873\",\"type\":\"CDSView\"},{\"attributes\":{\"data_source\":{\"id\":\"17794\"},\"glyph\":{\"id\":\"17870\"},\"hover_glyph\":null,\"muted_glyph\":null,\"name\":\"anons_addressed\",\"nonselection_glyph\":{\"id\":\"17871\"},\"view\":{\"id\":\"17873\"}},\"id\":\"17872\",\"type\":\"GlyphRenderer\"},{\"attributes\":{},\"id\":\"17835\",\"type\":\"UnionRenderers\"},{\"attributes\":{\"text\":\"Ibsen's letters by year, gender of recipient(s)\",\"text_font_size\":\"15pt\"},\"id\":\"17797\",\"type\":\"Title\"},{\"attributes\":{\"bottom\":{\"expr\":{\"id\":\"17821\"}},\"fill_alpha\":{\"value\":0.1},\"fill_color\":{\"value\":\"grey\"},\"line_alpha\":{\"value\":0.1},\"line_color\":{\"value\":\"grey\"},\"top\":{\"expr\":{\"id\":\"17822\"}},\"width\":{\"value\":0.9},\"x\":{\"field\":\"year\"}},\"id\":\"17871\",\"type\":\"VBar\"},{\"attributes\":{},\"id\":\"17836\",\"type\":\"Selection\"},{\"attributes\":{},\"id\":\"17803\",\"type\":\"CategoricalScale\"},{\"attributes\":{\"fields\":[\"males_addressed\"]},\"id\":\"17817\",\"type\":\"Stack\"},{\"attributes\":{\"bottom\":{\"expr\":{\"id\":\"17819\"}},\"fill_color\":{\"value\":\"green\"},\"line_color\":{\"value\":\"green\"},\"top\":{\"expr\":{\"id\":\"17820\"}},\"width\":{\"value\":0.9},\"x\":{\"field\":\"year\"}},\"id\":\"17855\",\"type\":\"VBar\"},{\"attributes\":{\"source\":{\"id\":\"17794\"}},\"id\":\"17827\",\"type\":\"CDSView\"},{\"attributes\":{\"data\":{\"anons_addressed\":{\"__ndarray__\":\"AAAAAAAAAAAAAAAAAAAAAAAAAAAAAAAAAAAAAAAAAAACAAAAAAAAAAAAAAABAAAAAAAAAAEAAAAAAAAAAAAAAAIAAAAAAAAAAAAAAAAAAAAAAAAAAAAAAAAAAAAAAAAAAAAAAAMAAAABAAAAAwAAAAEAAAACAAAAAgAAAAAAAAABAAAAAQAAAAEAAAABAAAAAAAAAAAAAAAAAAAAAAAAAAIAAAADAAAAAwAAAAQAAAAJAAAADgAAAAMAAAAFAAAACgAAAAUAAAAIAAAAAQAAAAYAAAAFAAAACgAAAAMAAAAAAAAAAQAAAAEAAAACAAAA\",\"dtype\":\"int32\",\"order\":\"little\",\"shape\":[60]},\"females_addressed\":{\"__ndarray__\":\"AQAAAAEAAAAAAAAAAAAAAAIAAAAAAAAAAAAAAAMAAAAAAAAAAAAAAAAAAAACAAAAAAAAAAAAAAAAAAAAAAAAAAAAAAAAAAAAAAAAAAEAAAABAAAAAQAAAAEAAAABAAAABQAAAAMAAAAAAAAAAwAAAAQAAAACAAAAAgAAAAkAAAADAAAABgAAAAIAAAACAAAAAwAAAAQAAAAJAAAAAwAAAAMAAAAHAAAADAAAAA0AAAAJAAAAEwAAAAgAAAAIAAAADwAAAB0AAAAFAAAABwAAABMAAAAOAAAADQAAAAIAAAAAAAAAAAAAAAAAAAAAAAAA\",\"dtype\":\"int32\",\"order\":\"little\",\"shape\":[60]},\"index\":[0,1,2,3,4,5,6,7,8,9,10,11,12,13,14,15,16,17,18,19,20,21,22,23,24,25,26,27,28,29,30,31,32,33,34,35,36,37,38,39,40,41,42,43,44,45,46,47,48,49,50,51,52,53,54,55,56,57,58,59],\"males_addressed\":{\"__ndarray__\":\"AQAAAAAAAAABAAAAAQAAAAMAAAABAAAAAAAAAAEAAAAAAAAAAAAAAAQAAAAEAAAABQAAAAcAAAAHAAAABAAAAAYAAAAFAAAABQAAAAsAAAAiAAAAEwAAAA4AAAAnAAAAMAAAADIAAAAsAAAAMwAAACIAAABDAAAANgAAADsAAAAoAAAAKgAAADYAAAAhAAAALAAAACEAAAAxAAAAIAAAADAAAAAwAAAAXAAAAEkAAABKAAAAYAAAAD0AAAA4AAAARAAAADIAAAAwAAAALwAAADkAAAA3AAAAOwAAAAYAAAAFAAAABAAAAAIAAAACAAAA\",\"dtype\":\"int32\",\"order\":\"little\",\"shape\":[60]},\"others_addressed\":{\"__ndarray__\":\"AAAAAAAAAAAAAAAAAAAAAAEAAAAAAAAABQAAAAQAAAACAAAAAQAAAAQAAAACAAAAAQAAAAEAAAAFAAAAAwAAAAIAAAAFAAAAAAAAAAQAAAACAAAAAAAAAAIAAAABAAAAAAAAAAQAAAAEAAAAAgAAAAQAAAACAAAAAAAAAAUAAAAEAAAABwAAAAQAAAAGAAAAAwAAAAUAAAAIAAAACAAAAAEAAAAFAAAABgAAAAYAAAAGAAAACgAAAAQAAAAAAAAABQAAAAUAAAADAAAAAwAAAAQAAAAJAAAABAAAAAMAAAACAAAAAAAAAAIAAAAAAAAA\",\"dtype\":\"int32\",\"order\":\"little\",\"shape\":[60]},\"year\":[\"1844\",\"1845\",\"1846\",\"1849\",\"1850\",\"1851\",\"1852\",\"1853\",\"1854\",\"1855\",\"1856\",\"1857\",\"1858\",\"1859\",\"1860\",\"1861\",\"1862\",\"1863\",\"1864\",\"1865\",\"1866\",\"1867\",\"1868\",\"1869\",\"1870\",\"1871\",\"1872\",\"1873\",\"1874\",\"1875\",\"1876\",\"1877\",\"1878\",\"1879\",\"1880\",\"1881\",\"1882\",\"1883\",\"1884\",\"1885\",\"1886\",\"1887\",\"1888\",\"1889\",\"1890\",\"1891\",\"1892\",\"1893\",\"1894\",\"1895\",\"1896\",\"1897\",\"1898\",\"1899\",\"1900\",\"1901\",\"1902\",\"1903\",\"1904\",\"1905\"]},\"selected\":{\"id\":\"17836\"},\"selection_policy\":{\"id\":\"17835\"}},\"id\":\"17794\",\"type\":\"ColumnDataSource\"},{\"attributes\":{\"fields\":[\"males_addressed\",\"females_addressed\"]},\"id\":\"17819\",\"type\":\"Stack\"},{\"attributes\":{\"fields\":[\"males_addressed\",\"females_addressed\",\"others_addressed\"]},\"id\":\"17820\",\"type\":\"Stack\"},{\"attributes\":{\"source\":{\"id\":\"17794\"}},\"id\":\"17858\",\"type\":\"CDSView\"},{\"attributes\":{\"fields\":[\"males_addressed\",\"females_addressed\",\"others_addressed\"]},\"id\":\"17821\",\"type\":\"Stack\"},{\"attributes\":{\"data_source\":{\"id\":\"17794\"},\"glyph\":{\"id\":\"17855\"},\"hover_glyph\":null,\"muted_glyph\":null,\"name\":\"others_addressed\",\"nonselection_glyph\":{\"id\":\"17856\"},\"view\":{\"id\":\"17858\"}},\"id\":\"17857\",\"type\":\"GlyphRenderer\"},{\"attributes\":{\"fields\":[\"males_addressed\",\"females_addressed\",\"others_addressed\",\"anons_addressed\"]},\"id\":\"17822\",\"type\":\"Stack\"},{\"attributes\":{\"bottom\":{\"expr\":{\"id\":\"17815\"}},\"fill_color\":{\"value\":\"lightblue\"},\"line_color\":{\"value\":\"lightblue\"},\"top\":{\"expr\":{\"id\":\"17816\"}},\"width\":{\"value\":0.9},\"x\":{\"field\":\"year\"}},\"id\":\"17824\",\"type\":\"VBar\"},{\"attributes\":{\"bottom\":{\"expr\":{\"id\":\"17819\"}},\"fill_alpha\":{\"value\":0.1},\"fill_color\":{\"value\":\"green\"},\"line_alpha\":{\"value\":0.1},\"line_color\":{\"value\":\"green\"},\"top\":{\"expr\":{\"id\":\"17820\"}},\"width\":{\"value\":0.9},\"x\":{\"field\":\"year\"}},\"id\":\"17856\",\"type\":\"VBar\"},{\"attributes\":{\"factors\":[\"1844\",\"1845\",\"1846\",\"1849\",\"1850\",\"1851\",\"1852\",\"1853\",\"1854\",\"1855\",\"1856\",\"1857\",\"1858\",\"1859\",\"1860\",\"1861\",\"1862\",\"1863\",\"1864\",\"1865\",\"1866\",\"1867\",\"1868\",\"1869\",\"1870\",\"1871\",\"1872\",\"1873\",\"1874\",\"1875\",\"1876\",\"1877\",\"1878\",\"1879\",\"1880\",\"1881\",\"1882\",\"1883\",\"1884\",\"1885\",\"1886\",\"1887\",\"1888\",\"1889\",\"1890\",\"1891\",\"1892\",\"1893\",\"1894\",\"1895\",\"1896\",\"1897\",\"1898\",\"1899\",\"1900\",\"1901\",\"1902\",\"1903\",\"1904\",\"1905\"]},\"id\":\"17799\",\"type\":\"FactorRange\"},{\"attributes\":{\"data_source\":{\"id\":\"17794\"},\"glyph\":{\"id\":\"17824\"},\"hover_glyph\":null,\"muted_glyph\":null,\"name\":\"males_addressed\",\"nonselection_glyph\":{\"id\":\"17825\"},\"view\":{\"id\":\"17827\"}},\"id\":\"17826\",\"type\":\"GlyphRenderer\"},{\"attributes\":{\"label\":{\"value\":\"Anonymous/Unknown\"},\"renderers\":[{\"id\":\"17872\"}]},\"id\":\"17883\",\"type\":\"LegendItem\"},{\"attributes\":{},\"id\":\"17811\",\"type\":\"BasicTicker\"},{\"attributes\":{\"bottom\":{\"expr\":{\"id\":\"17815\"}},\"fill_alpha\":{\"value\":0.1},\"fill_color\":{\"value\":\"lightblue\"},\"line_alpha\":{\"value\":0.1},\"line_color\":{\"value\":\"lightblue\"},\"top\":{\"expr\":{\"id\":\"17816\"}},\"width\":{\"value\":0.9},\"x\":{\"field\":\"year\"}},\"id\":\"17825\",\"type\":\"VBar\"},{\"attributes\":{\"label\":{\"value\":\"Males\"},\"renderers\":[{\"id\":\"17826\"}]},\"id\":\"17838\",\"type\":\"LegendItem\"},{\"attributes\":{},\"id\":\"17832\",\"type\":\"BasicTickFormatter\"},{\"attributes\":{},\"id\":\"17833\",\"type\":\"AllLabels\"},{\"attributes\":{\"items\":[{\"id\":\"17838\"},{\"id\":\"17853\"},{\"id\":\"17868\"},{\"id\":\"17883\"}],\"location\":\"top_left\",\"orientation\":\"horizontal\"},\"id\":\"17837\",\"type\":\"Legend\"}],\"root_ids\":[\"17796\"]},\"title\":\"Bokeh Application\",\"version\":\"2.3.2\"}};\n",
       "  var render_items = [{\"docid\":\"c19a9ebc-364d-423a-9066-790dae939613\",\"root_ids\":[\"17796\"],\"roots\":{\"17796\":\"cf477642-ed47-4a35-9745-c19fa8d09bf0\"}}];\n",
       "  root.Bokeh.embed.embed_items_notebook(docs_json, render_items);\n",
       "\n",
       "  }\n",
       "  if (root.Bokeh !== undefined) {\n",
       "    embed_document(root);\n",
       "  } else {\n",
       "    var attempts = 0;\n",
       "    var timer = setInterval(function(root) {\n",
       "      if (root.Bokeh !== undefined) {\n",
       "        clearInterval(timer);\n",
       "        embed_document(root);\n",
       "      } else {\n",
       "        attempts++;\n",
       "        if (attempts > 100) {\n",
       "          clearInterval(timer);\n",
       "          console.log(\"Bokeh: ERROR: Unable to run BokehJS code because BokehJS library is missing\");\n",
       "        }\n",
       "      }\n",
       "    }, 10, root)\n",
       "  }\n",
       "})(window);"
      ],
      "application/vnd.bokehjs_exec.v0+json": ""
     },
     "metadata": {
      "application/vnd.bokehjs_exec.v0+json": {
       "id": "17796"
      }
     },
     "output_type": "display_data"
    },
    {
     "data": {
      "text/html": [
       "\n",
       "\n",
       "\n",
       "\n",
       "\n",
       "\n",
       "  <div class=\"bk-root\" id=\"0d146d84-978b-4b9c-a7eb-9a0b9747043d\" data-root-id=\"18370\"></div>\n"
      ]
     },
     "metadata": {},
     "output_type": "display_data"
    },
    {
     "data": {
      "application/javascript": [
       "(function(root) {\n",
       "  function embed_document(root) {\n",
       "    \n",
       "  var docs_json = {\"44ca6785-1aba-4d37-9199-84bed4fb0b27\":{\"defs\":[],\"roots\":{\"references\":[{\"attributes\":{\"below\":[{\"id\":\"18381\"}],\"center\":[{\"id\":\"18383\"},{\"id\":\"18387\"},{\"id\":\"18411\"}],\"height\":500,\"left\":[{\"id\":\"18384\"}],\"outline_line_color\":null,\"renderers\":[{\"id\":\"18400\"},{\"id\":\"18416\"},{\"id\":\"18431\"},{\"id\":\"18446\"}],\"title\":{\"id\":\"18371\"},\"toolbar\":{\"id\":\"18388\"},\"toolbar_location\":null,\"width\":1000,\"x_range\":{\"id\":\"18373\"},\"x_scale\":{\"id\":\"18377\"},\"y_range\":{\"id\":\"18375\"},\"y_scale\":{\"id\":\"18379\"}},\"id\":\"18370\",\"subtype\":\"Figure\",\"type\":\"Plot\"},{\"attributes\":{\"label\":{\"value\":\"Organizations\"},\"renderers\":[{\"id\":\"18431\"}]},\"id\":\"18442\",\"type\":\"LegendItem\"},{\"attributes\":{\"data_source\":{\"id\":\"17795\"},\"glyph\":{\"id\":\"18429\"},\"hover_glyph\":null,\"muted_glyph\":null,\"name\":\"others_mentioned\",\"nonselection_glyph\":{\"id\":\"18430\"},\"view\":{\"id\":\"18432\"}},\"id\":\"18431\",\"type\":\"GlyphRenderer\"},{\"attributes\":{\"fields\":[]},\"id\":\"18389\",\"type\":\"Stack\"},{\"attributes\":{\"source\":{\"id\":\"17795\"}},\"id\":\"18432\",\"type\":\"CDSView\"},{\"attributes\":{\"bottom\":{\"expr\":{\"id\":\"18391\"}},\"fill_color\":{\"value\":\"hotpink\"},\"line_color\":{\"value\":\"hotpink\"},\"top\":{\"expr\":{\"id\":\"18392\"}},\"width\":{\"value\":0.9},\"x\":{\"field\":\"year\"}},\"id\":\"18414\",\"type\":\"VBar\"},{\"attributes\":{\"fields\":[\"males_mentioned\"]},\"id\":\"18391\",\"type\":\"Stack\"},{\"attributes\":{\"source\":{\"id\":\"17795\"}},\"id\":\"18401\",\"type\":\"CDSView\"},{\"attributes\":{\"bottom\":{\"expr\":{\"id\":\"18393\"}},\"fill_alpha\":{\"value\":0.1},\"fill_color\":{\"value\":\"green\"},\"line_alpha\":{\"value\":0.1},\"line_color\":{\"value\":\"green\"},\"top\":{\"expr\":{\"id\":\"18394\"}},\"width\":{\"value\":0.9},\"x\":{\"field\":\"year\"}},\"id\":\"18430\",\"type\":\"VBar\"},{\"attributes\":{\"label\":{\"value\":\"Females\"},\"renderers\":[{\"id\":\"18416\"}]},\"id\":\"18427\",\"type\":\"LegendItem\"},{\"attributes\":{\"fields\":[\"males_mentioned\",\"females_mentioned\"]},\"id\":\"18393\",\"type\":\"Stack\"},{\"attributes\":{\"label\":{\"value\":\"Anonymous/Unknown\"},\"renderers\":[{\"id\":\"18446\"}]},\"id\":\"18457\",\"type\":\"LegendItem\"},{\"attributes\":{\"fields\":[\"males_mentioned\",\"females_mentioned\",\"others_mentioned\"]},\"id\":\"18394\",\"type\":\"Stack\"},{\"attributes\":{\"source\":{\"id\":\"17795\"}},\"id\":\"18417\",\"type\":\"CDSView\"},{\"attributes\":{\"fields\":[\"males_mentioned\",\"females_mentioned\",\"others_mentioned\"]},\"id\":\"18395\",\"type\":\"Stack\"},{\"attributes\":{\"data_source\":{\"id\":\"17795\"},\"glyph\":{\"id\":\"18414\"},\"hover_glyph\":null,\"muted_glyph\":null,\"name\":\"females_mentioned\",\"nonselection_glyph\":{\"id\":\"18415\"},\"view\":{\"id\":\"18417\"}},\"id\":\"18416\",\"type\":\"GlyphRenderer\"},{\"attributes\":{\"fields\":[\"males_mentioned\",\"females_mentioned\",\"others_mentioned\",\"anons_mentioned\"]},\"id\":\"18396\",\"type\":\"Stack\"},{\"attributes\":{\"start\":0},\"id\":\"18375\",\"type\":\"DataRange1d\"},{\"attributes\":{\"bottom\":{\"expr\":{\"id\":\"18389\"}},\"fill_color\":{\"value\":\"lightblue\"},\"line_color\":{\"value\":\"lightblue\"},\"top\":{\"expr\":{\"id\":\"18390\"}},\"width\":{\"value\":0.9},\"x\":{\"field\":\"year\"}},\"id\":\"18398\",\"type\":\"VBar\"},{\"attributes\":{\"axis\":{\"id\":\"18381\"},\"grid_line_color\":null,\"ticker\":null},\"id\":\"18383\",\"type\":\"Grid\"},{\"attributes\":{\"bottom\":{\"expr\":{\"id\":\"18391\"}},\"fill_alpha\":{\"value\":0.1},\"fill_color\":{\"value\":\"hotpink\"},\"line_alpha\":{\"value\":0.1},\"line_color\":{\"value\":\"hotpink\"},\"top\":{\"expr\":{\"id\":\"18392\"}},\"width\":{\"value\":0.9},\"x\":{\"field\":\"year\"}},\"id\":\"18415\",\"type\":\"VBar\"},{\"attributes\":{\"data_source\":{\"id\":\"17795\"},\"glyph\":{\"id\":\"18398\"},\"hover_glyph\":null,\"muted_glyph\":null,\"name\":\"males_mentioned\",\"nonselection_glyph\":{\"id\":\"18399\"},\"view\":{\"id\":\"18401\"}},\"id\":\"18400\",\"type\":\"GlyphRenderer\"},{\"attributes\":{},\"id\":\"18379\",\"type\":\"LinearScale\"},{\"attributes\":{\"bottom\":{\"expr\":{\"id\":\"18389\"}},\"fill_alpha\":{\"value\":0.1},\"fill_color\":{\"value\":\"lightblue\"},\"line_alpha\":{\"value\":0.1},\"line_color\":{\"value\":\"lightblue\"},\"top\":{\"expr\":{\"id\":\"18390\"}},\"width\":{\"value\":0.9},\"x\":{\"field\":\"year\"}},\"id\":\"18399\",\"type\":\"VBar\"},{\"attributes\":{},\"id\":\"18377\",\"type\":\"CategoricalScale\"},{\"attributes\":{\"bottom\":{\"expr\":{\"id\":\"18393\"}},\"fill_color\":{\"value\":\"green\"},\"line_color\":{\"value\":\"green\"},\"top\":{\"expr\":{\"id\":\"18394\"}},\"width\":{\"value\":0.9},\"x\":{\"field\":\"year\"}},\"id\":\"18429\",\"type\":\"VBar\"},{\"attributes\":{\"label\":{\"value\":\"Males\"},\"renderers\":[{\"id\":\"18400\"}]},\"id\":\"18412\",\"type\":\"LegendItem\"},{\"attributes\":{\"formatter\":{\"id\":\"18403\"},\"major_label_orientation\":0.785,\"major_label_policy\":{\"id\":\"18404\"},\"minor_tick_line_color\":null,\"ticker\":{\"id\":\"18382\"}},\"id\":\"18381\",\"type\":\"CategoricalAxis\"},{\"attributes\":{\"text\":\"Ibsen's letters by year, gender of mentioned person(s)\",\"text_font_size\":\"15pt\"},\"id\":\"18371\",\"type\":\"Title\"},{\"attributes\":{},\"id\":\"18409\",\"type\":\"UnionRenderers\"},{\"attributes\":{\"factors\":[\"1844\",\"1845\",\"1846\",\"1849\",\"1850\",\"1851\",\"1852\",\"1853\",\"1854\",\"1855\",\"1856\",\"1857\",\"1858\",\"1859\",\"1860\",\"1861\",\"1862\",\"1863\",\"1864\",\"1865\",\"1866\",\"1867\",\"1868\",\"1869\",\"1870\",\"1871\",\"1872\",\"1873\",\"1874\",\"1875\",\"1876\",\"1877\",\"1878\",\"1879\",\"1880\",\"1881\",\"1882\",\"1883\",\"1884\",\"1885\",\"1886\",\"1887\",\"1888\",\"1889\",\"1890\",\"1891\",\"1892\",\"1893\",\"1894\",\"1895\",\"1896\",\"1897\",\"1898\",\"1899\",\"1900\",\"1901\",\"1902\",\"1903\",\"1904\",\"1905\"]},\"id\":\"18373\",\"type\":\"FactorRange\"},{\"attributes\":{\"formatter\":{\"id\":\"18406\"},\"major_label_policy\":{\"id\":\"18407\"},\"major_label_text_font_size\":\"15pt\",\"minor_tick_line_color\":null,\"ticker\":{\"id\":\"18385\"}},\"id\":\"18384\",\"type\":\"LinearAxis\"},{\"attributes\":{\"items\":[{\"id\":\"18412\"},{\"id\":\"18427\"},{\"id\":\"18442\"},{\"id\":\"18457\"}],\"location\":\"top_left\",\"orientation\":\"horizontal\"},\"id\":\"18411\",\"type\":\"Legend\"},{\"attributes\":{},\"id\":\"18410\",\"type\":\"Selection\"},{\"attributes\":{},\"id\":\"18382\",\"type\":\"CategoricalTicker\"},{\"attributes\":{},\"id\":\"18403\",\"type\":\"CategoricalTickFormatter\"},{\"attributes\":{\"axis\":{\"id\":\"18384\"},\"dimension\":1,\"ticker\":null},\"id\":\"18387\",\"type\":\"Grid\"},{\"attributes\":{},\"id\":\"18404\",\"type\":\"AllLabels\"},{\"attributes\":{},\"id\":\"18385\",\"type\":\"BasicTicker\"},{\"attributes\":{\"active_multi\":null},\"id\":\"18388\",\"type\":\"Toolbar\"},{\"attributes\":{\"bottom\":{\"expr\":{\"id\":\"18395\"}},\"fill_color\":{\"value\":\"grey\"},\"line_color\":{\"value\":\"grey\"},\"top\":{\"expr\":{\"id\":\"18396\"}},\"width\":{\"value\":0.9},\"x\":{\"field\":\"year\"}},\"id\":\"18444\",\"type\":\"VBar\"},{\"attributes\":{\"fields\":[\"males_mentioned\",\"females_mentioned\"]},\"id\":\"18392\",\"type\":\"Stack\"},{\"attributes\":{\"fields\":[\"males_mentioned\"]},\"id\":\"18390\",\"type\":\"Stack\"},{\"attributes\":{\"data\":{\"anons_mentioned\":{\"__ndarray__\":\"AAAAAAAAAAAAAAAAAAAAAAAAAAAAAAAAAAAAAAAAAAAAAAAAAAAAAAAAAAAAAAAAAAAAAAAAAAAAAAAAAAAAAAAAAAAAAAAAAAAAAAAAAAAAAAAAAQAAAAAAAAAAAAAAAQAAAAAAAAAAAAAAAQAAAAAAAAAAAAAAAAAAAAEAAAAAAAAAAAAAAAQAAAABAAAAAgAAAAIAAAAEAAAAAQAAAAcAAAABAAAABAAAAAEAAAACAAAAAAAAAAAAAAAAAAAAAAAAAAAAAAAAAAAABAAAAAAAAAADAAAAAAAAAAAAAAAAAAAAAAAAAAAAAAAAAAAA\",\"dtype\":\"int32\",\"order\":\"little\",\"shape\":[60]},\"females_mentioned\":{\"__ndarray__\":\"AgAAAAAAAAAAAAAAAAAAAAEAAAAAAAAAAwAAAAQAAAAAAAAAAAAAAAkAAAACAAAAAAAAAAAAAAABAAAAAAAAAAAAAAACAAAAAgAAAAoAAAAVAAAACQAAAAQAAAASAAAAGQAAABUAAAAXAAAAEwAAABgAAAAXAAAAFwAAABsAAAAVAAAAIgAAABgAAAAQAAAAFQAAAAsAAABHAAAAFQAAAB4AAAAeAAAAMgAAAB4AAAArAAAAJgAAABgAAAAZAAAAGAAAAEgAAAAOAAAAHgAAABIAAAAOAAAACQAAAAAAAAAAAAAAAAAAAAAAAAAAAAAA\",\"dtype\":\"int32\",\"order\":\"little\",\"shape\":[60]},\"index\":[0,1,2,3,4,5,6,7,8,9,10,11,12,13,14,15,16,17,18,19,20,21,22,23,24,25,26,27,28,29,30,31,32,33,34,35,36,37,38,39,40,41,42,43,44,45,46,47,48,49,50,51,52,53,54,55,56,57,58,59],\"males_mentioned\":{\"__ndarray__\":\"BgAAAAAAAAAEAAAAAQAAAAsAAAABAAAAJwAAAAwAAAACAAAAAQAAAAwAAAATAAAABAAAAAoAAAAUAAAABwAAAAQAAAAQAAAADQAAAC0AAACEAAAASwAAAC0AAABvAAAAfgAAAJEAAAB9AAAAyQAAACgAAAB1AAAARwAAAFoAAABnAAAASAAAAEcAAAAtAAAAQwAAACYAAACaAAAALQAAAFkAAAA2AAAAYwAAAEkAAAA4AAAAXgAAACQAAAAnAAAATAAAAIwAAABAAAAATgAAABYAAABFAAAAJQAAAAMAAAAAAAAAAAAAAAEAAAAAAAAA\",\"dtype\":\"int32\",\"order\":\"little\",\"shape\":[60]},\"others_mentioned\":{\"__ndarray__\":\"AAAAAAAAAAAAAAAAAAAAAAAAAAAAAAAAAAAAAAAAAAAAAAAAAAAAAAAAAAAAAAAAAAAAAAAAAAAAAAAAAAAAAAAAAAAAAAAAAAAAAAAAAAAAAAAAAAAAAAAAAAAAAAAAAAAAAAAAAAAAAAAAAAAAAAAAAAAAAAAAAAAAAAAAAAAAAAAAAAAAAAAAAAAAAAAAAAAAAAAAAAAAAAAAAAAAAAAAAAAAAAAAAAAAAAAAAAAAAAAAAAAAAAAAAAAAAAAAAAAAAAAAAAAAAAAAAAAAAAAAAAAAAAAAAAAAAAAAAAAAAAAAAAAAAAAAAAAAAAAA\",\"dtype\":\"int32\",\"order\":\"little\",\"shape\":[60]},\"year\":[\"1844\",\"1845\",\"1846\",\"1849\",\"1850\",\"1851\",\"1852\",\"1853\",\"1854\",\"1855\",\"1856\",\"1857\",\"1858\",\"1859\",\"1860\",\"1861\",\"1862\",\"1863\",\"1864\",\"1865\",\"1866\",\"1867\",\"1868\",\"1869\",\"1870\",\"1871\",\"1872\",\"1873\",\"1874\",\"1875\",\"1876\",\"1877\",\"1878\",\"1879\",\"1880\",\"1881\",\"1882\",\"1883\",\"1884\",\"1885\",\"1886\",\"1887\",\"1888\",\"1889\",\"1890\",\"1891\",\"1892\",\"1893\",\"1894\",\"1895\",\"1896\",\"1897\",\"1898\",\"1899\",\"1900\",\"1901\",\"1902\",\"1903\",\"1904\",\"1905\"]},\"selected\":{\"id\":\"18410\"},\"selection_policy\":{\"id\":\"18409\"}},\"id\":\"17795\",\"type\":\"ColumnDataSource\"},{\"attributes\":{\"source\":{\"id\":\"17795\"}},\"id\":\"18447\",\"type\":\"CDSView\"},{\"attributes\":{\"data_source\":{\"id\":\"17795\"},\"glyph\":{\"id\":\"18444\"},\"hover_glyph\":null,\"muted_glyph\":null,\"name\":\"anons_mentioned\",\"nonselection_glyph\":{\"id\":\"18445\"},\"view\":{\"id\":\"18447\"}},\"id\":\"18446\",\"type\":\"GlyphRenderer\"},{\"attributes\":{},\"id\":\"18406\",\"type\":\"BasicTickFormatter\"},{\"attributes\":{\"bottom\":{\"expr\":{\"id\":\"18395\"}},\"fill_alpha\":{\"value\":0.1},\"fill_color\":{\"value\":\"grey\"},\"line_alpha\":{\"value\":0.1},\"line_color\":{\"value\":\"grey\"},\"top\":{\"expr\":{\"id\":\"18396\"}},\"width\":{\"value\":0.9},\"x\":{\"field\":\"year\"}},\"id\":\"18445\",\"type\":\"VBar\"},{\"attributes\":{},\"id\":\"18407\",\"type\":\"AllLabels\"}],\"root_ids\":[\"18370\"]},\"title\":\"Bokeh Application\",\"version\":\"2.3.2\"}};\n",
       "  var render_items = [{\"docid\":\"44ca6785-1aba-4d37-9199-84bed4fb0b27\",\"root_ids\":[\"18370\"],\"roots\":{\"18370\":\"0d146d84-978b-4b9c-a7eb-9a0b9747043d\"}}];\n",
       "  root.Bokeh.embed.embed_items_notebook(docs_json, render_items);\n",
       "\n",
       "  }\n",
       "  if (root.Bokeh !== undefined) {\n",
       "    embed_document(root);\n",
       "  } else {\n",
       "    var attempts = 0;\n",
       "    var timer = setInterval(function(root) {\n",
       "      if (root.Bokeh !== undefined) {\n",
       "        clearInterval(timer);\n",
       "        embed_document(root);\n",
       "      } else {\n",
       "        attempts++;\n",
       "        if (attempts > 100) {\n",
       "          clearInterval(timer);\n",
       "          console.log(\"Bokeh: ERROR: Unable to run BokehJS code because BokehJS library is missing\");\n",
       "        }\n",
       "      }\n",
       "    }, 10, root)\n",
       "  }\n",
       "})(window);"
      ],
      "application/vnd.bokehjs_exec.v0+json": ""
     },
     "metadata": {
      "application/vnd.bokehjs_exec.v0+json": {
       "id": "18370"
      }
     },
     "output_type": "display_data"
    }
   ],
   "source": [
    "if mode != \"cumulative\":\n",
    "    df2 = df.copy()\n",
    "    listm=df2.columns.tolist()\n",
    "    df2.drop(['month','date'],inplace=True,axis=1)\n",
    "    df2 = df2.groupby(\"year\").sum()\n",
    "    df2 = df2.reset_index()\n",
    "\n",
    "    years = df2['year'].tolist()\n",
    "    headers1 = ['males_addressed',\"females_addressed\",\"others_addressed\",\"anons_addressed\"]\n",
    "    headers2 = ['males_mentioned','females_mentioned',\"others_mentioned\",\"anons_mentioned\"]\n",
    "\n",
    "    dfAddr = df2.copy()\n",
    "    dfMent = df2.copy()\n",
    "    colors = [\n",
    "        \"lightblue\",\n",
    "        \"hotpink\",\n",
    "        \"green\",\n",
    "        \"grey\"\n",
    "    ]\n",
    "    #dfAddr = dfAddr.set_index(\"year\")\n",
    "    #dfAddr = dfAddr.T\n",
    "    #collist = dfAddr.columns.tolist()\n",
    "    dfAddr.drop(['males_mentioned','females_mentioned','others_mentioned','anons_mentioned'],inplace=True,axis=1)\n",
    "    dfMent.drop(['males_addressed','females_addressed','others_addressed','anons_addressed'],inplace=True,axis=1)\n",
    "    plotheaders = ['Males','Females','Organizations','Anonymous/Unknown']\n",
    "    source = ColumnDataSource(dfAddr)\n",
    "    source2 = ColumnDataSource(dfMent)\n",
    "    p = figure(x_range=years, height=500,width=1000, title=\"Ibsen's letters by year, gender of recipient(s)\",\n",
    "               toolbar_location=None, tools=\"\")\n",
    "\n",
    "    p.vbar_stack(headers1, x='year', width=0.9,\n",
    "                 source=source,legend_label=plotheaders,color=colors)\n",
    "\n",
    "    p.y_range.start = 0\n",
    "    p.x_range.range_padding = 0\n",
    "    p.xgrid.grid_line_color = None\n",
    "    p.axis.minor_tick_line_color = None\n",
    "    p.outline_line_color = None\n",
    "    p.legend.location = \"top_left\"\n",
    "    p.legend.orientation = \"horizontal\"\n",
    "    p.xaxis.major_label_orientation = 3.14/4\n",
    "    #p.xaxis.major_label_text_font_size = \"10pt\"\n",
    "    p.yaxis.major_label_text_font_size = \"8pt\"\n",
    "    p.title.text_font_size = '15pt'\n",
    "    show(p)\n",
    "\n",
    "    d = figure(x_range=years, height=500,width=1000, title=\"Ibsen's letters by year, gender of mentioned person(s)\",\n",
    "               toolbar_location=None, tools=\"\")\n",
    "\n",
    "    d.vbar_stack(headers2, x='year', width=0.9,\n",
    "                 source=source2,legend_label=plotheaders,color=colors)\n",
    "\n",
    "    d.y_range.start = 0\n",
    "    d.x_range.range_padding = 0\n",
    "    d.xgrid.grid_line_color = None\n",
    "    d.axis.minor_tick_line_color = None\n",
    "    d.outline_line_color = None\n",
    "    #d.xaxis.major_label_text_font_size = \"10pt\"\n",
    "    d.yaxis.major_label_text_font_size = \"15pt\"\n",
    "    d.title.text_font_size = '15pt'\n",
    "    d.legend.location = \"top_left\"\n",
    "    d.legend.orientation = \"horizontal\"\n",
    "    d.xaxis.major_label_orientation = 3.14/4\n",
    "    show(d)\n",
    "    export_png(p, filename=\"pngs/RecipsByYear.png\") # CONDAFOX\n",
    "    export_png(d, filename=\"pngs/MentionsByYear.png\") # CONDAFOX"
   ]
  },
  {
   "cell_type": "code",
   "execution_count": 164,
   "id": "f5346bac",
   "metadata": {},
   "outputs": [
    {
     "data": {
      "text/html": [
       "\n",
       "\n",
       "\n",
       "\n",
       "\n",
       "\n",
       "  <div class=\"bk-root\" id=\"627caf08-b131-4940-bfce-7027a8da110e\" data-root-id=\"17193\"></div>\n"
      ]
     },
     "metadata": {},
     "output_type": "display_data"
    },
    {
     "data": {
      "application/javascript": [
       "(function(root) {\n",
       "  function embed_document(root) {\n",
       "    \n",
       "  var docs_json = {\"3d801d0c-12c8-45b2-99e1-1a6c32717785\":{\"defs\":[],\"roots\":{\"references\":[{\"attributes\":{\"below\":[{\"id\":\"17204\"}],\"center\":[{\"id\":\"17207\"},{\"id\":\"17210\"}],\"height\":550,\"left\":[{\"id\":\"17208\"}],\"renderers\":[{\"id\":\"17215\"}],\"title\":{\"id\":\"17194\"},\"toolbar\":{\"id\":\"17211\"},\"toolbar_location\":null,\"width\":1200,\"x_range\":{\"id\":\"17196\"},\"x_scale\":{\"id\":\"17200\"},\"y_range\":{\"id\":\"17198\"},\"y_scale\":{\"id\":\"17202\"}},\"id\":\"17193\",\"subtype\":\"Figure\",\"type\":\"Plot\"},{\"attributes\":{\"data_source\":{\"id\":\"17192\"},\"glyph\":{\"id\":\"17213\"},\"hover_glyph\":null,\"muted_glyph\":null,\"nonselection_glyph\":{\"id\":\"17214\"},\"view\":{\"id\":\"17216\"}},\"id\":\"17215\",\"type\":\"GlyphRenderer\"},{\"attributes\":{},\"id\":\"17642\",\"type\":\"AllLabels\"},{\"attributes\":{\"data\":{\"index\":[0,1,2,3,4,5,6,7,8,9,10,11,12,13],\"job\":[\"publisher, bookseller\",\"bookseller\",\"author\",\"publisher\",\"author, critic\",\"actor, theatre manager\",\"art historian, historian, litt\\u00e9rateur\",\"actor\",\"teacher\",\"painter\",\"translator\",\"civil servant\",\"journalist\",\"actor, theatre director\"],\"mentions\":{\"__ndarray__\":\"ggAAAKsAAAB1AQAAiAAAAG0AAABGAAAACAAAABcBAAAqAAAAnQAAADYAAAAlAAAADwAAAC8AAAA=\",\"dtype\":\"int32\",\"order\":\"little\",\"shape\":[14]},\"receiveds\":{\"__ndarray__\":\"IwEAALEAAACSAAAAXQAAAEIAAABCAAAAOAAAADUAAAAuAAAAJAAAABwAAAAaAAAAGgAAABgAAAA=\",\"dtype\":\"int32\",\"order\":\"little\",\"shape\":[14]}},\"selected\":{\"id\":\"17648\"},\"selection_policy\":{\"id\":\"17647\"}},\"id\":\"17192\",\"type\":\"ColumnDataSource\"},{\"attributes\":{},\"id\":\"17648\",\"type\":\"Selection\"},{\"attributes\":{\"formatter\":{\"id\":\"17644\"},\"major_label_policy\":{\"id\":\"17645\"},\"major_label_text_font_size\":\"15pt\",\"ticker\":{\"id\":\"17209\"}},\"id\":\"17208\",\"type\":\"CategoricalAxis\"},{\"attributes\":{},\"id\":\"17647\",\"type\":\"UnionRenderers\"},{\"attributes\":{},\"id\":\"17196\",\"type\":\"DataRange1d\"},{\"attributes\":{},\"id\":\"17200\",\"type\":\"LinearScale\"},{\"attributes\":{\"formatter\":{\"id\":\"17641\"},\"major_label_orientation\":0.785,\"major_label_policy\":{\"id\":\"17642\"},\"major_label_text_font_size\":\"10pt\",\"ticker\":{\"id\":\"17205\"}},\"id\":\"17204\",\"type\":\"LinearAxis\"},{\"attributes\":{\"factors\":[\"publisher, bookseller\",\"bookseller\",\"author\",\"publisher\",\"author, critic\",\"actor, theatre manager\",\"art historian, historian, litt\\u00e9rateur\",\"actor\",\"teacher\",\"painter\",\"translator\",\"civil servant\",\"journalist\",\"actor, theatre director\"]},\"id\":\"17198\",\"type\":\"FactorRange\"},{\"attributes\":{\"fill_color\":{\"value\":\"black\"},\"height\":{\"value\":0.5},\"line_width\":{\"value\":0.9},\"right\":{\"field\":\"receiveds\"},\"y\":{\"field\":\"job\"}},\"id\":\"17213\",\"type\":\"HBar\"},{\"attributes\":{\"axis\":{\"id\":\"17208\"},\"dimension\":1,\"ticker\":null},\"id\":\"17210\",\"type\":\"Grid\"},{\"attributes\":{},\"id\":\"17202\",\"type\":\"CategoricalScale\"},{\"attributes\":{\"text\":\"Ibsen's letters, sorted by recipient's professions, excl. organizations, top 14\",\"text_font_size\":\"15pt\"},\"id\":\"17194\",\"type\":\"Title\"},{\"attributes\":{},\"id\":\"17205\",\"type\":\"BasicTicker\"},{\"attributes\":{\"active_multi\":null},\"id\":\"17211\",\"type\":\"Toolbar\"},{\"attributes\":{},\"id\":\"17641\",\"type\":\"BasicTickFormatter\"},{\"attributes\":{},\"id\":\"17209\",\"type\":\"CategoricalTicker\"},{\"attributes\":{\"axis\":{\"id\":\"17204\"},\"grid_line_color\":\"grey\",\"ticker\":null},\"id\":\"17207\",\"type\":\"Grid\"},{\"attributes\":{},\"id\":\"17645\",\"type\":\"AllLabels\"},{\"attributes\":{\"source\":{\"id\":\"17192\"}},\"id\":\"17216\",\"type\":\"CDSView\"},{\"attributes\":{},\"id\":\"17644\",\"type\":\"CategoricalTickFormatter\"},{\"attributes\":{\"fill_alpha\":{\"value\":0.1},\"fill_color\":{\"value\":\"black\"},\"height\":{\"value\":0.5},\"line_alpha\":{\"value\":0.1},\"line_width\":{\"value\":0.9},\"right\":{\"field\":\"receiveds\"},\"y\":{\"field\":\"job\"}},\"id\":\"17214\",\"type\":\"HBar\"}],\"root_ids\":[\"17193\"]},\"title\":\"Bokeh Application\",\"version\":\"2.3.2\"}};\n",
       "  var render_items = [{\"docid\":\"3d801d0c-12c8-45b2-99e1-1a6c32717785\",\"root_ids\":[\"17193\"],\"roots\":{\"17193\":\"627caf08-b131-4940-bfce-7027a8da110e\"}}];\n",
       "  root.Bokeh.embed.embed_items_notebook(docs_json, render_items);\n",
       "\n",
       "  }\n",
       "  if (root.Bokeh !== undefined) {\n",
       "    embed_document(root);\n",
       "  } else {\n",
       "    var attempts = 0;\n",
       "    var timer = setInterval(function(root) {\n",
       "      if (root.Bokeh !== undefined) {\n",
       "        clearInterval(timer);\n",
       "        embed_document(root);\n",
       "      } else {\n",
       "        attempts++;\n",
       "        if (attempts > 100) {\n",
       "          clearInterval(timer);\n",
       "          console.log(\"Bokeh: ERROR: Unable to run BokehJS code because BokehJS library is missing\");\n",
       "        }\n",
       "      }\n",
       "    }, 10, root)\n",
       "  }\n",
       "})(window);"
      ],
      "application/vnd.bokehjs_exec.v0+json": ""
     },
     "metadata": {
      "application/vnd.bokehjs_exec.v0+json": {
       "id": "17193"
      }
     },
     "output_type": "display_data"
    },
    {
     "data": {
      "text/plain": [
       "'C:\\\\Users\\\\lokes\\\\OneDrive - Universitetet i Oslo\\\\Desktop\\\\Notebooks\\\\INR\\\\pngs\\\\recipients-professions.png'"
      ]
     },
     "execution_count": 164,
     "metadata": {},
     "output_type": "execute_result"
    }
   ],
   "source": [
    "jobs = personer.copy()\n",
    "jobs.drop(['birthday','deathday'],inplace=True,axis=1)\n",
    "for idx,row in jobs.iterrows():\n",
    "    if row['job'] == 0:\n",
    "        jobs.drop(idx,inplace=True,axis=0)\n",
    "    if row['job'] == 'married to':\n",
    "        jobs.drop(idx,inplace=True,axis=0)\n",
    "    if row['job'] == 'organization':\n",
    "        jobs.drop(idx,inplace=True,axis=0)\n",
    "jobs = jobs.reset_index(drop=True)\n",
    "jobs = jobs.groupby(['job']).sum().sort_values(['receiveds','mentions'],ascending=False).head(14)\n",
    "jobs = jobs.reset_index()\n",
    "        \n",
    "jobs\n",
    "\n",
    "job = jobs['job']\n",
    "\n",
    "source=ColumnDataSource(jobs)\n",
    "\n",
    "p = figure(y_range=job, height=550, width=1200, title=\"Ibsen's letters, sorted by recipient's professions, excl. organizations, top 14\",\n",
    "           toolbar_location=None, tools=\"\")\n",
    "\n",
    "p.hbar(y=\"job\", right=\"receiveds\", height=0.5, width=0.9,color=\"black\",source=source)\n",
    "\n",
    "p.xaxis.major_label_text_font_size = \"10pt\"\n",
    "p.yaxis.major_label_text_font_size = \"15pt\"\n",
    "p.title.text_font_size = '15pt'\n",
    "\n",
    "p.xgrid.grid_line_color = \"grey\"\n",
    "#p.y_range.start = 0\n",
    "p.xaxis.major_label_orientation = 3.14/4\n",
    "show(p)\n",
    "export_png(p, filename=\"pngs/recipients-professions.png\") # CONDAFOX"
   ]
  },
  {
   "cell_type": "code",
   "execution_count": null,
   "id": "8acbfb41",
   "metadata": {},
   "outputs": [],
   "source": []
  },
  {
   "cell_type": "markdown",
   "id": "4fefe556",
   "metadata": {},
   "source": [
    "## Works\n",
    "With the brev df:\n",
    "1. DROP all letters that do not mention at least 1 work.\n",
    "2. GET all works?"
   ]
  },
  {
   "cell_type": "code",
   "execution_count": 174,
   "id": "965d2d88",
   "metadata": {
    "scrolled": false
   },
   "outputs": [],
   "source": [
    "df2 = brev.copy()\n",
    "dfX = df2.copy()\n",
    "times = []\n",
    "works = []\n",
    "verksliste = []\n",
    "amounts = []\n",
    "#dfX = dfX.set_index('datetimes',drop=False)\n",
    "\n",
    "#raise KeyboardInterrupt\n",
    "i=0\n",
    "for work in dfX['mentionWorkID']:\n",
    "    if work == 0: # hvis work er null, dropp raden\n",
    "        dfX.drop(i,axis=0,inplace=True)\n",
    "    else: # hvis ikke, splitt raden for å opprette verksliste\n",
    "        x = work.split(\", \")\n",
    "        for item in x: # lag \n",
    "            if item not in verksliste:\n",
    "                verksliste.append(item)\n",
    "    i+=1\n",
    "for verk in verksliste:\n",
    "    dfX[verk] = 0 # You'll get a column of all 5s\n",
    "dfX.drop(['senderID', 'sender', 'mentionIDs', 'mentions', 'mentionORGID', 'mentionORG', 'recipientID', 'recipient', 'date',\n",
    "       'dispatch', 'dispatchabbr', 'geonameID', 'toponymName','country', 'lat', 'lon', 'address', 'location',\n",
    "       'locationabbr', 'tolat', 'tolon', 'mentionPlaces', 'mentionPlacesabbr','collectiveversionid'],axis=1,inplace=True)\n",
    "\n",
    "i=0\n",
    "for work in dfX['mentionWorkID']:\n",
    "    x = work.split(\", \")\n",
    "    for item in x:\n",
    "        dfX.iloc[i, dfX.columns.get_loc(item)] = 1\n",
    "    i+=1\n",
    "dfX.drop(['letterID', 'mentionWorkID', 'mentionWork', 'textID',\n",
    "       'mentionWorkGenre'],axis=1,inplace=True)\n",
    "#dfX = dfX.set_index('datetimes',drop=True)\n",
    "dfX.drop('datetimes',axis=1,inplace=True)"
   ]
  },
  {
   "cell_type": "code",
   "execution_count": 249,
   "id": "b406a729",
   "metadata": {},
   "outputs": [
    {
     "data": {
      "text/plain": [
       "58"
      ]
     },
     "execution_count": 249,
     "metadata": {},
     "output_type": "execute_result"
    }
   ],
   "source": [
    "errors = []\n",
    "dupes = []\n",
    "for col in dfX.columns:\n",
    "    if \"[\" in col:\n",
    "        dupes.append(col)\n",
    "        what = col.strip(\"[]\")\n",
    "        errors.append(what)\n",
    "dfT = dfX.copy()\n",
    "i = 0\n",
    "columns = dfX.columns\n",
    "for col in columns:\n",
    "    if col in errors:\n",
    "        newname = \"NEW \"+col\n",
    "        #print(newname)\n",
    "        dfX[newname] = dfX[col]+dfX[dupes[i]]\n",
    "        dfX.drop([col,dupes[i]],inplace=True,axis=1)\n",
    "        \n",
    "        i+=1\n",
    "#dfT.columns.tolist()\n",
    "columns = dfX.columns\n",
    "newcols = []\n",
    "for col in columns:\n",
    "    newcol = col.strip(\"NEW []\")\n",
    "    newcol = newcol.strip(\"wo\")\n",
    "    newcols.append(newcol)\n",
    "dfX.columns = newcols\n",
    "dfX.columns"
   ]
  },
  {
   "cell_type": "code",
   "execution_count": 173,
   "id": "63f0b354",
   "metadata": {},
   "outputs": [
    {
     "data": {
      "text/html": [
       "<div>\n",
       "<style scoped>\n",
       "    .dataframe tbody tr th:only-of-type {\n",
       "        vertical-align: middle;\n",
       "    }\n",
       "\n",
       "    .dataframe tbody tr th {\n",
       "        vertical-align: top;\n",
       "    }\n",
       "\n",
       "    .dataframe thead th {\n",
       "        text-align: right;\n",
       "    }\n",
       "</style>\n",
       "<table border=\"1\" class=\"dataframe\">\n",
       "  <thead>\n",
       "    <tr style=\"text-align: right;\">\n",
       "      <th></th>\n",
       "      <th>Balm</th>\n",
       "      <th>FpA</th>\n",
       "      <th>DiMaane</th>\n",
       "      <th>Di</th>\n",
       "      <th>DiAur</th>\n",
       "      <th>DiRose</th>\n",
       "      <th>DiTilRH</th>\n",
       "      <th>OmKj</th>\n",
       "      <th>OL1</th>\n",
       "      <th>DiTilCJ</th>\n",
       "      <th>...</th>\n",
       "      <th>F2</th>\n",
       "      <th>C2</th>\n",
       "      <th>LB</th>\n",
       "      <th>Et_Ri</th>\n",
       "      <th>Du</th>\n",
       "      <th>Ge</th>\n",
       "      <th>F</th>\n",
       "      <th>Vi</th>\n",
       "      <th>G2</th>\n",
       "      <th>R</th>\n",
       "    </tr>\n",
       "  </thead>\n",
       "  <tbody>\n",
       "    <tr>\n",
       "      <th>4</th>\n",
       "      <td>0</td>\n",
       "      <td>0</td>\n",
       "      <td>0</td>\n",
       "      <td>0</td>\n",
       "      <td>0</td>\n",
       "      <td>0</td>\n",
       "      <td>0</td>\n",
       "      <td>0</td>\n",
       "      <td>0</td>\n",
       "      <td>0</td>\n",
       "      <td>...</td>\n",
       "      <td>0</td>\n",
       "      <td>0</td>\n",
       "      <td>0</td>\n",
       "      <td>0</td>\n",
       "      <td>0</td>\n",
       "      <td>0</td>\n",
       "      <td>0</td>\n",
       "      <td>0</td>\n",
       "      <td>0</td>\n",
       "      <td>0</td>\n",
       "    </tr>\n",
       "    <tr>\n",
       "      <th>5</th>\n",
       "      <td>1</td>\n",
       "      <td>1</td>\n",
       "      <td>0</td>\n",
       "      <td>0</td>\n",
       "      <td>0</td>\n",
       "      <td>0</td>\n",
       "      <td>0</td>\n",
       "      <td>0</td>\n",
       "      <td>0</td>\n",
       "      <td>0</td>\n",
       "      <td>...</td>\n",
       "      <td>0</td>\n",
       "      <td>0</td>\n",
       "      <td>0</td>\n",
       "      <td>0</td>\n",
       "      <td>0</td>\n",
       "      <td>0</td>\n",
       "      <td>0</td>\n",
       "      <td>0</td>\n",
       "      <td>0</td>\n",
       "      <td>0</td>\n",
       "    </tr>\n",
       "    <tr>\n",
       "      <th>7</th>\n",
       "      <td>0</td>\n",
       "      <td>0</td>\n",
       "      <td>1</td>\n",
       "      <td>0</td>\n",
       "      <td>0</td>\n",
       "      <td>0</td>\n",
       "      <td>0</td>\n",
       "      <td>0</td>\n",
       "      <td>0</td>\n",
       "      <td>0</td>\n",
       "      <td>...</td>\n",
       "      <td>0</td>\n",
       "      <td>0</td>\n",
       "      <td>0</td>\n",
       "      <td>0</td>\n",
       "      <td>0</td>\n",
       "      <td>0</td>\n",
       "      <td>0</td>\n",
       "      <td>0</td>\n",
       "      <td>0</td>\n",
       "      <td>0</td>\n",
       "    </tr>\n",
       "    <tr>\n",
       "      <th>10</th>\n",
       "      <td>0</td>\n",
       "      <td>0</td>\n",
       "      <td>0</td>\n",
       "      <td>1</td>\n",
       "      <td>0</td>\n",
       "      <td>0</td>\n",
       "      <td>0</td>\n",
       "      <td>0</td>\n",
       "      <td>0</td>\n",
       "      <td>0</td>\n",
       "      <td>...</td>\n",
       "      <td>0</td>\n",
       "      <td>0</td>\n",
       "      <td>0</td>\n",
       "      <td>0</td>\n",
       "      <td>0</td>\n",
       "      <td>0</td>\n",
       "      <td>0</td>\n",
       "      <td>0</td>\n",
       "      <td>0</td>\n",
       "      <td>0</td>\n",
       "    </tr>\n",
       "    <tr>\n",
       "      <th>18</th>\n",
       "      <td>0</td>\n",
       "      <td>0</td>\n",
       "      <td>0</td>\n",
       "      <td>0</td>\n",
       "      <td>1</td>\n",
       "      <td>0</td>\n",
       "      <td>0</td>\n",
       "      <td>0</td>\n",
       "      <td>0</td>\n",
       "      <td>0</td>\n",
       "      <td>...</td>\n",
       "      <td>0</td>\n",
       "      <td>0</td>\n",
       "      <td>0</td>\n",
       "      <td>0</td>\n",
       "      <td>0</td>\n",
       "      <td>0</td>\n",
       "      <td>0</td>\n",
       "      <td>0</td>\n",
       "      <td>0</td>\n",
       "      <td>0</td>\n",
       "    </tr>\n",
       "    <tr>\n",
       "      <th>...</th>\n",
       "      <td>...</td>\n",
       "      <td>...</td>\n",
       "      <td>...</td>\n",
       "      <td>...</td>\n",
       "      <td>...</td>\n",
       "      <td>...</td>\n",
       "      <td>...</td>\n",
       "      <td>...</td>\n",
       "      <td>...</td>\n",
       "      <td>...</td>\n",
       "      <td>...</td>\n",
       "      <td>...</td>\n",
       "      <td>...</td>\n",
       "      <td>...</td>\n",
       "      <td>...</td>\n",
       "      <td>...</td>\n",
       "      <td>...</td>\n",
       "      <td>...</td>\n",
       "      <td>...</td>\n",
       "      <td>...</td>\n",
       "      <td>...</td>\n",
       "    </tr>\n",
       "    <tr>\n",
       "      <th>2185</th>\n",
       "      <td>0</td>\n",
       "      <td>0</td>\n",
       "      <td>0</td>\n",
       "      <td>0</td>\n",
       "      <td>0</td>\n",
       "      <td>0</td>\n",
       "      <td>0</td>\n",
       "      <td>0</td>\n",
       "      <td>0</td>\n",
       "      <td>0</td>\n",
       "      <td>...</td>\n",
       "      <td>0</td>\n",
       "      <td>0</td>\n",
       "      <td>0</td>\n",
       "      <td>0</td>\n",
       "      <td>0</td>\n",
       "      <td>0</td>\n",
       "      <td>1</td>\n",
       "      <td>0</td>\n",
       "      <td>0</td>\n",
       "      <td>0</td>\n",
       "    </tr>\n",
       "    <tr>\n",
       "      <th>2240</th>\n",
       "      <td>0</td>\n",
       "      <td>0</td>\n",
       "      <td>0</td>\n",
       "      <td>0</td>\n",
       "      <td>0</td>\n",
       "      <td>0</td>\n",
       "      <td>0</td>\n",
       "      <td>0</td>\n",
       "      <td>0</td>\n",
       "      <td>0</td>\n",
       "      <td>...</td>\n",
       "      <td>0</td>\n",
       "      <td>0</td>\n",
       "      <td>0</td>\n",
       "      <td>0</td>\n",
       "      <td>0</td>\n",
       "      <td>0</td>\n",
       "      <td>0</td>\n",
       "      <td>1</td>\n",
       "      <td>0</td>\n",
       "      <td>0</td>\n",
       "    </tr>\n",
       "    <tr>\n",
       "      <th>2252</th>\n",
       "      <td>0</td>\n",
       "      <td>0</td>\n",
       "      <td>0</td>\n",
       "      <td>0</td>\n",
       "      <td>0</td>\n",
       "      <td>0</td>\n",
       "      <td>0</td>\n",
       "      <td>0</td>\n",
       "      <td>0</td>\n",
       "      <td>0</td>\n",
       "      <td>...</td>\n",
       "      <td>0</td>\n",
       "      <td>0</td>\n",
       "      <td>0</td>\n",
       "      <td>0</td>\n",
       "      <td>0</td>\n",
       "      <td>0</td>\n",
       "      <td>0</td>\n",
       "      <td>0</td>\n",
       "      <td>0</td>\n",
       "      <td>0</td>\n",
       "    </tr>\n",
       "    <tr>\n",
       "      <th>2338</th>\n",
       "      <td>0</td>\n",
       "      <td>0</td>\n",
       "      <td>0</td>\n",
       "      <td>0</td>\n",
       "      <td>0</td>\n",
       "      <td>0</td>\n",
       "      <td>0</td>\n",
       "      <td>0</td>\n",
       "      <td>0</td>\n",
       "      <td>0</td>\n",
       "      <td>...</td>\n",
       "      <td>0</td>\n",
       "      <td>0</td>\n",
       "      <td>0</td>\n",
       "      <td>0</td>\n",
       "      <td>0</td>\n",
       "      <td>0</td>\n",
       "      <td>0</td>\n",
       "      <td>0</td>\n",
       "      <td>0</td>\n",
       "      <td>0</td>\n",
       "    </tr>\n",
       "    <tr>\n",
       "      <th>2386</th>\n",
       "      <td>0</td>\n",
       "      <td>0</td>\n",
       "      <td>0</td>\n",
       "      <td>0</td>\n",
       "      <td>0</td>\n",
       "      <td>0</td>\n",
       "      <td>0</td>\n",
       "      <td>0</td>\n",
       "      <td>0</td>\n",
       "      <td>0</td>\n",
       "      <td>...</td>\n",
       "      <td>0</td>\n",
       "      <td>0</td>\n",
       "      <td>0</td>\n",
       "      <td>0</td>\n",
       "      <td>0</td>\n",
       "      <td>0</td>\n",
       "      <td>0</td>\n",
       "      <td>0</td>\n",
       "      <td>0</td>\n",
       "      <td>1</td>\n",
       "    </tr>\n",
       "  </tbody>\n",
       "</table>\n",
       "<p>853 rows × 58 columns</p>\n",
       "</div>"
      ],
      "text/plain": [
       "      Balm  FpA  DiMaane  Di  DiAur  DiRose  DiTilRH  OmKj  OL1  DiTilCJ  ...  \\\n",
       "4        0    0        0   0      0       0        0     0    0        0  ...   \n",
       "5        1    1        0   0      0       0        0     0    0        0  ...   \n",
       "7        0    0        1   0      0       0        0     0    0        0  ...   \n",
       "10       0    0        0   1      0       0        0     0    0        0  ...   \n",
       "18       0    0        0   0      1       0        0     0    0        0  ...   \n",
       "...    ...  ...      ...  ..    ...     ...      ...   ...  ...      ...  ...   \n",
       "2185     0    0        0   0      0       0        0     0    0        0  ...   \n",
       "2240     0    0        0   0      0       0        0     0    0        0  ...   \n",
       "2252     0    0        0   0      0       0        0     0    0        0  ...   \n",
       "2338     0    0        0   0      0       0        0     0    0        0  ...   \n",
       "2386     0    0        0   0      0       0        0     0    0        0  ...   \n",
       "\n",
       "      F2  C2  LB  Et_Ri  Du  Ge  F  Vi  G2  R  \n",
       "4      0   0   0      0   0   0  0   0   0  0  \n",
       "5      0   0   0      0   0   0  0   0   0  0  \n",
       "7      0   0   0      0   0   0  0   0   0  0  \n",
       "10     0   0   0      0   0   0  0   0   0  0  \n",
       "18     0   0   0      0   0   0  0   0   0  0  \n",
       "...   ..  ..  ..    ...  ..  .. ..  ..  .. ..  \n",
       "2185   0   0   0      0   0   0  1   0   0  0  \n",
       "2240   0   0   0      0   0   0  0   1   0  0  \n",
       "2252   0   0   0      0   0   0  0   0   0  0  \n",
       "2338   0   0   0      0   0   0  0   0   0  0  \n",
       "2386   0   0   0      0   0   0  0   0   0  1  \n",
       "\n",
       "[853 rows x 58 columns]"
      ]
     },
     "execution_count": 173,
     "metadata": {},
     "output_type": "execute_result"
    }
   ],
   "source": []
  },
  {
   "cell_type": "code",
   "execution_count": 176,
   "id": "278c93ea",
   "metadata": {},
   "outputs": [
    {
     "data": {
      "text/html": [
       "<div>\n",
       "<style scoped>\n",
       "    .dataframe tbody tr th:only-of-type {\n",
       "        vertical-align: middle;\n",
       "    }\n",
       "\n",
       "    .dataframe tbody tr th {\n",
       "        vertical-align: top;\n",
       "    }\n",
       "\n",
       "    .dataframe thead th {\n",
       "        text-align: right;\n",
       "    }\n",
       "</style>\n",
       "<table border=\"1\" class=\"dataframe\">\n",
       "  <thead>\n",
       "    <tr style=\"text-align: right;\">\n",
       "      <th></th>\n",
       "      <th>Balm</th>\n",
       "      <th>FpA</th>\n",
       "      <th>DiMaane</th>\n",
       "      <th>Di</th>\n",
       "      <th>DiAur</th>\n",
       "      <th>DiRose</th>\n",
       "      <th>DiTilRH</th>\n",
       "      <th>OmKj</th>\n",
       "      <th>OL1</th>\n",
       "      <th>DiTilCJ</th>\n",
       "      <th>...</th>\n",
       "      <th>F2</th>\n",
       "      <th>C2</th>\n",
       "      <th>LB</th>\n",
       "      <th>Et_Ri</th>\n",
       "      <th>Du</th>\n",
       "      <th>Ge</th>\n",
       "      <th>F</th>\n",
       "      <th>Vi</th>\n",
       "      <th>G2</th>\n",
       "      <th>R</th>\n",
       "    </tr>\n",
       "  </thead>\n",
       "  <tbody>\n",
       "    <tr>\n",
       "      <th>4</th>\n",
       "      <td>0</td>\n",
       "      <td>0</td>\n",
       "      <td>0</td>\n",
       "      <td>0</td>\n",
       "      <td>0</td>\n",
       "      <td>0</td>\n",
       "      <td>0</td>\n",
       "      <td>0</td>\n",
       "      <td>0</td>\n",
       "      <td>0</td>\n",
       "      <td>...</td>\n",
       "      <td>0</td>\n",
       "      <td>0</td>\n",
       "      <td>0</td>\n",
       "      <td>0</td>\n",
       "      <td>0</td>\n",
       "      <td>0</td>\n",
       "      <td>0</td>\n",
       "      <td>0</td>\n",
       "      <td>0</td>\n",
       "      <td>0</td>\n",
       "    </tr>\n",
       "    <tr>\n",
       "      <th>5</th>\n",
       "      <td>1</td>\n",
       "      <td>1</td>\n",
       "      <td>0</td>\n",
       "      <td>0</td>\n",
       "      <td>0</td>\n",
       "      <td>0</td>\n",
       "      <td>0</td>\n",
       "      <td>0</td>\n",
       "      <td>0</td>\n",
       "      <td>0</td>\n",
       "      <td>...</td>\n",
       "      <td>0</td>\n",
       "      <td>0</td>\n",
       "      <td>0</td>\n",
       "      <td>0</td>\n",
       "      <td>0</td>\n",
       "      <td>0</td>\n",
       "      <td>0</td>\n",
       "      <td>0</td>\n",
       "      <td>0</td>\n",
       "      <td>0</td>\n",
       "    </tr>\n",
       "    <tr>\n",
       "      <th>7</th>\n",
       "      <td>0</td>\n",
       "      <td>0</td>\n",
       "      <td>1</td>\n",
       "      <td>0</td>\n",
       "      <td>0</td>\n",
       "      <td>0</td>\n",
       "      <td>0</td>\n",
       "      <td>0</td>\n",
       "      <td>0</td>\n",
       "      <td>0</td>\n",
       "      <td>...</td>\n",
       "      <td>0</td>\n",
       "      <td>0</td>\n",
       "      <td>0</td>\n",
       "      <td>0</td>\n",
       "      <td>0</td>\n",
       "      <td>0</td>\n",
       "      <td>0</td>\n",
       "      <td>0</td>\n",
       "      <td>0</td>\n",
       "      <td>0</td>\n",
       "    </tr>\n",
       "    <tr>\n",
       "      <th>10</th>\n",
       "      <td>0</td>\n",
       "      <td>0</td>\n",
       "      <td>0</td>\n",
       "      <td>1</td>\n",
       "      <td>0</td>\n",
       "      <td>0</td>\n",
       "      <td>0</td>\n",
       "      <td>0</td>\n",
       "      <td>0</td>\n",
       "      <td>0</td>\n",
       "      <td>...</td>\n",
       "      <td>0</td>\n",
       "      <td>0</td>\n",
       "      <td>0</td>\n",
       "      <td>0</td>\n",
       "      <td>0</td>\n",
       "      <td>0</td>\n",
       "      <td>0</td>\n",
       "      <td>0</td>\n",
       "      <td>0</td>\n",
       "      <td>0</td>\n",
       "    </tr>\n",
       "    <tr>\n",
       "      <th>18</th>\n",
       "      <td>0</td>\n",
       "      <td>0</td>\n",
       "      <td>0</td>\n",
       "      <td>0</td>\n",
       "      <td>1</td>\n",
       "      <td>0</td>\n",
       "      <td>0</td>\n",
       "      <td>0</td>\n",
       "      <td>0</td>\n",
       "      <td>0</td>\n",
       "      <td>...</td>\n",
       "      <td>0</td>\n",
       "      <td>0</td>\n",
       "      <td>0</td>\n",
       "      <td>0</td>\n",
       "      <td>0</td>\n",
       "      <td>0</td>\n",
       "      <td>0</td>\n",
       "      <td>0</td>\n",
       "      <td>0</td>\n",
       "      <td>0</td>\n",
       "    </tr>\n",
       "    <tr>\n",
       "      <th>...</th>\n",
       "      <td>...</td>\n",
       "      <td>...</td>\n",
       "      <td>...</td>\n",
       "      <td>...</td>\n",
       "      <td>...</td>\n",
       "      <td>...</td>\n",
       "      <td>...</td>\n",
       "      <td>...</td>\n",
       "      <td>...</td>\n",
       "      <td>...</td>\n",
       "      <td>...</td>\n",
       "      <td>...</td>\n",
       "      <td>...</td>\n",
       "      <td>...</td>\n",
       "      <td>...</td>\n",
       "      <td>...</td>\n",
       "      <td>...</td>\n",
       "      <td>...</td>\n",
       "      <td>...</td>\n",
       "      <td>...</td>\n",
       "      <td>...</td>\n",
       "    </tr>\n",
       "    <tr>\n",
       "      <th>2185</th>\n",
       "      <td>0</td>\n",
       "      <td>0</td>\n",
       "      <td>0</td>\n",
       "      <td>0</td>\n",
       "      <td>0</td>\n",
       "      <td>0</td>\n",
       "      <td>0</td>\n",
       "      <td>0</td>\n",
       "      <td>0</td>\n",
       "      <td>0</td>\n",
       "      <td>...</td>\n",
       "      <td>0</td>\n",
       "      <td>0</td>\n",
       "      <td>0</td>\n",
       "      <td>0</td>\n",
       "      <td>0</td>\n",
       "      <td>0</td>\n",
       "      <td>1</td>\n",
       "      <td>0</td>\n",
       "      <td>0</td>\n",
       "      <td>0</td>\n",
       "    </tr>\n",
       "    <tr>\n",
       "      <th>2240</th>\n",
       "      <td>0</td>\n",
       "      <td>0</td>\n",
       "      <td>0</td>\n",
       "      <td>0</td>\n",
       "      <td>0</td>\n",
       "      <td>0</td>\n",
       "      <td>0</td>\n",
       "      <td>0</td>\n",
       "      <td>0</td>\n",
       "      <td>0</td>\n",
       "      <td>...</td>\n",
       "      <td>0</td>\n",
       "      <td>0</td>\n",
       "      <td>0</td>\n",
       "      <td>0</td>\n",
       "      <td>0</td>\n",
       "      <td>0</td>\n",
       "      <td>0</td>\n",
       "      <td>1</td>\n",
       "      <td>0</td>\n",
       "      <td>0</td>\n",
       "    </tr>\n",
       "    <tr>\n",
       "      <th>2252</th>\n",
       "      <td>0</td>\n",
       "      <td>0</td>\n",
       "      <td>0</td>\n",
       "      <td>0</td>\n",
       "      <td>0</td>\n",
       "      <td>0</td>\n",
       "      <td>0</td>\n",
       "      <td>0</td>\n",
       "      <td>0</td>\n",
       "      <td>0</td>\n",
       "      <td>...</td>\n",
       "      <td>0</td>\n",
       "      <td>0</td>\n",
       "      <td>0</td>\n",
       "      <td>0</td>\n",
       "      <td>0</td>\n",
       "      <td>0</td>\n",
       "      <td>0</td>\n",
       "      <td>0</td>\n",
       "      <td>0</td>\n",
       "      <td>0</td>\n",
       "    </tr>\n",
       "    <tr>\n",
       "      <th>2338</th>\n",
       "      <td>0</td>\n",
       "      <td>0</td>\n",
       "      <td>0</td>\n",
       "      <td>0</td>\n",
       "      <td>0</td>\n",
       "      <td>0</td>\n",
       "      <td>0</td>\n",
       "      <td>0</td>\n",
       "      <td>0</td>\n",
       "      <td>0</td>\n",
       "      <td>...</td>\n",
       "      <td>0</td>\n",
       "      <td>0</td>\n",
       "      <td>0</td>\n",
       "      <td>0</td>\n",
       "      <td>0</td>\n",
       "      <td>0</td>\n",
       "      <td>0</td>\n",
       "      <td>0</td>\n",
       "      <td>0</td>\n",
       "      <td>0</td>\n",
       "    </tr>\n",
       "    <tr>\n",
       "      <th>2386</th>\n",
       "      <td>0</td>\n",
       "      <td>0</td>\n",
       "      <td>0</td>\n",
       "      <td>0</td>\n",
       "      <td>0</td>\n",
       "      <td>0</td>\n",
       "      <td>0</td>\n",
       "      <td>0</td>\n",
       "      <td>0</td>\n",
       "      <td>0</td>\n",
       "      <td>...</td>\n",
       "      <td>0</td>\n",
       "      <td>0</td>\n",
       "      <td>0</td>\n",
       "      <td>0</td>\n",
       "      <td>0</td>\n",
       "      <td>0</td>\n",
       "      <td>0</td>\n",
       "      <td>0</td>\n",
       "      <td>0</td>\n",
       "      <td>1</td>\n",
       "    </tr>\n",
       "  </tbody>\n",
       "</table>\n",
       "<p>853 rows × 58 columns</p>\n",
       "</div>"
      ],
      "text/plain": [
       "      Balm  FpA  DiMaane  Di  DiAur  DiRose  DiTilRH  OmKj  OL1  DiTilCJ  ...  \\\n",
       "4        0    0        0   0      0       0        0     0    0        0  ...   \n",
       "5        1    1        0   0      0       0        0     0    0        0  ...   \n",
       "7        0    0        1   0      0       0        0     0    0        0  ...   \n",
       "10       0    0        0   1      0       0        0     0    0        0  ...   \n",
       "18       0    0        0   0      1       0        0     0    0        0  ...   \n",
       "...    ...  ...      ...  ..    ...     ...      ...   ...  ...      ...  ...   \n",
       "2185     0    0        0   0      0       0        0     0    0        0  ...   \n",
       "2240     0    0        0   0      0       0        0     0    0        0  ...   \n",
       "2252     0    0        0   0      0       0        0     0    0        0  ...   \n",
       "2338     0    0        0   0      0       0        0     0    0        0  ...   \n",
       "2386     0    0        0   0      0       0        0     0    0        0  ...   \n",
       "\n",
       "      F2  C2  LB  Et_Ri  Du  Ge  F  Vi  G2  R  \n",
       "4      0   0   0      0   0   0  0   0   0  0  \n",
       "5      0   0   0      0   0   0  0   0   0  0  \n",
       "7      0   0   0      0   0   0  0   0   0  0  \n",
       "10     0   0   0      0   0   0  0   0   0  0  \n",
       "18     0   0   0      0   0   0  0   0   0  0  \n",
       "...   ..  ..  ..    ...  ..  .. ..  ..  .. ..  \n",
       "2185   0   0   0      0   0   0  1   0   0  0  \n",
       "2240   0   0   0      0   0   0  0   1   0  0  \n",
       "2252   0   0   0      0   0   0  0   0   0  0  \n",
       "2338   0   0   0      0   0   0  0   0   0  0  \n",
       "2386   0   0   0      0   0   0  0   0   0  1  \n",
       "\n",
       "[853 rows x 58 columns]"
      ]
     },
     "execution_count": 176,
     "metadata": {},
     "output_type": "execute_result"
    }
   ],
   "source": [
    "gh = dfX.columns\n",
    "cols = []\n",
    "for col in gh:\n",
    "    cols.append(col)\n",
    "cols\n",
    "#dfX = dfX.reset_index(drop=False)\n",
    "dfZ = dfX.copy()\n",
    "dfZ"
   ]
  },
  {
   "cell_type": "code",
   "execution_count": 269,
   "id": "a4a2f7ac",
   "metadata": {},
   "outputs": [
    {
     "name": "stdout",
     "output_type": "stream",
     "text": [
      "Standard name KK is Kjærlighedens Komedie\n",
      "Standard name KG is Kejser og Galilæer\n",
      "Standard name FH is Fruen fra havet\n",
      "Standard name HG is Hedda Gabler\n",
      "Standard name C1 is Catilina, 1. Versjon\n",
      "Standard name G1 is Gildet paa Solhoug, 1. versjon\n",
      "Standard name F1 is Fru Inger til Østeraad, 1. versjon\n",
      "ALTERNATIVE NAME HH is Hærmændene på Helgeland\n",
      "ALTERNATIVE NAME K is Kjæmpehøien\n",
      "Standard name Br is Brand\n",
      "Standard name PG is Peer Gynt\n",
      "Standard name UF is De unges Forbund\n",
      "Standard name SS is Samfundets støtter\n",
      "Standard name F2 is Fru Inger til Østråt, 2. versjon\n",
      "Standard name C2 is Catilina, 2. versjon\n",
      "Standard name Du is Et dukkehjem\n",
      "Standard name Ge is Gengangere\n",
      "ALTERNATIVE NAME F is Fru Inger til Østråt\n",
      "Standard name Vi is Vildanden\n",
      "Standard name G2 is Gildet på Solhaug, 2. versjon\n"
     ]
    },
    {
     "data": {
      "text/plain": [
       "['Di',\n",
       " 'Kjærlighedens Komedie',\n",
       " 'Kejser og Galilæer',\n",
       " 'Fruen fra havet',\n",
       " 'Hedda Gabler',\n",
       " 'Catilina, 1. Versjon',\n",
       " 'Gildet paa Solhoug, 1. versjon',\n",
       " 'Fru Inger til Østeraad, 1. versjon',\n",
       " 'Hærmændene på Helgeland',\n",
       " 'Kjæmpehøien',\n",
       " 'Brand',\n",
       " 'Peer Gynt',\n",
       " 'De unges Forbund',\n",
       " 'Samfundets støtter',\n",
       " 'Fru Inger til Østråt, 2. versjon',\n",
       " 'Catilina, 2. versjon',\n",
       " 'Et dukkehjem',\n",
       " 'Gengangere',\n",
       " 'Fru Inger til Østråt',\n",
       " 'Vildanden',\n",
       " 'Gildet på Solhaug, 2. versjon',\n",
       " 'R']"
      ]
     },
     "execution_count": 269,
     "metadata": {},
     "output_type": "execute_result"
    }
   ],
   "source": [
    "cols = dfZ.columns\n",
    "#for idx, row in dfZ.iterrows():\n",
    "f = dfZ.sum()\n",
    "i=0\n",
    "verksoversikt = pd.read_excel('verk.xlsx', index_col=0)\n",
    "\n",
    "verksoversikt = verksoversikt.dropna()\n",
    "\n",
    "verksoversikt = verksoversikt.reset_index()\n",
    "xvals = [\n",
    "\n",
    "]\n",
    "yvals= []\n",
    "for fa in f:\n",
    "    if fa > 10:\n",
    "        pass\n",
    "        #print(cols[i],fa)\n",
    "        xvals.append(cols[i])\n",
    "        yvals.append(fa)\n",
    "    i+=1\n",
    "i = 0\n",
    "plainnames = {}\n",
    "for uid in verksoversikt['HISe-ID']:\n",
    "    newname = verksoversikt['Original tittel'][i]\n",
    "    #print(uid,newname)\n",
    "    plainnames[uid] = newname\n",
    "    i+=1\n",
    "i = 0\n",
    "altnames = {}\n",
    "for uid in verksoversikt['felles-ID']:\n",
    "    newname = verksoversikt['Original tittel'][i]\n",
    "    #print(uid,newname)\n",
    "    altnames[uid] = newname\n",
    "    i+=1\n",
    "#plainnames # Dict med uid : navn\n",
    "i=0\n",
    "for xval in xvals:\n",
    "    if xval in plainnames:\n",
    "        print(\"Standard name\",xval,\"is\",plainnames[xval])\n",
    "        xvals[i] = plainnames[xval]\n",
    "    elif xval in altnames:\n",
    "        altname = altnames[xval]\n",
    "        altname = altname[:-12]\n",
    "        print(\"ALTERNATIVE NAME\",xval,\"is\",altname)\n",
    "        xvals[i] = altname\n",
    "    else:\n",
    "        pass\n",
    "    i+=1\n",
    "xvals"
   ]
  },
  {
   "cell_type": "code",
   "execution_count": 270,
   "id": "04050113",
   "metadata": {},
   "outputs": [],
   "source": [
    "import random\n",
    "colors = []\n",
    "for x in xvals:\n",
    "    color = \"#\"+''.join([random.choice('ABCDEF0123456789') for i in range(6)])\n",
    "    colors.append(color)"
   ]
  },
  {
   "cell_type": "code",
   "execution_count": 271,
   "id": "df21e386",
   "metadata": {},
   "outputs": [
    {
     "data": {
      "application/vnd.plotly.v1+json": {
       "config": {
        "plotlyServerURL": "https://plot.ly"
       },
       "data": [
        {
         "alignmentgroup": "True",
         "hovertemplate": "Works mentioned=%{x}<br>Times mentioned=%{y}<br>color=%{marker.color}<extra></extra>",
         "legendgroup": "",
         "marker": {
          "color": [
           68,
           68,
           91,
           45,
           23,
           18,
           13,
           28,
           92,
           93,
           115,
           104,
           80,
           92,
           38,
           26,
           90,
           73,
           53,
           71,
           15,
           47
          ],
          "coloraxis": "coloraxis",
          "pattern": {
           "shape": ""
          }
         },
         "name": "",
         "offsetgroup": "",
         "orientation": "v",
         "showlegend": false,
         "textposition": "auto",
         "type": "bar",
         "x": [
          "Di",
          "Kjærlighedens Komedie",
          "Kejser og Galilæer",
          "Fruen fra havet",
          "Hedda Gabler",
          "Catilina, 1. Versjon",
          "Gildet paa Solhoug, 1. versjon",
          "Fru Inger til Østeraad, 1. versjon",
          "Hærmændene på Helgeland",
          "Kjæmpehøien",
          "Brand",
          "Peer Gynt",
          "De unges Forbund",
          "Samfundets støtter",
          "Fru Inger til Østråt, 2. versjon",
          "Catilina, 2. versjon",
          "Et dukkehjem",
          "Gengangere",
          "Fru Inger til Østråt",
          "Vildanden",
          "Gildet på Solhaug, 2. versjon",
          "R"
         ],
         "xaxis": "x",
         "y": [
          68,
          68,
          91,
          45,
          23,
          18,
          13,
          28,
          92,
          93,
          115,
          104,
          80,
          92,
          38,
          26,
          90,
          73,
          53,
          71,
          15,
          47
         ],
         "yaxis": "y"
        }
       ],
       "layout": {
        "barmode": "relative",
        "coloraxis": {
         "colorbar": {
          "title": {
           "text": "color"
          }
         },
         "colorscale": [
          [
           0,
           "#0d0887"
          ],
          [
           0.1111111111111111,
           "#46039f"
          ],
          [
           0.2222222222222222,
           "#7201a8"
          ],
          [
           0.3333333333333333,
           "#9c179e"
          ],
          [
           0.4444444444444444,
           "#bd3786"
          ],
          [
           0.5555555555555556,
           "#d8576b"
          ],
          [
           0.6666666666666666,
           "#ed7953"
          ],
          [
           0.7777777777777778,
           "#fb9f3a"
          ],
          [
           0.8888888888888888,
           "#fdca26"
          ],
          [
           1,
           "#f0f921"
          ]
         ],
         "showscale": false
        },
        "height": 800,
        "legend": {
         "tracegroupgap": 0
        },
        "showlegend": false,
        "template": {
         "data": {
          "bar": [
           {
            "error_x": {
             "color": "#2a3f5f"
            },
            "error_y": {
             "color": "#2a3f5f"
            },
            "marker": {
             "line": {
              "color": "#E5ECF6",
              "width": 0.5
             },
             "pattern": {
              "fillmode": "overlay",
              "size": 10,
              "solidity": 0.2
             }
            },
            "type": "bar"
           }
          ],
          "barpolar": [
           {
            "marker": {
             "line": {
              "color": "#E5ECF6",
              "width": 0.5
             },
             "pattern": {
              "fillmode": "overlay",
              "size": 10,
              "solidity": 0.2
             }
            },
            "type": "barpolar"
           }
          ],
          "carpet": [
           {
            "aaxis": {
             "endlinecolor": "#2a3f5f",
             "gridcolor": "white",
             "linecolor": "white",
             "minorgridcolor": "white",
             "startlinecolor": "#2a3f5f"
            },
            "baxis": {
             "endlinecolor": "#2a3f5f",
             "gridcolor": "white",
             "linecolor": "white",
             "minorgridcolor": "white",
             "startlinecolor": "#2a3f5f"
            },
            "type": "carpet"
           }
          ],
          "choropleth": [
           {
            "colorbar": {
             "outlinewidth": 0,
             "ticks": ""
            },
            "type": "choropleth"
           }
          ],
          "contour": [
           {
            "colorbar": {
             "outlinewidth": 0,
             "ticks": ""
            },
            "colorscale": [
             [
              0,
              "#0d0887"
             ],
             [
              0.1111111111111111,
              "#46039f"
             ],
             [
              0.2222222222222222,
              "#7201a8"
             ],
             [
              0.3333333333333333,
              "#9c179e"
             ],
             [
              0.4444444444444444,
              "#bd3786"
             ],
             [
              0.5555555555555556,
              "#d8576b"
             ],
             [
              0.6666666666666666,
              "#ed7953"
             ],
             [
              0.7777777777777778,
              "#fb9f3a"
             ],
             [
              0.8888888888888888,
              "#fdca26"
             ],
             [
              1,
              "#f0f921"
             ]
            ],
            "type": "contour"
           }
          ],
          "contourcarpet": [
           {
            "colorbar": {
             "outlinewidth": 0,
             "ticks": ""
            },
            "type": "contourcarpet"
           }
          ],
          "heatmap": [
           {
            "colorbar": {
             "outlinewidth": 0,
             "ticks": ""
            },
            "colorscale": [
             [
              0,
              "#0d0887"
             ],
             [
              0.1111111111111111,
              "#46039f"
             ],
             [
              0.2222222222222222,
              "#7201a8"
             ],
             [
              0.3333333333333333,
              "#9c179e"
             ],
             [
              0.4444444444444444,
              "#bd3786"
             ],
             [
              0.5555555555555556,
              "#d8576b"
             ],
             [
              0.6666666666666666,
              "#ed7953"
             ],
             [
              0.7777777777777778,
              "#fb9f3a"
             ],
             [
              0.8888888888888888,
              "#fdca26"
             ],
             [
              1,
              "#f0f921"
             ]
            ],
            "type": "heatmap"
           }
          ],
          "heatmapgl": [
           {
            "colorbar": {
             "outlinewidth": 0,
             "ticks": ""
            },
            "colorscale": [
             [
              0,
              "#0d0887"
             ],
             [
              0.1111111111111111,
              "#46039f"
             ],
             [
              0.2222222222222222,
              "#7201a8"
             ],
             [
              0.3333333333333333,
              "#9c179e"
             ],
             [
              0.4444444444444444,
              "#bd3786"
             ],
             [
              0.5555555555555556,
              "#d8576b"
             ],
             [
              0.6666666666666666,
              "#ed7953"
             ],
             [
              0.7777777777777778,
              "#fb9f3a"
             ],
             [
              0.8888888888888888,
              "#fdca26"
             ],
             [
              1,
              "#f0f921"
             ]
            ],
            "type": "heatmapgl"
           }
          ],
          "histogram": [
           {
            "marker": {
             "pattern": {
              "fillmode": "overlay",
              "size": 10,
              "solidity": 0.2
             }
            },
            "type": "histogram"
           }
          ],
          "histogram2d": [
           {
            "colorbar": {
             "outlinewidth": 0,
             "ticks": ""
            },
            "colorscale": [
             [
              0,
              "#0d0887"
             ],
             [
              0.1111111111111111,
              "#46039f"
             ],
             [
              0.2222222222222222,
              "#7201a8"
             ],
             [
              0.3333333333333333,
              "#9c179e"
             ],
             [
              0.4444444444444444,
              "#bd3786"
             ],
             [
              0.5555555555555556,
              "#d8576b"
             ],
             [
              0.6666666666666666,
              "#ed7953"
             ],
             [
              0.7777777777777778,
              "#fb9f3a"
             ],
             [
              0.8888888888888888,
              "#fdca26"
             ],
             [
              1,
              "#f0f921"
             ]
            ],
            "type": "histogram2d"
           }
          ],
          "histogram2dcontour": [
           {
            "colorbar": {
             "outlinewidth": 0,
             "ticks": ""
            },
            "colorscale": [
             [
              0,
              "#0d0887"
             ],
             [
              0.1111111111111111,
              "#46039f"
             ],
             [
              0.2222222222222222,
              "#7201a8"
             ],
             [
              0.3333333333333333,
              "#9c179e"
             ],
             [
              0.4444444444444444,
              "#bd3786"
             ],
             [
              0.5555555555555556,
              "#d8576b"
             ],
             [
              0.6666666666666666,
              "#ed7953"
             ],
             [
              0.7777777777777778,
              "#fb9f3a"
             ],
             [
              0.8888888888888888,
              "#fdca26"
             ],
             [
              1,
              "#f0f921"
             ]
            ],
            "type": "histogram2dcontour"
           }
          ],
          "mesh3d": [
           {
            "colorbar": {
             "outlinewidth": 0,
             "ticks": ""
            },
            "type": "mesh3d"
           }
          ],
          "parcoords": [
           {
            "line": {
             "colorbar": {
              "outlinewidth": 0,
              "ticks": ""
             }
            },
            "type": "parcoords"
           }
          ],
          "pie": [
           {
            "automargin": true,
            "type": "pie"
           }
          ],
          "scatter": [
           {
            "fillpattern": {
             "fillmode": "overlay",
             "size": 10,
             "solidity": 0.2
            },
            "type": "scatter"
           }
          ],
          "scatter3d": [
           {
            "line": {
             "colorbar": {
              "outlinewidth": 0,
              "ticks": ""
             }
            },
            "marker": {
             "colorbar": {
              "outlinewidth": 0,
              "ticks": ""
             }
            },
            "type": "scatter3d"
           }
          ],
          "scattercarpet": [
           {
            "marker": {
             "colorbar": {
              "outlinewidth": 0,
              "ticks": ""
             }
            },
            "type": "scattercarpet"
           }
          ],
          "scattergeo": [
           {
            "marker": {
             "colorbar": {
              "outlinewidth": 0,
              "ticks": ""
             }
            },
            "type": "scattergeo"
           }
          ],
          "scattergl": [
           {
            "marker": {
             "colorbar": {
              "outlinewidth": 0,
              "ticks": ""
             }
            },
            "type": "scattergl"
           }
          ],
          "scattermapbox": [
           {
            "marker": {
             "colorbar": {
              "outlinewidth": 0,
              "ticks": ""
             }
            },
            "type": "scattermapbox"
           }
          ],
          "scatterpolar": [
           {
            "marker": {
             "colorbar": {
              "outlinewidth": 0,
              "ticks": ""
             }
            },
            "type": "scatterpolar"
           }
          ],
          "scatterpolargl": [
           {
            "marker": {
             "colorbar": {
              "outlinewidth": 0,
              "ticks": ""
             }
            },
            "type": "scatterpolargl"
           }
          ],
          "scatterternary": [
           {
            "marker": {
             "colorbar": {
              "outlinewidth": 0,
              "ticks": ""
             }
            },
            "type": "scatterternary"
           }
          ],
          "surface": [
           {
            "colorbar": {
             "outlinewidth": 0,
             "ticks": ""
            },
            "colorscale": [
             [
              0,
              "#0d0887"
             ],
             [
              0.1111111111111111,
              "#46039f"
             ],
             [
              0.2222222222222222,
              "#7201a8"
             ],
             [
              0.3333333333333333,
              "#9c179e"
             ],
             [
              0.4444444444444444,
              "#bd3786"
             ],
             [
              0.5555555555555556,
              "#d8576b"
             ],
             [
              0.6666666666666666,
              "#ed7953"
             ],
             [
              0.7777777777777778,
              "#fb9f3a"
             ],
             [
              0.8888888888888888,
              "#fdca26"
             ],
             [
              1,
              "#f0f921"
             ]
            ],
            "type": "surface"
           }
          ],
          "table": [
           {
            "cells": {
             "fill": {
              "color": "#EBF0F8"
             },
             "line": {
              "color": "white"
             }
            },
            "header": {
             "fill": {
              "color": "#C8D4E3"
             },
             "line": {
              "color": "white"
             }
            },
            "type": "table"
           }
          ]
         },
         "layout": {
          "annotationdefaults": {
           "arrowcolor": "#2a3f5f",
           "arrowhead": 0,
           "arrowwidth": 1
          },
          "autotypenumbers": "strict",
          "coloraxis": {
           "colorbar": {
            "outlinewidth": 0,
            "ticks": ""
           }
          },
          "colorscale": {
           "diverging": [
            [
             0,
             "#8e0152"
            ],
            [
             0.1,
             "#c51b7d"
            ],
            [
             0.2,
             "#de77ae"
            ],
            [
             0.3,
             "#f1b6da"
            ],
            [
             0.4,
             "#fde0ef"
            ],
            [
             0.5,
             "#f7f7f7"
            ],
            [
             0.6,
             "#e6f5d0"
            ],
            [
             0.7,
             "#b8e186"
            ],
            [
             0.8,
             "#7fbc41"
            ],
            [
             0.9,
             "#4d9221"
            ],
            [
             1,
             "#276419"
            ]
           ],
           "sequential": [
            [
             0,
             "#0d0887"
            ],
            [
             0.1111111111111111,
             "#46039f"
            ],
            [
             0.2222222222222222,
             "#7201a8"
            ],
            [
             0.3333333333333333,
             "#9c179e"
            ],
            [
             0.4444444444444444,
             "#bd3786"
            ],
            [
             0.5555555555555556,
             "#d8576b"
            ],
            [
             0.6666666666666666,
             "#ed7953"
            ],
            [
             0.7777777777777778,
             "#fb9f3a"
            ],
            [
             0.8888888888888888,
             "#fdca26"
            ],
            [
             1,
             "#f0f921"
            ]
           ],
           "sequentialminus": [
            [
             0,
             "#0d0887"
            ],
            [
             0.1111111111111111,
             "#46039f"
            ],
            [
             0.2222222222222222,
             "#7201a8"
            ],
            [
             0.3333333333333333,
             "#9c179e"
            ],
            [
             0.4444444444444444,
             "#bd3786"
            ],
            [
             0.5555555555555556,
             "#d8576b"
            ],
            [
             0.6666666666666666,
             "#ed7953"
            ],
            [
             0.7777777777777778,
             "#fb9f3a"
            ],
            [
             0.8888888888888888,
             "#fdca26"
            ],
            [
             1,
             "#f0f921"
            ]
           ]
          },
          "colorway": [
           "#636efa",
           "#EF553B",
           "#00cc96",
           "#ab63fa",
           "#FFA15A",
           "#19d3f3",
           "#FF6692",
           "#B6E880",
           "#FF97FF",
           "#FECB52"
          ],
          "font": {
           "color": "#2a3f5f"
          },
          "geo": {
           "bgcolor": "white",
           "lakecolor": "white",
           "landcolor": "#E5ECF6",
           "showlakes": true,
           "showland": true,
           "subunitcolor": "white"
          },
          "hoverlabel": {
           "align": "left"
          },
          "hovermode": "closest",
          "mapbox": {
           "style": "light"
          },
          "paper_bgcolor": "white",
          "plot_bgcolor": "#E5ECF6",
          "polar": {
           "angularaxis": {
            "gridcolor": "white",
            "linecolor": "white",
            "ticks": ""
           },
           "bgcolor": "#E5ECF6",
           "radialaxis": {
            "gridcolor": "white",
            "linecolor": "white",
            "ticks": ""
           }
          },
          "scene": {
           "xaxis": {
            "backgroundcolor": "#E5ECF6",
            "gridcolor": "white",
            "gridwidth": 2,
            "linecolor": "white",
            "showbackground": true,
            "ticks": "",
            "zerolinecolor": "white"
           },
           "yaxis": {
            "backgroundcolor": "#E5ECF6",
            "gridcolor": "white",
            "gridwidth": 2,
            "linecolor": "white",
            "showbackground": true,
            "ticks": "",
            "zerolinecolor": "white"
           },
           "zaxis": {
            "backgroundcolor": "#E5ECF6",
            "gridcolor": "white",
            "gridwidth": 2,
            "linecolor": "white",
            "showbackground": true,
            "ticks": "",
            "zerolinecolor": "white"
           }
          },
          "shapedefaults": {
           "line": {
            "color": "#2a3f5f"
           }
          },
          "ternary": {
           "aaxis": {
            "gridcolor": "white",
            "linecolor": "white",
            "ticks": ""
           },
           "baxis": {
            "gridcolor": "white",
            "linecolor": "white",
            "ticks": ""
           },
           "bgcolor": "#E5ECF6",
           "caxis": {
            "gridcolor": "white",
            "linecolor": "white",
            "ticks": ""
           }
          },
          "title": {
           "x": 0.05
          },
          "xaxis": {
           "automargin": true,
           "gridcolor": "white",
           "linecolor": "white",
           "ticks": "",
           "title": {
            "standoff": 15
           },
           "zerolinecolor": "white",
           "zerolinewidth": 2
          },
          "yaxis": {
           "automargin": true,
           "gridcolor": "white",
           "linecolor": "white",
           "ticks": "",
           "title": {
            "standoff": 15
           },
           "zerolinecolor": "white",
           "zerolinewidth": 2
          }
         }
        },
        "title": {
         "text": "Ibsen's mentions of his own works through correspondence"
        },
        "width": 1200,
        "xaxis": {
         "anchor": "y",
         "categoryorder": "total ascending",
         "domain": [
          0,
          1
         ],
         "tickangle": 45,
         "title": {
          "text": "Works mentioned"
         }
        },
        "yaxis": {
         "anchor": "x",
         "domain": [
          0,
          1
         ],
         "title": {
          "text": "Times mentioned"
         }
        }
       }
      },
      "text/html": [
       "<div>                            <div id=\"ca939c83-f4c8-429f-b483-51373d8ee4f3\" class=\"plotly-graph-div\" style=\"height:800px; width:1200px;\"></div>            <script type=\"text/javascript\">                require([\"plotly\"], function(Plotly) {                    window.PLOTLYENV=window.PLOTLYENV || {};                                    if (document.getElementById(\"ca939c83-f4c8-429f-b483-51373d8ee4f3\")) {                    Plotly.newPlot(                        \"ca939c83-f4c8-429f-b483-51373d8ee4f3\",                        [{\"alignmentgroup\":\"True\",\"hovertemplate\":\"Works mentioned=%{x}<br>Times mentioned=%{y}<br>color=%{marker.color}<extra></extra>\",\"legendgroup\":\"\",\"marker\":{\"color\":[68,68,91,45,23,18,13,28,92,93,115,104,80,92,38,26,90,73,53,71,15,47],\"coloraxis\":\"coloraxis\",\"pattern\":{\"shape\":\"\"}},\"name\":\"\",\"offsetgroup\":\"\",\"orientation\":\"v\",\"showlegend\":false,\"textposition\":\"auto\",\"x\":[\"Di\",\"Kj\\u00e6rlighedens Komedie\",\"Kejser og Galil\\u00e6er\",\"Fruen fra havet\",\"Hedda Gabler\",\"Catilina, 1. Versjon\",\"Gildet paa Solhoug, 1. versjon\",\"Fru Inger til \\u00d8steraad, 1. versjon\",\"H\\u00e6rm\\u00e6ndene p\\u00e5 Helgeland\",\"Kj\\u00e6mpeh\\u00f8ien\",\"Brand\",\"Peer Gynt\",\"De unges Forbund\",\"Samfundets st\\u00f8tter\",\"Fru Inger til \\u00d8str\\u00e5t, 2. versjon\",\"Catilina, 2. versjon\",\"Et dukkehjem\",\"Gengangere\",\"Fru Inger til \\u00d8str\\u00e5t\",\"Vildanden\",\"Gildet p\\u00e5 Solhaug, 2. versjon\",\"R\"],\"xaxis\":\"x\",\"y\":[68,68,91,45,23,18,13,28,92,93,115,104,80,92,38,26,90,73,53,71,15,47],\"yaxis\":\"y\",\"type\":\"bar\"}],                        {\"template\":{\"data\":{\"histogram2dcontour\":[{\"type\":\"histogram2dcontour\",\"colorbar\":{\"outlinewidth\":0,\"ticks\":\"\"},\"colorscale\":[[0.0,\"#0d0887\"],[0.1111111111111111,\"#46039f\"],[0.2222222222222222,\"#7201a8\"],[0.3333333333333333,\"#9c179e\"],[0.4444444444444444,\"#bd3786\"],[0.5555555555555556,\"#d8576b\"],[0.6666666666666666,\"#ed7953\"],[0.7777777777777778,\"#fb9f3a\"],[0.8888888888888888,\"#fdca26\"],[1.0,\"#f0f921\"]]}],\"choropleth\":[{\"type\":\"choropleth\",\"colorbar\":{\"outlinewidth\":0,\"ticks\":\"\"}}],\"histogram2d\":[{\"type\":\"histogram2d\",\"colorbar\":{\"outlinewidth\":0,\"ticks\":\"\"},\"colorscale\":[[0.0,\"#0d0887\"],[0.1111111111111111,\"#46039f\"],[0.2222222222222222,\"#7201a8\"],[0.3333333333333333,\"#9c179e\"],[0.4444444444444444,\"#bd3786\"],[0.5555555555555556,\"#d8576b\"],[0.6666666666666666,\"#ed7953\"],[0.7777777777777778,\"#fb9f3a\"],[0.8888888888888888,\"#fdca26\"],[1.0,\"#f0f921\"]]}],\"heatmap\":[{\"type\":\"heatmap\",\"colorbar\":{\"outlinewidth\":0,\"ticks\":\"\"},\"colorscale\":[[0.0,\"#0d0887\"],[0.1111111111111111,\"#46039f\"],[0.2222222222222222,\"#7201a8\"],[0.3333333333333333,\"#9c179e\"],[0.4444444444444444,\"#bd3786\"],[0.5555555555555556,\"#d8576b\"],[0.6666666666666666,\"#ed7953\"],[0.7777777777777778,\"#fb9f3a\"],[0.8888888888888888,\"#fdca26\"],[1.0,\"#f0f921\"]]}],\"heatmapgl\":[{\"type\":\"heatmapgl\",\"colorbar\":{\"outlinewidth\":0,\"ticks\":\"\"},\"colorscale\":[[0.0,\"#0d0887\"],[0.1111111111111111,\"#46039f\"],[0.2222222222222222,\"#7201a8\"],[0.3333333333333333,\"#9c179e\"],[0.4444444444444444,\"#bd3786\"],[0.5555555555555556,\"#d8576b\"],[0.6666666666666666,\"#ed7953\"],[0.7777777777777778,\"#fb9f3a\"],[0.8888888888888888,\"#fdca26\"],[1.0,\"#f0f921\"]]}],\"contourcarpet\":[{\"type\":\"contourcarpet\",\"colorbar\":{\"outlinewidth\":0,\"ticks\":\"\"}}],\"contour\":[{\"type\":\"contour\",\"colorbar\":{\"outlinewidth\":0,\"ticks\":\"\"},\"colorscale\":[[0.0,\"#0d0887\"],[0.1111111111111111,\"#46039f\"],[0.2222222222222222,\"#7201a8\"],[0.3333333333333333,\"#9c179e\"],[0.4444444444444444,\"#bd3786\"],[0.5555555555555556,\"#d8576b\"],[0.6666666666666666,\"#ed7953\"],[0.7777777777777778,\"#fb9f3a\"],[0.8888888888888888,\"#fdca26\"],[1.0,\"#f0f921\"]]}],\"surface\":[{\"type\":\"surface\",\"colorbar\":{\"outlinewidth\":0,\"ticks\":\"\"},\"colorscale\":[[0.0,\"#0d0887\"],[0.1111111111111111,\"#46039f\"],[0.2222222222222222,\"#7201a8\"],[0.3333333333333333,\"#9c179e\"],[0.4444444444444444,\"#bd3786\"],[0.5555555555555556,\"#d8576b\"],[0.6666666666666666,\"#ed7953\"],[0.7777777777777778,\"#fb9f3a\"],[0.8888888888888888,\"#fdca26\"],[1.0,\"#f0f921\"]]}],\"mesh3d\":[{\"type\":\"mesh3d\",\"colorbar\":{\"outlinewidth\":0,\"ticks\":\"\"}}],\"scatter\":[{\"fillpattern\":{\"fillmode\":\"overlay\",\"size\":10,\"solidity\":0.2},\"type\":\"scatter\"}],\"parcoords\":[{\"type\":\"parcoords\",\"line\":{\"colorbar\":{\"outlinewidth\":0,\"ticks\":\"\"}}}],\"scatterpolargl\":[{\"type\":\"scatterpolargl\",\"marker\":{\"colorbar\":{\"outlinewidth\":0,\"ticks\":\"\"}}}],\"bar\":[{\"error_x\":{\"color\":\"#2a3f5f\"},\"error_y\":{\"color\":\"#2a3f5f\"},\"marker\":{\"line\":{\"color\":\"#E5ECF6\",\"width\":0.5},\"pattern\":{\"fillmode\":\"overlay\",\"size\":10,\"solidity\":0.2}},\"type\":\"bar\"}],\"scattergeo\":[{\"type\":\"scattergeo\",\"marker\":{\"colorbar\":{\"outlinewidth\":0,\"ticks\":\"\"}}}],\"scatterpolar\":[{\"type\":\"scatterpolar\",\"marker\":{\"colorbar\":{\"outlinewidth\":0,\"ticks\":\"\"}}}],\"histogram\":[{\"marker\":{\"pattern\":{\"fillmode\":\"overlay\",\"size\":10,\"solidity\":0.2}},\"type\":\"histogram\"}],\"scattergl\":[{\"type\":\"scattergl\",\"marker\":{\"colorbar\":{\"outlinewidth\":0,\"ticks\":\"\"}}}],\"scatter3d\":[{\"type\":\"scatter3d\",\"line\":{\"colorbar\":{\"outlinewidth\":0,\"ticks\":\"\"}},\"marker\":{\"colorbar\":{\"outlinewidth\":0,\"ticks\":\"\"}}}],\"scattermapbox\":[{\"type\":\"scattermapbox\",\"marker\":{\"colorbar\":{\"outlinewidth\":0,\"ticks\":\"\"}}}],\"scatterternary\":[{\"type\":\"scatterternary\",\"marker\":{\"colorbar\":{\"outlinewidth\":0,\"ticks\":\"\"}}}],\"scattercarpet\":[{\"type\":\"scattercarpet\",\"marker\":{\"colorbar\":{\"outlinewidth\":0,\"ticks\":\"\"}}}],\"carpet\":[{\"aaxis\":{\"endlinecolor\":\"#2a3f5f\",\"gridcolor\":\"white\",\"linecolor\":\"white\",\"minorgridcolor\":\"white\",\"startlinecolor\":\"#2a3f5f\"},\"baxis\":{\"endlinecolor\":\"#2a3f5f\",\"gridcolor\":\"white\",\"linecolor\":\"white\",\"minorgridcolor\":\"white\",\"startlinecolor\":\"#2a3f5f\"},\"type\":\"carpet\"}],\"table\":[{\"cells\":{\"fill\":{\"color\":\"#EBF0F8\"},\"line\":{\"color\":\"white\"}},\"header\":{\"fill\":{\"color\":\"#C8D4E3\"},\"line\":{\"color\":\"white\"}},\"type\":\"table\"}],\"barpolar\":[{\"marker\":{\"line\":{\"color\":\"#E5ECF6\",\"width\":0.5},\"pattern\":{\"fillmode\":\"overlay\",\"size\":10,\"solidity\":0.2}},\"type\":\"barpolar\"}],\"pie\":[{\"automargin\":true,\"type\":\"pie\"}]},\"layout\":{\"autotypenumbers\":\"strict\",\"colorway\":[\"#636efa\",\"#EF553B\",\"#00cc96\",\"#ab63fa\",\"#FFA15A\",\"#19d3f3\",\"#FF6692\",\"#B6E880\",\"#FF97FF\",\"#FECB52\"],\"font\":{\"color\":\"#2a3f5f\"},\"hovermode\":\"closest\",\"hoverlabel\":{\"align\":\"left\"},\"paper_bgcolor\":\"white\",\"plot_bgcolor\":\"#E5ECF6\",\"polar\":{\"bgcolor\":\"#E5ECF6\",\"angularaxis\":{\"gridcolor\":\"white\",\"linecolor\":\"white\",\"ticks\":\"\"},\"radialaxis\":{\"gridcolor\":\"white\",\"linecolor\":\"white\",\"ticks\":\"\"}},\"ternary\":{\"bgcolor\":\"#E5ECF6\",\"aaxis\":{\"gridcolor\":\"white\",\"linecolor\":\"white\",\"ticks\":\"\"},\"baxis\":{\"gridcolor\":\"white\",\"linecolor\":\"white\",\"ticks\":\"\"},\"caxis\":{\"gridcolor\":\"white\",\"linecolor\":\"white\",\"ticks\":\"\"}},\"coloraxis\":{\"colorbar\":{\"outlinewidth\":0,\"ticks\":\"\"}},\"colorscale\":{\"sequential\":[[0.0,\"#0d0887\"],[0.1111111111111111,\"#46039f\"],[0.2222222222222222,\"#7201a8\"],[0.3333333333333333,\"#9c179e\"],[0.4444444444444444,\"#bd3786\"],[0.5555555555555556,\"#d8576b\"],[0.6666666666666666,\"#ed7953\"],[0.7777777777777778,\"#fb9f3a\"],[0.8888888888888888,\"#fdca26\"],[1.0,\"#f0f921\"]],\"sequentialminus\":[[0.0,\"#0d0887\"],[0.1111111111111111,\"#46039f\"],[0.2222222222222222,\"#7201a8\"],[0.3333333333333333,\"#9c179e\"],[0.4444444444444444,\"#bd3786\"],[0.5555555555555556,\"#d8576b\"],[0.6666666666666666,\"#ed7953\"],[0.7777777777777778,\"#fb9f3a\"],[0.8888888888888888,\"#fdca26\"],[1.0,\"#f0f921\"]],\"diverging\":[[0,\"#8e0152\"],[0.1,\"#c51b7d\"],[0.2,\"#de77ae\"],[0.3,\"#f1b6da\"],[0.4,\"#fde0ef\"],[0.5,\"#f7f7f7\"],[0.6,\"#e6f5d0\"],[0.7,\"#b8e186\"],[0.8,\"#7fbc41\"],[0.9,\"#4d9221\"],[1,\"#276419\"]]},\"xaxis\":{\"gridcolor\":\"white\",\"linecolor\":\"white\",\"ticks\":\"\",\"title\":{\"standoff\":15},\"zerolinecolor\":\"white\",\"automargin\":true,\"zerolinewidth\":2},\"yaxis\":{\"gridcolor\":\"white\",\"linecolor\":\"white\",\"ticks\":\"\",\"title\":{\"standoff\":15},\"zerolinecolor\":\"white\",\"automargin\":true,\"zerolinewidth\":2},\"scene\":{\"xaxis\":{\"backgroundcolor\":\"#E5ECF6\",\"gridcolor\":\"white\",\"linecolor\":\"white\",\"showbackground\":true,\"ticks\":\"\",\"zerolinecolor\":\"white\",\"gridwidth\":2},\"yaxis\":{\"backgroundcolor\":\"#E5ECF6\",\"gridcolor\":\"white\",\"linecolor\":\"white\",\"showbackground\":true,\"ticks\":\"\",\"zerolinecolor\":\"white\",\"gridwidth\":2},\"zaxis\":{\"backgroundcolor\":\"#E5ECF6\",\"gridcolor\":\"white\",\"linecolor\":\"white\",\"showbackground\":true,\"ticks\":\"\",\"zerolinecolor\":\"white\",\"gridwidth\":2}},\"shapedefaults\":{\"line\":{\"color\":\"#2a3f5f\"}},\"annotationdefaults\":{\"arrowcolor\":\"#2a3f5f\",\"arrowhead\":0,\"arrowwidth\":1},\"geo\":{\"bgcolor\":\"white\",\"landcolor\":\"#E5ECF6\",\"subunitcolor\":\"white\",\"showland\":true,\"showlakes\":true,\"lakecolor\":\"white\"},\"title\":{\"x\":0.05},\"mapbox\":{\"style\":\"light\"}}},\"xaxis\":{\"anchor\":\"y\",\"domain\":[0.0,1.0],\"title\":{\"text\":\"Works mentioned\"},\"categoryorder\":\"total ascending\",\"tickangle\":45},\"yaxis\":{\"anchor\":\"x\",\"domain\":[0.0,1.0],\"title\":{\"text\":\"Times mentioned\"}},\"coloraxis\":{\"colorbar\":{\"title\":{\"text\":\"color\"}},\"colorscale\":[[0.0,\"#0d0887\"],[0.1111111111111111,\"#46039f\"],[0.2222222222222222,\"#7201a8\"],[0.3333333333333333,\"#9c179e\"],[0.4444444444444444,\"#bd3786\"],[0.5555555555555556,\"#d8576b\"],[0.6666666666666666,\"#ed7953\"],[0.7777777777777778,\"#fb9f3a\"],[0.8888888888888888,\"#fdca26\"],[1.0,\"#f0f921\"]],\"showscale\":false},\"legend\":{\"tracegroupgap\":0},\"title\":{\"text\":\"Ibsen's mentions of his own works through correspondence\"},\"barmode\":\"relative\",\"height\":800,\"width\":1200,\"showlegend\":false},                        {\"responsive\": true}                    ).then(function(){\n",
       "                            \n",
       "var gd = document.getElementById('ca939c83-f4c8-429f-b483-51373d8ee4f3');\n",
       "var x = new MutationObserver(function (mutations, observer) {{\n",
       "        var display = window.getComputedStyle(gd).display;\n",
       "        if (!display || display === 'none') {{\n",
       "            console.log([gd, 'removed!']);\n",
       "            Plotly.purge(gd);\n",
       "            observer.disconnect();\n",
       "        }}\n",
       "}});\n",
       "\n",
       "// Listen for the removal of the full notebook cells\n",
       "var notebookContainer = gd.closest('#notebook-container');\n",
       "if (notebookContainer) {{\n",
       "    x.observe(notebookContainer, {childList: true});\n",
       "}}\n",
       "\n",
       "// Listen for the clearing of the current output cell\n",
       "var outputEl = gd.closest('.output');\n",
       "if (outputEl) {{\n",
       "    x.observe(outputEl, {childList: true});\n",
       "}}\n",
       "\n",
       "                        })                };                });            </script>        </div>"
      ]
     },
     "metadata": {},
     "output_type": "display_data"
    }
   ],
   "source": [
    "import plotly.express as px\n",
    "#df = px.data.iris()\n",
    "fig = px.bar(x=xvals, y=yvals, color=yvals, width=1200, height=800,\n",
    "                title=\"Ibsen's mentions of his own works through correspondence\",\n",
    "                labels=dict(x=\"Works mentioned\", y=\"Times mentioned\"))\n",
    "fig.update_xaxes(categoryorder='total ascending')\n",
    "fig.update_xaxes(tickangle=45)\n",
    "fig.update_layout(showlegend=False)\n",
    "fig.update_coloraxes(showscale=False)\n",
    "#fig.update_xaxes(categoryorder='array', categoryarray=['January', 'February', 'March', 'April', 'May', 'June', 'July', 'August', 'September', 'October', 'November', 'December'])\n",
    "fig.show()"
   ]
  },
  {
   "cell_type": "code",
   "execution_count": null,
   "id": "02bdc3a4",
   "metadata": {},
   "outputs": [],
   "source": [
    "source = ColumnDataSource(dfZ)\n",
    "\n",
    "p = figure(title=\"ÅÅÅÅÅÅÅÅÅÅÅÅÅÅÅ\", x_axis_label='date', y_axis_label='work')\n",
    "i = 0\n",
    "\n",
    "for val in xvals:\n",
    "    p.scatter(x=val,y=yvals[i], legend_label=val, line_width=1, source=source)\n",
    "    i+=1\n",
    "show(p)"
   ]
  },
  {
   "cell_type": "code",
   "execution_count": null,
   "id": "bf457b2c",
   "metadata": {},
   "outputs": [],
   "source": [
    "dfX = dfX.set_index('datetimes',drop=False)"
   ]
  },
  {
   "cell_type": "markdown",
   "id": "d3eff817",
   "metadata": {},
   "source": [
    "# DEBUG LAND\n",
    "~~1857 257 40 | 3130 943 0?~~\n",
    "1857 257 189 | 3130 943 0?\n",
    ">:|\n",
    "\n",
    "Personfilen angir tallene over som (kumulativt) (addr.|ment.) M1852, F260, O203  |  M3562 F1073 O0. Se under...\n",
    "\n",
    "1. Oops. Liten skriveleif førte til at others_addressed ble veldig lavt. Fikset nå til 189."
   ]
  },
  {
   "cell_type": "code",
   "execution_count": null,
   "id": "9f72be98",
   "metadata": {},
   "outputs": [],
   "source": [
    "raise KeyboardInterrupt\n",
    "personer.groupby(\"sex\").sum() # teller ikke når sex == 0....."
   ]
  },
  {
   "cell_type": "code",
   "execution_count": null,
   "id": "8d20eb03",
   "metadata": {},
   "outputs": [],
   "source": [
    "totaladdrs2=0\n",
    "totalmentions2=0\n",
    "for recs in personer['receiveds']:\n",
    "    totaladdrs2+=recs\n",
    "for mens in personer['mentions']:\n",
    "    totalmentions2+=mens\n",
    "print(\"Fra script:\",totaladdrs,totalmentions) # Hvor mange mottakere og nevnte personer skriptet henter\n",
    "print(\" vs\")\n",
    "print(\"Fra personfilen:\",totaladdrs2,totalmentions2,\"... hmmmm.\") # Hvor mange mottakere og nevnte personer personregisteret hevder det er"
   ]
  },
  {
   "cell_type": "markdown",
   "id": "303dc1bf",
   "metadata": {},
   "source": [
    "Daaaa er det nok noe som er feil et sted. Enten har brevfilen ikke alle brev, eller så har personregisteret feil, eller so har ikke brevfilen alle mentions."
   ]
  },
  {
   "cell_type": "code",
   "execution_count": null,
   "id": "0910d599",
   "metadata": {},
   "outputs": [],
   "source": []
  }
 ],
 "metadata": {
  "kernelspec": {
   "display_name": "Python 3",
   "language": "python",
   "name": "python3"
  },
  "language_info": {
   "codemirror_mode": {
    "name": "ipython",
    "version": 3
   },
   "file_extension": ".py",
   "mimetype": "text/x-python",
   "name": "python",
   "nbconvert_exporter": "python",
   "pygments_lexer": "ipython3",
   "version": "3.8.8"
  }
 },
 "nbformat": 4,
 "nbformat_minor": 5
}
